{
 "cells": [
  {
   "cell_type": "code",
   "execution_count": 2,
   "metadata": {},
   "outputs": [
    {
     "ename": "ModuleNotFoundError",
     "evalue": "No module named 'shapefile'",
     "output_type": "error",
     "traceback": [
      "\u001b[0;31m---------------------------------------------------------------------------\u001b[0m",
      "\u001b[0;31mModuleNotFoundError\u001b[0m                       Traceback (most recent call last)",
      "\u001b[0;32m<ipython-input-2-00c228b2f3df>\u001b[0m in \u001b[0;36m<module>\u001b[0;34m\u001b[0m\n\u001b[1;32m      1\u001b[0m \u001b[0;32mimport\u001b[0m \u001b[0mplotly\u001b[0m\u001b[0;34m.\u001b[0m\u001b[0mfigure_factory\u001b[0m \u001b[0;32mas\u001b[0m \u001b[0mff\u001b[0m\u001b[0;34m\u001b[0m\u001b[0;34m\u001b[0m\u001b[0m\n\u001b[1;32m      2\u001b[0m \u001b[0;32mimport\u001b[0m \u001b[0mpandas\u001b[0m \u001b[0;32mas\u001b[0m \u001b[0mpd\u001b[0m\u001b[0;34m\u001b[0m\u001b[0;34m\u001b[0m\u001b[0m\n\u001b[0;32m----> 3\u001b[0;31m \u001b[0;32mimport\u001b[0m \u001b[0mshapefile\u001b[0m\u001b[0;34m\u001b[0m\u001b[0;34m\u001b[0m\u001b[0m\n\u001b[0m\u001b[1;32m      4\u001b[0m \u001b[0;32mimport\u001b[0m \u001b[0mnumpy\u001b[0m \u001b[0;32mas\u001b[0m \u001b[0mnp\u001b[0m\u001b[0;34m\u001b[0m\u001b[0;34m\u001b[0m\u001b[0m\n\u001b[1;32m      5\u001b[0m \u001b[0;32mimport\u001b[0m \u001b[0mmatplotlib\u001b[0m \u001b[0;32mas\u001b[0m \u001b[0mmpl\u001b[0m\u001b[0;34m\u001b[0m\u001b[0;34m\u001b[0m\u001b[0m\n",
      "\u001b[0;31mModuleNotFoundError\u001b[0m: No module named 'shapefile'"
     ]
    }
   ],
   "source": [
    "import plotly.figure_factory as ff\n",
    "import pandas as pd\n",
    "import shapefile\n",
    "import numpy as np\n",
    "import matplotlib as mpl\n",
    "import matplotlib.pyplot as plt"
   ]
  },
  {
   "cell_type": "code",
   "execution_count": 19,
   "metadata": {},
   "outputs": [],
   "source": [
    "sf = shapefile.Reader('../data/gadm36_CHN_shp/gadm36_CHN_2.shp')"
   ]
  },
  {
   "cell_type": "code",
   "execution_count": 20,
   "metadata": {},
   "outputs": [
    {
     "data": {
      "text/plain": [
       "Record #-1: ['CHN', 'China', 'CHN.1_1', 'Anhui', '安徽|安徽', 'CHN.1.1_1', 'Anqing', 'Ānqìng', '安庆市', 'Dìjíshì', 'Prefecture City', '', '']"
      ]
     },
     "execution_count": 20,
     "metadata": {},
     "output_type": "execute_result"
    }
   ],
   "source": [
    "geomet = sf.shapeRecords()\n",
    "first = geomet[0]\n",
    "first.shape.points\n",
    "first.record"
   ]
  },
  {
   "cell_type": "code",
   "execution_count": 25,
   "metadata": {},
   "outputs": [
    {
     "name": "stdout",
     "output_type": "stream",
     "text": [
      "344\n"
     ]
    }
   ],
   "source": [
    "print(len(sf.shapes()))"
   ]
  },
  {
   "cell_type": "code",
   "execution_count": 32,
   "metadata": {},
   "outputs": [],
   "source": [
    "shape_ex = sf.shape(5)"
   ]
  },
  {
   "cell_type": "code",
   "execution_count": 34,
   "metadata": {},
   "outputs": [],
   "source": [
    "x_lon = np.zeros((len(shape_ex.points),1))\n",
    "y_lat = np.zeros((len(shape_ex.points),1))\n",
    "for ip in range(len(shape_ex.points)):\n",
    "    x_lon[ip] = shape_ex.points[ip][0]\n",
    "    y_lat[ip] = shape_ex.points[ip][1]"
   ]
  },
  {
   "cell_type": "code",
   "execution_count": 40,
   "metadata": {},
   "outputs": [
    {
     "data": {
      "text/plain": [
       "[<matplotlib.lines.Line2D at 0x7f50706bc7c0>]"
      ]
     },
     "execution_count": 40,
     "metadata": {},
     "output_type": "execute_result"
    },
    {
     "data": {
      "image/png": "[encoded data removed]",
      "text/plain": [
       "<Figure size 432x288 with 1 Axes>"
      ]
     },
     "metadata": {
      "needs_background": "light"
     },
     "output_type": "display_data"
    }
   ],
   "source": [
    "plt.plot(x_lon,y_lat,'k')"
   ]
  },
  {
   "cell_type": "code",
   "execution_count": null,
   "metadata": {},
   "outputs": [],
   "source": [
    "plt.figure()\n",
    "ax = plt.axes() # add the axes\n",
    "ax.set_aspect('equal')\n",
    "\n",
    "for shape in list(sf.iterShapes()):\n",
    "    npoints=len(shape.points) # total points\n",
    "    nparts = len(shape.parts) # total parts\n",
    "\n",
    "    if nparts == 1:\n",
    "       x_lon = np.zeros((len(shape.points),1))\n",
    "       y_lat = np.zeros((len(shape.points),1))\n",
    "       for ip in range(len(shape.points)):\n",
    "           x_lon[ip] = shape.points[ip][0]\n",
    "           y_lat[ip] = shape.points[ip][1]\n",
    "       plt.plot(x_lon,y_lat)\n",
    "\n",
    "    else: # loop over parts of each shape, plot separately\n",
    "       for ip in range(nparts): # loop over parts, plot separately\n",
    "           i0=shape.parts[ip]\n",
    "           if ip < nparts-1:\n",
    "              i1 = shape.parts[ip+1]-1\n",
    "          else:\n",
    "              i1 = npoints\n",
    "\n",
    "         seg=shape.points[i0:i1+1]\n",
    "         x_lon = np.zeros((len(seg),1))\n",
    "         y_lat = np.zeros((len(seg),1))\n",
    "         for ip in range(len(seg)):\n",
    "             x_lon[ip] = seg[ip][0]\n",
    "             y_lat[ip] = seg[ip][1]\n",
    "\n",
    "         plt.plot(x_lon,y_lat)\n",
    "\n",
    "plt.xlim(-130,-60)\n",
    "plt.ylim(23,50)\n",
    "plt.show()"
   ]
  }
 ],
 "metadata": {
  "kernelspec": {
   "display_name": "Python 3",
   "language": "python",
   "name": "python3"
  },
  "language_info": {
   "codemirror_mode": {
    "name": "ipython",
    "version": 3
   },
   "file_extension": ".py",
   "mimetype": "text/x-python",
   "name": "python",
   "nbconvert_exporter": "python",
   "pygments_lexer": "ipython3",
   "version": "3.9.2"
  }
 },
 "nbformat": 4,
 "nbformat_minor": 4
}
