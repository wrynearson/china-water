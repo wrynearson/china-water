{
 "cells": [
  {
   "cell_type": "markdown",
   "metadata": {},
   "source": [
    "# Water Quality, Perception and Knowledge in China\n",
    "## Master's thesis data for Tsinghua University"
   ]
  },
  {
   "cell_type": "markdown",
   "metadata": {},
   "source": [
    "This document is the data analysis of water quality, water quality perception, and water quality knowledge in China. The analysis is driven primarily by two datasets - water quality (2017, per prefecture) and a national general social survey (China General Social Survey, 2010) with an environmental module.\n",
    "\n",
    "Several questions are examined:\n",
    "- How do peoples perception of water quality (importance, status, severity, their knowledge, etc) align with actual water quality?\n",
    "- Is there a correlation between water quality and perception of water quality? (I.e. do perceptions and reality match)?\n",
    "- Does knowledge of water quality affect perception? \n",
    "- Does general education affect perception?\n",
    "\n",
    "This document show the progression of analysis, thus not all cells and text are relevant to the final findings of this thesis.\n",
    "\n",
    "<div class=\"alert alert-block alert-info\">\n",
    "<b>Note:</b> Work in progress (Jan 31, 2021).</div>"
   ]
  },
  {
   "cell_type": "markdown",
   "metadata": {},
   "source": [
    "---"
   ]
  },
  {
   "cell_type": "markdown",
   "metadata": {},
   "source": [
    "## Table of Contents"
   ]
  },
  {
   "cell_type": "markdown",
   "metadata": {},
   "source": [
    "[Load Data](#Load-Data)  \n",
    "[Initial Data Exploration](#Initial-Data-Exploration)  \n",
    "[Combining Data](#Combining-Data)  \n",
    "[Individual Data Analysis](#Individual-Data-Analysis)"
   ]
  },
  {
   "cell_type": "markdown",
   "metadata": {},
   "source": [
    "---"
   ]
  },
  {
   "cell_type": "markdown",
   "metadata": {},
   "source": [
    "## Load Data"
   ]
  },
  {
   "cell_type": "code",
   "execution_count": 2,
   "metadata": {},
   "outputs": [],
   "source": [
    "import pandas as pd\n",
    "from pandas import DataFrame\n",
    "import matplotlib as mpl\n",
    "import seaborn as sns \n",
    "import matplotlib.pyplot as plt\n",
    "import numpy as np\n",
    "import statsmodels\n",
    "import statsmodels.api as sm\n",
    "import statsmodels.formula.api as smf\n",
    "from statsmodels.multivariate.manova import MANOVA\n",
    "import sklearn\n",
    "from sklearn import preprocessing"
   ]
  },
  {
   "cell_type": "code",
   "execution_count": 3,
   "metadata": {},
   "outputs": [],
   "source": [
    "# Returns ALL columns when displaying DataFrame, useful for finding column names\n",
    "pd.set_option('display.max_columns', None)"
   ]
  },
  {
   "cell_type": "markdown",
   "metadata": {},
   "source": [
    "### 1. China General Social Survey (2010)"
   ]
  },
  {
   "cell_type": "markdown",
   "metadata": {},
   "source": [
    "The first dataset is the China General Social Survey (CGSS), an annual national comprehensive survey consisting of demographic data, social indicators, and rotating modules. The year 2010 is used since it is the latest published which includes the environmental module, 20+ questions about quality of the environment, peoples' thoughts on the importance of the environment, the severity of environmental degredation, etc. (more details below).\n",
    "\n",
    "http://cgss.ruc.edu.cn/index.php?r=index/index&hl=en"
   ]
  },
  {
   "cell_type": "code",
   "execution_count": 4,
   "metadata": {},
   "outputs": [
    {
     "name": "stdout",
     "output_type": "stream",
     "text": [
      "<class 'pandas.core.frame.DataFrame'>\n",
      "Int64Index: 11783 entries, 0 to 11782\n",
      "Columns: 871 entries, id to dataversion\n",
      "dtypes: float32(64), float64(576), int16(16), int8(215)\n",
      "memory usage: 57.5 MB\n"
     ]
    }
   ],
   "source": [
    "# Load cgss2010 Stata file, display the first 5 rows (.head())\n",
    "cgss = pd.read_stata('../data/cgss2010_12.dta', convert_categoricals=False)\n",
    "cgss.info()"
   ]
  },
  {
   "cell_type": "markdown",
   "metadata": {},
   "source": [
    "#### General Demographics\n",
    "s41 - province codes\n",
    "\n",
    "a2 - gender\n",
    "\n",
    "a3a - birth year\n",
    "\n",
    "a3b - birth month\n",
    "\n",
    "a3c - birth date\n",
    "\n",
    "a7a - highest current level of education\n",
    "\n",
    "a8a - personal total income\n",
    "\n",
    "a15 - subjective physical health\n",
    "\n",
    "a62 - family total income (2009)\n",
    "\n",
    "a91 - rural / agricultural household *(1=yes, 2=no)*\n",
    "\n",
    "a92 - rural / agricultural household *(1=yes, 2=no) (verified by surveyor)*\n",
    "\n",
    "\n",
    "#### Environmental Module (Part L)\n",
    "l1a - \"In your opinion, in terms of the current situation in our country, which of the following issues is the most important?\" **(4 = environment)**\n",
    "\n",
    "l1b - *like l1a, but 2nd most important*\n",
    "\n",
    "l6a - \"In your opinion, in terms of the current situation in our country, which of the following issues is the most important?\" *(1 = not at all, 5 = very concerned)*\n",
    "\n",
    "l6b - How serious are env. problems facing China? *(1 = very, 5 = not at all)*\n",
    "\n",
    "l7a - Which is most important env. issue in China? **(4 = water pollution)**\n",
    "\n",
    "l7b - Which has greatest impact on you/family? **(4 = water pollution)**\n",
    "\n",
    "l8a - Knowledge of causes of environmental problems from ?l7\n",
    "\n",
    "l8b - Knowledge of solutions of environmental problems from ?l7\n",
    "\n",
    "l12a - \"In order to protect the environment, to what extent are you willing to pay a higher price?\" *(1 = very willing, 5 = very reluctant)*\n",
    "\n",
    "l12b - *like l12a, but with higher taxes*\n",
    "\n",
    "l12c - like l12a/b, but with willingness to lower living standards\n",
    "\n",
    "l137 - \"Environmental issues directly affect my daily life\" *(1 = disagree, 5 = agree)*\n",
    "\n",
    "l14d - \"How do you think the pollution of rivers, rivers and lakes in China is harmful to the environment?\" *(1 = extremely, 5 = not at all)*\n",
    "\n",
    "l15a/b - *see question, about statements of responsibility for environmental protection (individuals/companies, government, etc.)*\n",
    "\n",
    "l16c - \"In terms of solving environmental problems in your area, how do you think the local government has done in the past five years?\" *(1 = ignored, 5 = successful)*\n",
    "\n",
    "l20e - \"Do you often save water or reuse water specifically for environmental protection?\" *(1 = always, 4 = never)*\n",
    "\n",
    "l2409 - \"In the domestic water pollution report, the water quality of Category V (5) is better than that of Category I (1)\" *(1 = correct, 2 = incorrect, 8 = cannot choose)*\n"
   ]
  },
  {
   "cell_type": "code",
   "execution_count": 5,
   "metadata": {},
   "outputs": [],
   "source": [
    "important_questions = ['score','s41','a2','a3a','a3b','a3c','a7a','a8a','a15','a62','a91','a92','l1a','l1b','l6a','l7a','l7b','l8a','l8b','l12a','l12b','l12c','l137','l14d','l15a','l15b','l16c','l20e','l2409']"
   ]
  },
  {
   "cell_type": "markdown",
   "metadata": {},
   "source": [
    "Below is a subset of only important questions from the environmental module (including and omitting`s41`)"
   ]
  },
  {
   "cell_type": "code",
   "execution_count": 6,
   "metadata": {},
   "outputs": [],
   "source": [
    "environment = ['s41','l1a','l1b','l6a','l7a','l7b','l8a','l8b','l12a','l12b','l12c','l137','l14d','l15a','l15b','l16c','l20e','l2409']"
   ]
  },
  {
   "cell_type": "code",
   "execution_count": 7,
   "metadata": {},
   "outputs": [],
   "source": [
    "part_l = ['l1a','l1b','l6a','l7a','l7b','l8a','l8b','l12a','l12b','l12c','l137','l14d','l15a','l15b','l16c','l20e','l2409']"
   ]
  },
  {
   "cell_type": "markdown",
   "metadata": {},
   "source": [
    "*For some reason, I need to manually copy the list of important column codes. They are the same as the `important questions` above.*"
   ]
  },
  {
   "cell_type": "code",
   "execution_count": 8,
   "metadata": {},
   "outputs": [
    {
     "data": {
      "text/html": [
       "<div>\n",
       "<style scoped>\n",
       "    .dataframe tbody tr th:only-of-type {\n",
       "        vertical-align: middle;\n",
       "    }\n",
       "\n",
       "    .dataframe tbody tr th {\n",
       "        vertical-align: top;\n",
       "    }\n",
       "\n",
       "    .dataframe thead th {\n",
       "        text-align: right;\n",
       "    }\n",
       "</style>\n",
       "<table border=\"1\" class=\"dataframe\">\n",
       "  <thead>\n",
       "    <tr style=\"text-align: right;\">\n",
       "      <th></th>\n",
       "      <th>s41</th>\n",
       "      <th>a2</th>\n",
       "      <th>a3a</th>\n",
       "      <th>a3b</th>\n",
       "      <th>a3c</th>\n",
       "      <th>a7a</th>\n",
       "      <th>a8a</th>\n",
       "      <th>a15</th>\n",
       "      <th>a62</th>\n",
       "      <th>a91</th>\n",
       "      <th>a92</th>\n",
       "      <th>l1a</th>\n",
       "      <th>l1b</th>\n",
       "      <th>l6a</th>\n",
       "      <th>l7a</th>\n",
       "      <th>l7b</th>\n",
       "      <th>l8a</th>\n",
       "      <th>l8b</th>\n",
       "      <th>l12a</th>\n",
       "      <th>l12b</th>\n",
       "      <th>l12c</th>\n",
       "      <th>l137</th>\n",
       "      <th>l14d</th>\n",
       "      <th>l15a</th>\n",
       "      <th>l15b</th>\n",
       "      <th>l16c</th>\n",
       "      <th>l20e</th>\n",
       "      <th>l2409</th>\n",
       "    </tr>\n",
       "  </thead>\n",
       "  <tbody>\n",
       "    <tr>\n",
       "      <th>count</th>\n",
       "      <td>11783.000000</td>\n",
       "      <td>11783.000000</td>\n",
       "      <td>11783.000000</td>\n",
       "      <td>11783.000000</td>\n",
       "      <td>11783.000000</td>\n",
       "      <td>11783.000000</td>\n",
       "      <td>11783.000</td>\n",
       "      <td>11783.000000</td>\n",
       "      <td>11783.00</td>\n",
       "      <td>11782.000000</td>\n",
       "      <td>6694.000000</td>\n",
       "      <td>3672.000000</td>\n",
       "      <td>3672.000000</td>\n",
       "      <td>3672.000000</td>\n",
       "      <td>3672.000000</td>\n",
       "      <td>3672.000000</td>\n",
       "      <td>3672.000000</td>\n",
       "      <td>3672.000000</td>\n",
       "      <td>3672.000000</td>\n",
       "      <td>3672.000000</td>\n",
       "      <td>3672.000000</td>\n",
       "      <td>3672.000000</td>\n",
       "      <td>3672.000000</td>\n",
       "      <td>3672.000000</td>\n",
       "      <td>3672.000000</td>\n",
       "      <td>3672.000000</td>\n",
       "      <td>3672.000000</td>\n",
       "      <td>3672.000000</td>\n",
       "    </tr>\n",
       "    <tr>\n",
       "      <th>mean</th>\n",
       "      <td>15.366205</td>\n",
       "      <td>1.518204</td>\n",
       "      <td>1962.196809</td>\n",
       "      <td>6.590512</td>\n",
       "      <td>14.806331</td>\n",
       "      <td>4.840703</td>\n",
       "      <td>1395715.625</td>\n",
       "      <td>3.606891</td>\n",
       "      <td>1266528.50</td>\n",
       "      <td>1.565948</td>\n",
       "      <td>1.898267</td>\n",
       "      <td>9.581155</td>\n",
       "      <td>10.884532</td>\n",
       "      <td>3.720316</td>\n",
       "      <td>14.029956</td>\n",
       "      <td>13.319989</td>\n",
       "      <td>2.920752</td>\n",
       "      <td>2.583333</td>\n",
       "      <td>3.280229</td>\n",
       "      <td>3.543028</td>\n",
       "      <td>3.572440</td>\n",
       "      <td>3.820534</td>\n",
       "      <td>2.913943</td>\n",
       "      <td>3.227669</td>\n",
       "      <td>3.192810</td>\n",
       "      <td>3.463780</td>\n",
       "      <td>2.482026</td>\n",
       "      <td>6.352397</td>\n",
       "    </tr>\n",
       "    <tr>\n",
       "      <th>std</th>\n",
       "      <td>8.865554</td>\n",
       "      <td>0.499690</td>\n",
       "      <td>35.062692</td>\n",
       "      <td>3.472828</td>\n",
       "      <td>8.585052</td>\n",
       "      <td>2.998698</td>\n",
       "      <td>3442447.500</td>\n",
       "      <td>1.139152</td>\n",
       "      <td>3271839.25</td>\n",
       "      <td>0.504143</td>\n",
       "      <td>0.396405</td>\n",
       "      <td>23.114167</td>\n",
       "      <td>25.581364</td>\n",
       "      <td>1.133402</td>\n",
       "      <td>29.785397</td>\n",
       "      <td>28.256381</td>\n",
       "      <td>1.539628</td>\n",
       "      <td>1.583291</td>\n",
       "      <td>1.863691</td>\n",
       "      <td>1.877130</td>\n",
       "      <td>1.766908</td>\n",
       "      <td>1.606539</td>\n",
       "      <td>1.994326</td>\n",
       "      <td>2.708164</td>\n",
       "      <td>2.632461</td>\n",
       "      <td>2.159607</td>\n",
       "      <td>1.031619</td>\n",
       "      <td>2.881289</td>\n",
       "    </tr>\n",
       "    <tr>\n",
       "      <th>min</th>\n",
       "      <td>1.000000</td>\n",
       "      <td>1.000000</td>\n",
       "      <td>-3.000000</td>\n",
       "      <td>-3.000000</td>\n",
       "      <td>-3.000000</td>\n",
       "      <td>-3.000000</td>\n",
       "      <td>0.000</td>\n",
       "      <td>-3.000000</td>\n",
       "      <td>0.00</td>\n",
       "      <td>-3.000000</td>\n",
       "      <td>-3.000000</td>\n",
       "      <td>-3.000000</td>\n",
       "      <td>-3.000000</td>\n",
       "      <td>-3.000000</td>\n",
       "      <td>-3.000000</td>\n",
       "      <td>-3.000000</td>\n",
       "      <td>-3.000000</td>\n",
       "      <td>-3.000000</td>\n",
       "      <td>-3.000000</td>\n",
       "      <td>-3.000000</td>\n",
       "      <td>-3.000000</td>\n",
       "      <td>-3.000000</td>\n",
       "      <td>-3.000000</td>\n",
       "      <td>-3.000000</td>\n",
       "      <td>-3.000000</td>\n",
       "      <td>-3.000000</td>\n",
       "      <td>-3.000000</td>\n",
       "      <td>-3.000000</td>\n",
       "    </tr>\n",
       "    <tr>\n",
       "      <th>25%</th>\n",
       "      <td>7.000000</td>\n",
       "      <td>1.000000</td>\n",
       "      <td>1952.000000</td>\n",
       "      <td>3.000000</td>\n",
       "      <td>8.000000</td>\n",
       "      <td>3.000000</td>\n",
       "      <td>4000.000</td>\n",
       "      <td>3.000000</td>\n",
       "      <td>15000.00</td>\n",
       "      <td>1.000000</td>\n",
       "      <td>2.000000</td>\n",
       "      <td>1.000000</td>\n",
       "      <td>1.000000</td>\n",
       "      <td>3.000000</td>\n",
       "      <td>1.000000</td>\n",
       "      <td>2.000000</td>\n",
       "      <td>2.000000</td>\n",
       "      <td>2.000000</td>\n",
       "      <td>2.000000</td>\n",
       "      <td>2.000000</td>\n",
       "      <td>2.000000</td>\n",
       "      <td>3.000000</td>\n",
       "      <td>2.000000</td>\n",
       "      <td>2.000000</td>\n",
       "      <td>2.000000</td>\n",
       "      <td>2.000000</td>\n",
       "      <td>2.000000</td>\n",
       "      <td>2.000000</td>\n",
       "    </tr>\n",
       "    <tr>\n",
       "      <th>50%</th>\n",
       "      <td>15.000000</td>\n",
       "      <td>2.000000</td>\n",
       "      <td>1964.000000</td>\n",
       "      <td>7.000000</td>\n",
       "      <td>15.000000</td>\n",
       "      <td>4.000000</td>\n",
       "      <td>12000.000</td>\n",
       "      <td>4.000000</td>\n",
       "      <td>30000.00</td>\n",
       "      <td>2.000000</td>\n",
       "      <td>2.000000</td>\n",
       "      <td>2.000000</td>\n",
       "      <td>2.000000</td>\n",
       "      <td>4.000000</td>\n",
       "      <td>4.000000</td>\n",
       "      <td>4.000000</td>\n",
       "      <td>3.000000</td>\n",
       "      <td>2.000000</td>\n",
       "      <td>3.000000</td>\n",
       "      <td>3.000000</td>\n",
       "      <td>4.000000</td>\n",
       "      <td>4.000000</td>\n",
       "      <td>2.000000</td>\n",
       "      <td>2.000000</td>\n",
       "      <td>2.000000</td>\n",
       "      <td>3.000000</td>\n",
       "      <td>3.000000</td>\n",
       "      <td>8.000000</td>\n",
       "    </tr>\n",
       "    <tr>\n",
       "      <th>75%</th>\n",
       "      <td>22.000000</td>\n",
       "      <td>2.000000</td>\n",
       "      <td>1974.000000</td>\n",
       "      <td>10.000000</td>\n",
       "      <td>22.000000</td>\n",
       "      <td>6.000000</td>\n",
       "      <td>30000.000</td>\n",
       "      <td>4.000000</td>\n",
       "      <td>61104.00</td>\n",
       "      <td>2.000000</td>\n",
       "      <td>2.000000</td>\n",
       "      <td>6.000000</td>\n",
       "      <td>6.000000</td>\n",
       "      <td>4.000000</td>\n",
       "      <td>6.000000</td>\n",
       "      <td>6.000000</td>\n",
       "      <td>4.000000</td>\n",
       "      <td>3.000000</td>\n",
       "      <td>4.000000</td>\n",
       "      <td>4.000000</td>\n",
       "      <td>4.000000</td>\n",
       "      <td>5.000000</td>\n",
       "      <td>3.000000</td>\n",
       "      <td>2.000000</td>\n",
       "      <td>2.000000</td>\n",
       "      <td>4.000000</td>\n",
       "      <td>3.000000</td>\n",
       "      <td>8.000000</td>\n",
       "    </tr>\n",
       "    <tr>\n",
       "      <th>max</th>\n",
       "      <td>31.000000</td>\n",
       "      <td>2.000000</td>\n",
       "      <td>1993.000000</td>\n",
       "      <td>12.000000</td>\n",
       "      <td>31.000000</td>\n",
       "      <td>14.000000</td>\n",
       "      <td>9999999.000</td>\n",
       "      <td>5.000000</td>\n",
       "      <td>9999999.00</td>\n",
       "      <td>2.000000</td>\n",
       "      <td>2.000000</td>\n",
       "      <td>98.000000</td>\n",
       "      <td>98.000000</td>\n",
       "      <td>8.000000</td>\n",
       "      <td>98.000000</td>\n",
       "      <td>98.000000</td>\n",
       "      <td>8.000000</td>\n",
       "      <td>8.000000</td>\n",
       "      <td>8.000000</td>\n",
       "      <td>8.000000</td>\n",
       "      <td>8.000000</td>\n",
       "      <td>8.000000</td>\n",
       "      <td>8.000000</td>\n",
       "      <td>8.000000</td>\n",
       "      <td>8.000000</td>\n",
       "      <td>8.000000</td>\n",
       "      <td>4.000000</td>\n",
       "      <td>8.000000</td>\n",
       "    </tr>\n",
       "  </tbody>\n",
       "</table>\n",
       "</div>"
      ],
      "text/plain": [
       "                s41            a2           a3a           a3b           a3c  \\\n",
       "count  11783.000000  11783.000000  11783.000000  11783.000000  11783.000000   \n",
       "mean      15.366205      1.518204   1962.196809      6.590512     14.806331   \n",
       "std        8.865554      0.499690     35.062692      3.472828      8.585052   \n",
       "min        1.000000      1.000000     -3.000000     -3.000000     -3.000000   \n",
       "25%        7.000000      1.000000   1952.000000      3.000000      8.000000   \n",
       "50%       15.000000      2.000000   1964.000000      7.000000     15.000000   \n",
       "75%       22.000000      2.000000   1974.000000     10.000000     22.000000   \n",
       "max       31.000000      2.000000   1993.000000     12.000000     31.000000   \n",
       "\n",
       "                a7a          a8a           a15         a62           a91  \\\n",
       "count  11783.000000    11783.000  11783.000000    11783.00  11782.000000   \n",
       "mean       4.840703  1395715.625      3.606891  1266528.50      1.565948   \n",
       "std        2.998698  3442447.500      1.139152  3271839.25      0.504143   \n",
       "min       -3.000000        0.000     -3.000000        0.00     -3.000000   \n",
       "25%        3.000000     4000.000      3.000000    15000.00      1.000000   \n",
       "50%        4.000000    12000.000      4.000000    30000.00      2.000000   \n",
       "75%        6.000000    30000.000      4.000000    61104.00      2.000000   \n",
       "max       14.000000  9999999.000      5.000000  9999999.00      2.000000   \n",
       "\n",
       "               a92          l1a          l1b          l6a          l7a  \\\n",
       "count  6694.000000  3672.000000  3672.000000  3672.000000  3672.000000   \n",
       "mean      1.898267     9.581155    10.884532     3.720316    14.029956   \n",
       "std       0.396405    23.114167    25.581364     1.133402    29.785397   \n",
       "min      -3.000000    -3.000000    -3.000000    -3.000000    -3.000000   \n",
       "25%       2.000000     1.000000     1.000000     3.000000     1.000000   \n",
       "50%       2.000000     2.000000     2.000000     4.000000     4.000000   \n",
       "75%       2.000000     6.000000     6.000000     4.000000     6.000000   \n",
       "max       2.000000    98.000000    98.000000     8.000000    98.000000   \n",
       "\n",
       "               l7b          l8a          l8b         l12a         l12b  \\\n",
       "count  3672.000000  3672.000000  3672.000000  3672.000000  3672.000000   \n",
       "mean     13.319989     2.920752     2.583333     3.280229     3.543028   \n",
       "std      28.256381     1.539628     1.583291     1.863691     1.877130   \n",
       "min      -3.000000    -3.000000    -3.000000    -3.000000    -3.000000   \n",
       "25%       2.000000     2.000000     2.000000     2.000000     2.000000   \n",
       "50%       4.000000     3.000000     2.000000     3.000000     3.000000   \n",
       "75%       6.000000     4.000000     3.000000     4.000000     4.000000   \n",
       "max      98.000000     8.000000     8.000000     8.000000     8.000000   \n",
       "\n",
       "              l12c         l137         l14d         l15a         l15b  \\\n",
       "count  3672.000000  3672.000000  3672.000000  3672.000000  3672.000000   \n",
       "mean      3.572440     3.820534     2.913943     3.227669     3.192810   \n",
       "std       1.766908     1.606539     1.994326     2.708164     2.632461   \n",
       "min      -3.000000    -3.000000    -3.000000    -3.000000    -3.000000   \n",
       "25%       2.000000     3.000000     2.000000     2.000000     2.000000   \n",
       "50%       4.000000     4.000000     2.000000     2.000000     2.000000   \n",
       "75%       4.000000     5.000000     3.000000     2.000000     2.000000   \n",
       "max       8.000000     8.000000     8.000000     8.000000     8.000000   \n",
       "\n",
       "              l16c         l20e        l2409  \n",
       "count  3672.000000  3672.000000  3672.000000  \n",
       "mean      3.463780     2.482026     6.352397  \n",
       "std       2.159607     1.031619     2.881289  \n",
       "min      -3.000000    -3.000000    -3.000000  \n",
       "25%       2.000000     2.000000     2.000000  \n",
       "50%       3.000000     3.000000     8.000000  \n",
       "75%       4.000000     3.000000     8.000000  \n",
       "max       8.000000     4.000000     8.000000  "
      ]
     },
     "execution_count": 8,
     "metadata": {},
     "output_type": "execute_result"
    }
   ],
   "source": [
    "cgss_important = cgss[['s41','a2','a3a','a3b','a3c','a7a','a8a','a15','a62','a91','a92','l1a','l1b','l6a','l7a','l7b','l8a','l8b','l12a','l12b','l12c','l137','l14d','l15a','l15b','l16c','l20e','l2409']]\n",
    "cgss_important.describe()"
   ]
  },
  {
   "cell_type": "markdown",
   "metadata": {},
   "source": [
    "#### Very Limited Subset of Questions (for initial analysis)"
   ]
  },
  {
   "cell_type": "markdown",
   "metadata": {},
   "source": [
    "This only includes the most important questions,"
   ]
  },
  {
   "cell_type": "code",
   "execution_count": 9,
   "metadata": {},
   "outputs": [],
   "source": [
    "columns_strict = ['s41','l14d','l2409']"
   ]
  },
  {
   "cell_type": "code",
   "execution_count": 10,
   "metadata": {},
   "outputs": [],
   "source": [
    "cgss_strict = cgss[columns_strict]"
   ]
  },
  {
   "cell_type": "markdown",
   "metadata": {},
   "source": [
    "Only include the strict set of 3 columns"
   ]
  },
  {
   "cell_type": "markdown",
   "metadata": {},
   "source": [
    "The survey uses geographic identifiers in columns s41 (and I think s42-44). However, only province level information is released, due to privacy concerns (see [this link](http://cgss.ruc.edu.cn/index.php?r=index/artabout&aid=18)). They are listed below, in a dictionary (Chinese)"
   ]
  },
  {
   "cell_type": "code",
   "execution_count": 11,
   "metadata": {},
   "outputs": [
    {
     "data": {
      "text/html": [
       "<div>\n",
       "<style scoped>\n",
       "    .dataframe tbody tr th:only-of-type {\n",
       "        vertical-align: middle;\n",
       "    }\n",
       "\n",
       "    .dataframe tbody tr th {\n",
       "        vertical-align: top;\n",
       "    }\n",
       "\n",
       "    .dataframe thead th {\n",
       "        text-align: right;\n",
       "    }\n",
       "</style>\n",
       "<table border=\"1\" class=\"dataframe\">\n",
       "  <thead>\n",
       "    <tr style=\"text-align: right;\">\n",
       "      <th></th>\n",
       "      <th>province_full</th>\n",
       "      <th>province</th>\n",
       "      <th>province_en</th>\n",
       "    </tr>\n",
       "    <tr>\n",
       "      <th>s41</th>\n",
       "      <th></th>\n",
       "      <th></th>\n",
       "      <th></th>\n",
       "    </tr>\n",
       "  </thead>\n",
       "  <tbody>\n",
       "    <tr>\n",
       "      <th>1</th>\n",
       "      <td>上海市</td>\n",
       "      <td>上海</td>\n",
       "      <td>Shanghai</td>\n",
       "    </tr>\n",
       "    <tr>\n",
       "      <th>2</th>\n",
       "      <td>云南省</td>\n",
       "      <td>云南</td>\n",
       "      <td>Yunnan</td>\n",
       "    </tr>\n",
       "    <tr>\n",
       "      <th>3</th>\n",
       "      <td>内蒙古自治区</td>\n",
       "      <td>内蒙古</td>\n",
       "      <td>Inner Mongolia</td>\n",
       "    </tr>\n",
       "    <tr>\n",
       "      <th>4</th>\n",
       "      <td>北京市</td>\n",
       "      <td>北京</td>\n",
       "      <td>Beijing</td>\n",
       "    </tr>\n",
       "    <tr>\n",
       "      <th>5</th>\n",
       "      <td>吉林省</td>\n",
       "      <td>吉林</td>\n",
       "      <td>Jilin</td>\n",
       "    </tr>\n",
       "    <tr>\n",
       "      <th>6</th>\n",
       "      <td>四川省</td>\n",
       "      <td>四川</td>\n",
       "      <td>Sichuan</td>\n",
       "    </tr>\n",
       "    <tr>\n",
       "      <th>7</th>\n",
       "      <td>天津市</td>\n",
       "      <td>天津</td>\n",
       "      <td>Tianjin</td>\n",
       "    </tr>\n",
       "    <tr>\n",
       "      <th>8</th>\n",
       "      <td>宁夏回族自治区</td>\n",
       "      <td>宁夏</td>\n",
       "      <td>Ningxia</td>\n",
       "    </tr>\n",
       "    <tr>\n",
       "      <th>9</th>\n",
       "      <td>安徽省</td>\n",
       "      <td>安徽</td>\n",
       "      <td>Anhui</td>\n",
       "    </tr>\n",
       "    <tr>\n",
       "      <th>10</th>\n",
       "      <td>山东省</td>\n",
       "      <td>山东</td>\n",
       "      <td>Shandong</td>\n",
       "    </tr>\n",
       "    <tr>\n",
       "      <th>11</th>\n",
       "      <td>山西省</td>\n",
       "      <td>山西</td>\n",
       "      <td>Shanxi</td>\n",
       "    </tr>\n",
       "    <tr>\n",
       "      <th>12</th>\n",
       "      <td>广东省</td>\n",
       "      <td>广东</td>\n",
       "      <td>Guangdong</td>\n",
       "    </tr>\n",
       "    <tr>\n",
       "      <th>13</th>\n",
       "      <td>广西壮族自治区</td>\n",
       "      <td>广西</td>\n",
       "      <td>Guangxi</td>\n",
       "    </tr>\n",
       "    <tr>\n",
       "      <th>14</th>\n",
       "      <td>新疆维吾尔自治区</td>\n",
       "      <td>新疆</td>\n",
       "      <td>Xinjiang</td>\n",
       "    </tr>\n",
       "    <tr>\n",
       "      <th>15</th>\n",
       "      <td>江苏省</td>\n",
       "      <td>江苏</td>\n",
       "      <td>Jiangsu</td>\n",
       "    </tr>\n",
       "    <tr>\n",
       "      <th>16</th>\n",
       "      <td>江西省</td>\n",
       "      <td>江西</td>\n",
       "      <td>Jiangxi</td>\n",
       "    </tr>\n",
       "    <tr>\n",
       "      <th>17</th>\n",
       "      <td>河北省</td>\n",
       "      <td>河北</td>\n",
       "      <td>Hebei</td>\n",
       "    </tr>\n",
       "    <tr>\n",
       "      <th>18</th>\n",
       "      <td>河南省</td>\n",
       "      <td>河南</td>\n",
       "      <td>Henan</td>\n",
       "    </tr>\n",
       "    <tr>\n",
       "      <th>19</th>\n",
       "      <td>浙江省</td>\n",
       "      <td>浙江</td>\n",
       "      <td>Zhejiang</td>\n",
       "    </tr>\n",
       "    <tr>\n",
       "      <th>20</th>\n",
       "      <td>海南省</td>\n",
       "      <td>海南</td>\n",
       "      <td>Hainan</td>\n",
       "    </tr>\n",
       "    <tr>\n",
       "      <th>21</th>\n",
       "      <td>湖北省</td>\n",
       "      <td>湖北</td>\n",
       "      <td>Hubei</td>\n",
       "    </tr>\n",
       "    <tr>\n",
       "      <th>22</th>\n",
       "      <td>湖南省</td>\n",
       "      <td>湖南</td>\n",
       "      <td>Hunan</td>\n",
       "    </tr>\n",
       "    <tr>\n",
       "      <th>23</th>\n",
       "      <td>甘肃省</td>\n",
       "      <td>甘肃</td>\n",
       "      <td>Gansu</td>\n",
       "    </tr>\n",
       "    <tr>\n",
       "      <th>24</th>\n",
       "      <td>福建省</td>\n",
       "      <td>福建</td>\n",
       "      <td>Fujian</td>\n",
       "    </tr>\n",
       "    <tr>\n",
       "      <th>25</th>\n",
       "      <td>西藏自治区</td>\n",
       "      <td>西藏</td>\n",
       "      <td>Tibet</td>\n",
       "    </tr>\n",
       "    <tr>\n",
       "      <th>26</th>\n",
       "      <td>贵州省</td>\n",
       "      <td>贵州</td>\n",
       "      <td>Guizhou</td>\n",
       "    </tr>\n",
       "    <tr>\n",
       "      <th>27</th>\n",
       "      <td>辽宁省</td>\n",
       "      <td>辽宁</td>\n",
       "      <td>Liaoning</td>\n",
       "    </tr>\n",
       "    <tr>\n",
       "      <th>28</th>\n",
       "      <td>重庆市</td>\n",
       "      <td>重庆</td>\n",
       "      <td>Chongqing</td>\n",
       "    </tr>\n",
       "    <tr>\n",
       "      <th>29</th>\n",
       "      <td>陕西省</td>\n",
       "      <td>陕西</td>\n",
       "      <td>Shaanxi</td>\n",
       "    </tr>\n",
       "    <tr>\n",
       "      <th>30</th>\n",
       "      <td>青海省</td>\n",
       "      <td>青海</td>\n",
       "      <td>Qinghai</td>\n",
       "    </tr>\n",
       "    <tr>\n",
       "      <th>31</th>\n",
       "      <td>黑龙江省</td>\n",
       "      <td>黑龙江</td>\n",
       "      <td>Heilongjiang</td>\n",
       "    </tr>\n",
       "  </tbody>\n",
       "</table>\n",
       "</div>"
      ],
      "text/plain": [
       "    province_full province     province_en\n",
       "s41                                       \n",
       "1             上海市       上海        Shanghai\n",
       "2             云南省       云南          Yunnan\n",
       "3          内蒙古自治区      内蒙古  Inner Mongolia\n",
       "4             北京市       北京         Beijing\n",
       "5             吉林省       吉林           Jilin\n",
       "6             四川省       四川         Sichuan\n",
       "7             天津市       天津         Tianjin\n",
       "8         宁夏回族自治区       宁夏         Ningxia\n",
       "9             安徽省       安徽           Anhui\n",
       "10            山东省       山东        Shandong\n",
       "11            山西省       山西          Shanxi\n",
       "12            广东省       广东       Guangdong\n",
       "13        广西壮族自治区       广西         Guangxi\n",
       "14       新疆维吾尔自治区       新疆        Xinjiang\n",
       "15            江苏省       江苏         Jiangsu\n",
       "16            江西省       江西         Jiangxi\n",
       "17            河北省       河北           Hebei\n",
       "18            河南省       河南           Henan\n",
       "19            浙江省       浙江        Zhejiang\n",
       "20            海南省       海南          Hainan\n",
       "21            湖北省       湖北           Hubei\n",
       "22            湖南省       湖南           Hunan\n",
       "23            甘肃省       甘肃           Gansu\n",
       "24            福建省       福建          Fujian\n",
       "25          西藏自治区       西藏           Tibet\n",
       "26            贵州省       贵州         Guizhou\n",
       "27            辽宁省       辽宁        Liaoning\n",
       "28            重庆市       重庆       Chongqing\n",
       "29            陕西省       陕西         Shaanxi\n",
       "30            青海省       青海         Qinghai\n",
       "31           黑龙江省      黑龙江    Heilongjiang"
      ]
     },
     "execution_count": 11,
     "metadata": {},
     "output_type": "execute_result"
    }
   ],
   "source": [
    "provinces = pd.read_csv('prov.csv')\n",
    "provinces.set_index('s41')"
   ]
  },
  {
   "cell_type": "markdown",
   "metadata": {},
   "source": [
    "---"
   ]
  },
  {
   "cell_type": "markdown",
   "metadata": {},
   "source": [
    "### 2. 2018 Blue City Water Quality Index Ranking"
   ]
  },
  {
   "cell_type": "markdown",
   "metadata": {},
   "source": [
    "The second dataset is the water quality of every prefecture (sub-province) from a 2018 publication (using 2017 measurements). **Add more details**\n",
    "\n",
    "https://wwwoa.ipe.org.cn//Upload/201909201147459274.pdf (en)"
   ]
  },
  {
   "cell_type": "code",
   "execution_count": 12,
   "metadata": {},
   "outputs": [],
   "source": [
    "wqir = pd.read_csv('../data/wqir2018_zh.csv', sep=' ', encoding = \"UTF-8\")"
   ]
  },
  {
   "cell_type": "code",
   "execution_count": 13,
   "metadata": {},
   "outputs": [],
   "source": [
    "province = wqir['province']\n",
    "score = wqir['score']\n",
    "city = wqir['city']\n",
    "category = wqir['level']"
   ]
  },
  {
   "cell_type": "markdown",
   "metadata": {},
   "source": [
    "---"
   ]
  },
  {
   "cell_type": "markdown",
   "metadata": {},
   "source": [
    "## Initial Data Exploration"
   ]
  },
  {
   "cell_type": "markdown",
   "metadata": {},
   "source": [
    "### CGSS2010"
   ]
  },
  {
   "cell_type": "markdown",
   "metadata": {},
   "source": [
    "#### Heatmap Function"
   ]
  },
  {
   "cell_type": "markdown",
   "metadata": {},
   "source": [
    "The following function asks the user to imput a column title (question code). Any column name can be entered, but for interesting results, choose one from the above list of important survey questions.\n",
    "\n",
    "Once the column name is entered, the function displays a visual heatmap of the response types by decimal (total = 1.0) on the x axis, sorted by province on the y axis.\n",
    "\n",
    "Enter `heatmap()` to execute this function."
   ]
  },
  {
   "cell_type": "code",
   "execution_count": 14,
   "metadata": {
    "jupyter": {
     "source_hidden": true
    }
   },
   "outputs": [],
   "source": [
    "def heatmap():\n",
    "    user_column = input('Enter a column code: ')\n",
    "    user = cgss[cgss[user_column] >= 1]\n",
    "    # Group by provence, count people in each province, then sort them by asceding order.\n",
    "    user_grouped = (user.groupby(['s41', user_column])\n",
    "        .size()\n",
    "        .unstack(fill_value=0)\n",
    "        .sort_index(axis=1, ascending=True)\n",
    "        )\n",
    "    user_grouped_percent=user_grouped.div(user.groupby(['s41']).size(), axis=0)\n",
    "    user_grouped_percent=user_grouped_percent.round(1)\n",
    "    fig, ax = plt.subplots()\n",
    "    sns.set_theme(\n",
    "        style=\"white\",\n",
    "        font='AR PL UMing CN',\n",
    "        font_scale=.30,\n",
    "        )\n",
    "    sns.heatmap(\n",
    "        user_grouped_percent,\n",
    "        vmin=0,\n",
    "        vmax=1,\n",
    "        yticklabels=1,\n",
    "        annot=True,\n",
    "        cmap='viridis',\n",
    "        square=True,\n",
    "        cbar=False,\n",
    "        )\n",
    "    ax.set_title(user_column)\n",
    "    plt.setp(ax.get_xticklabels(), rotation=45, ha=\"right\", rotation_mode=\"anchor\")\n",
    "    plt.setp(ax.get_yticklabels(), rotation=0, ha=\"center\", rotation_mode=\"anchor\")\n",
    "    fig.tight_layout()"
   ]
  },
  {
   "cell_type": "markdown",
   "metadata": {},
   "source": [
    "#### Count Function"
   ]
  },
  {
   "cell_type": "markdown",
   "metadata": {},
   "source": [
    "The following function does the same initial steps as the `heatmap` function, but without normalizing by the number of responses per province (it only sums the responses by type and by province).\n",
    "\n",
    "Enter `count()` to execute this function."
   ]
  },
  {
   "cell_type": "code",
   "execution_count": 15,
   "metadata": {
    "jupyter": {
     "source_hidden": true
    }
   },
   "outputs": [],
   "source": [
    "def count():\n",
    "    user_column = input('Enter a column code: ')\n",
    "    user = cgss[cgss[user_column] >= 1]\n",
    "    user_grouped = (user.groupby(['s41', user_column])\n",
    "        .size()\n",
    "        .unstack(fill_value=0)\n",
    "        .sort_index(axis=1, ascending=True)\n",
    "        )\n",
    "    return user_grouped"
   ]
  },
  {
   "cell_type": "markdown",
   "metadata": {},
   "source": [
    "#### Percent Function"
   ]
  },
  {
   "cell_type": "markdown",
   "metadata": {},
   "source": [
    "The following function is the same as the `count` function, but also normalizes per province to make quanities comparable. It's essentially the `heatmap` function without the visualization.\n",
    "\n",
    "Enter `percent()` to execute this function."
   ]
  },
  {
   "cell_type": "code",
   "execution_count": 16,
   "metadata": {
    "jupyter": {
     "source_hidden": true
    }
   },
   "outputs": [],
   "source": [
    "def percent():\n",
    "    user_column = input('Enter a column code: ')\n",
    "    user = cgss[cgss[user_column] >= 1]\n",
    "    user_grouped = (user.groupby(['s41', user_column])\n",
    "        .size()\n",
    "        .unstack(fill_value=0)\n",
    "        .sort_index(axis=1, ascending=True)\n",
    "        )\n",
    "    user_grouped_percent=user_grouped.div(user.groupby(['s41']).size(), axis=0)\n",
    "    user_grouped_percent=user_grouped_percent\n",
    "    user_grouped_percent=user_grouped_percent\n",
    "    return user_grouped_percent"
   ]
  },
  {
   "cell_type": "markdown",
   "metadata": {},
   "source": [
    "#### Individual Question Countplot"
   ]
  },
  {
   "cell_type": "markdown",
   "metadata": {},
   "source": [
    "The following function visualizes number of responses (total, not per province) for each response type of an entered column (question code).\n",
    "\n",
    "Enter `countplot()` to execute this function."
   ]
  },
  {
   "cell_type": "code",
   "execution_count": 17,
   "metadata": {
    "jupyter": {
     "source_hidden": true
    }
   },
   "outputs": [],
   "source": [
    "def countplot():\n",
    "    user_column = input('Enter a column code: ')\n",
    "    sns.countplot(\n",
    "        data=cgss,\n",
    "        x=cgss[user_column],\n",
    "        )"
   ]
  },
  {
   "cell_type": "markdown",
   "metadata": {},
   "source": [
    "---"
   ]
  },
  {
   "cell_type": "markdown",
   "metadata": {},
   "source": [
    "### 2018 Blue City Water Quality Index Ranking Visualization (WQIR2018)"
   ]
  },
  {
   "cell_type": "markdown",
   "metadata": {},
   "source": [
    "The following shows statististical information for the WQIR2018 dataset. Let's see the data, loaded above. As evident, the `Province`, `City`, `Score`, `Rank`, and the `Level` for the water quality level."
   ]
  },
  {
   "cell_type": "markdown",
   "metadata": {},
   "source": [
    "*Run `wqir.head()` to see the shape of the dataframe*"
   ]
  },
  {
   "cell_type": "markdown",
   "metadata": {},
   "source": [
    "On page 5 of the report [here](https://wwwoa.ipe.org.cn//Upload/201909201147459274.pdf) (mentioned above), the following are the score/level to water quality classes (outlined [here](http://english.mee.gov.cn/SOE/soechina1997/water/standard.htm)):\n",
    "\n",
    "| IPE Score     | IPE Level (EN)          | IPE Level (ZH) | EQ  Water |\n",
    "|:-------------:|:-----------------------:|:--------------:|:---------:|\n",
    "| 0.00 - 4.79   | Excellent               | 优             | II     |\n",
    "| 4.79 - 10.28  | Good                    | 良             |III    |\n",
    "| 10.28 - 16.85 | Moderate                | 一般           | IV     |\n",
    "| 16.85 - 24.74 | Relatively Poor         | 较差           | V       |\n",
    "| 24.70 - 50.00 | Poor                    | 差             | V      |\n",
    "\n",
    "*Note: The EQ equivalents above refer \"The total score (equivalent to the local water\n",
    "quality average) met or surpassed the requirements of Class `X` (II-V) water quality...\"*"
   ]
  },
  {
   "cell_type": "code",
   "execution_count": 18,
   "metadata": {},
   "outputs": [],
   "source": [
    "wqir_mean = wqir.groupby(by='province').agg('mean')"
   ]
  },
  {
   "cell_type": "markdown",
   "metadata": {},
   "source": [
    "The following plot visualizes the WQIR2018 values by province (y axis), with each prefecture's score lined up on the x axis. This is to visualize the range of water quality values in each province. On the top and right, two histograms count the occurances at each value (horizontal, top one bins water quality scores, while the vertical, right one bins the number of prefecture regions per province)."
   ]
  },
  {
   "cell_type": "code",
   "execution_count": 22,
   "metadata": {},
   "outputs": [
    {
     "data": {
      "image/png": "[encoded data removed]",
      "text/plain": [
       "<Figure size 432x432 with 3 Axes>"
      ]
     },
     "metadata": {},
     "output_type": "display_data"
    }
   ],
   "source": [
    "sns.set_theme(\n",
    "    style=\"ticks\",\n",
    "    font='AR PL UMing CN',\n",
    "    font_scale=.85,\n",
    "    )\n",
    "\n",
    "g = sns.JointGrid(\n",
    "    ratio=7,\n",
    "    space=.25,\n",
    "    marginal_ticks=True,\n",
    "    xlim=(0,45),\n",
    "    x=score,\n",
    "    y=province,\n",
    "    palette=\"gist_earth\",\n",
    "    hue=category,\n",
    "    data=wqir,\n",
    ") \n",
    "  \n",
    "sns.despine(trim=False, left=True, bottom=False)\n",
    "g.plot(sns.scatterplot, sns.histplot)\n",
    "# g.savefig(\"wqir2018.svg\")"
   ]
  },
  {
   "cell_type": "markdown",
   "metadata": {},
   "source": [
    "The provinces of 青海 (Qinghai), 海南 (Hainan), and 西藏 (Tibet) have good water quality which is relatively uniform. These make for good comparison with provinces with worse water quality."
   ]
  },
  {
   "cell_type": "markdown",
   "metadata": {},
   "source": [
    "---"
   ]
  },
  {
   "cell_type": "markdown",
   "metadata": {},
   "source": [
    "## Combining Data"
   ]
  },
  {
   "cell_type": "markdown",
   "metadata": {},
   "source": [
    "In this section, I will try to link the data from CGSS2010 and WQIR2018 and compare them across provinces."
   ]
  },
  {
   "cell_type": "markdown",
   "metadata": {},
   "source": [
    "## Sorting Data"
   ]
  },
  {
   "cell_type": "markdown",
   "metadata": {},
   "source": [
    "This section has the data loaded previously sorted, usually by province."
   ]
  },
  {
   "cell_type": "markdown",
   "metadata": {},
   "source": [
    "First, count the values of the `cgss_strict` df (so it's easier to deal with and understand) by province `s41`. I learned this [here](https://kanoki.org/2020/03/09/how-to-use-pandas-count-and-value_counts/)."
   ]
  },
  {
   "cell_type": "markdown",
   "metadata": {},
   "source": [
    "*Run `cgss_strict.groupby(by='s41').agg('count')` to see the number of responses per province*"
   ]
  },
  {
   "cell_type": "markdown",
   "metadata": {},
   "source": [
    "### `l14d`"
   ]
  },
  {
   "cell_type": "markdown",
   "metadata": {},
   "source": [
    "Sort by response types for `l14d`, see the number of responses. Column `s41` is irrelavent, this is just to see all response types for `l14d` to check for incorrect values.\n",
    "\n",
    "Call one column `l14d`, then count instances of values with `.value_counts()`, then make a dataframe with `.to_frame()`, then sort by the response value with `.sort_index()`"
   ]
  },
  {
   "cell_type": "code",
   "execution_count": null,
   "metadata": {},
   "outputs": [],
   "source": [
    "cgss_strict['l14d'].value_counts().to_frame().sort_index()"
   ]
  },
  {
   "cell_type": "markdown",
   "metadata": {},
   "source": [
    "As we can see, there are negative values, which are not valid response types. Let's see which provinces they're in, to see if we can safely drop the values."
   ]
  },
  {
   "cell_type": "code",
   "execution_count": null,
   "metadata": {},
   "outputs": [],
   "source": [
    "cgss_strict[cgss_strict['l14d'] < 0].groupby(by='s41').agg('count')"
   ]
  },
  {
   "cell_type": "markdown",
   "metadata": {},
   "source": [
    "### `l2409`"
   ]
  },
  {
   "cell_type": "markdown",
   "metadata": {},
   "source": [
    "repeat"
   ]
  },
  {
   "cell_type": "code",
   "execution_count": null,
   "metadata": {},
   "outputs": [],
   "source": [
    "cgss_strict['l2409'].value_counts().to_frame().sort_index()"
   ]
  },
  {
   "cell_type": "code",
   "execution_count": null,
   "metadata": {},
   "outputs": [],
   "source": [
    "cgss_strict[cgss_strict['l2409'] < 0].groupby(by='s41').agg('count')"
   ]
  },
  {
   "cell_type": "markdown",
   "metadata": {},
   "source": [
    "---"
   ]
  },
  {
   "cell_type": "markdown",
   "metadata": {},
   "source": [
    "For the first question `l14d`, the negative values are fairly spread out between columns. It's safe to drop them.\n"
   ]
  },
  {
   "cell_type": "markdown",
   "metadata": {},
   "source": [
    "However, for `l2409`, they make up a large proportion of the total response values for province 25, which is Tibet. As seen below, filtered just for Tibet for question l2409, 17/19 responses are invalid. Because water quality for Tibet also isn't included, we're forced to remove it from this analysis."
   ]
  },
  {
   "cell_type": "code",
   "execution_count": null,
   "metadata": {},
   "outputs": [],
   "source": [
    "cgss_strict[cgss_strict['s41']==25].groupby('l2409').agg('count')"
   ]
  },
  {
   "cell_type": "markdown",
   "metadata": {},
   "source": [
    "The response value of 8 refers to \"cannot choose\", so for now, let's drop those (it may be important later)"
   ]
  },
  {
   "cell_type": "markdown",
   "metadata": {},
   "source": [
    "Let's drop the two problmatic values -3 and -2, and 8, group by province again, and calculate the mean.\n",
    "\n",
    "## **If I filter out 8, then Ningxia province get's taken out... find a fix**"
   ]
  },
  {
   "cell_type": "code",
   "execution_count": null,
   "metadata": {},
   "outputs": [],
   "source": [
    "cgss_strict_mean = cgss_strict.replace([-3,-2,],).groupby(by='s41').agg('mean')"
   ]
  },
  {
   "cell_type": "markdown",
   "metadata": {},
   "source": [
    "### Merge Data"
   ]
  },
  {
   "cell_type": "markdown",
   "metadata": {},
   "source": [
    "The following merges the `wqir_mean` values with the `provinces` dataframe."
   ]
  },
  {
   "cell_type": "code",
   "execution_count": null,
   "metadata": {},
   "outputs": [],
   "source": [
    "merge = pd.merge(wqir_mean, provinces, on='province')"
   ]
  },
  {
   "cell_type": "markdown",
   "metadata": {},
   "source": [
    "Add water quality mean (per province) to each individual row:"
   ]
  },
  {
   "cell_type": "markdown",
   "metadata": {},
   "source": [
    "Then, the `cgss_strict_clean` values are merged in. (I didn't know how to do this in one step)"
   ]
  },
  {
   "cell_type": "code",
   "execution_count": null,
   "metadata": {},
   "outputs": [],
   "source": [
    "merged = pd.merge(merge,cgss_strict_mean,on='s41')"
   ]
  },
  {
   "cell_type": "markdown",
   "metadata": {},
   "source": [
    "Quick check to see if there are visible trends..."
   ]
  },
  {
   "cell_type": "code",
   "execution_count": null,
   "metadata": {},
   "outputs": [],
   "source": [
    "sns.scatterplot(\n",
    "    x='score',\n",
    "    y='l14d',\n",
    "    data=merged,\n",
    ")"
   ]
  },
  {
   "cell_type": "markdown",
   "metadata": {},
   "source": [
    "---"
   ]
  },
  {
   "cell_type": "markdown",
   "metadata": {},
   "source": [
    "Now, let's do this with the larger `cgss_important` dataframe:"
   ]
  },
  {
   "cell_type": "markdown",
   "metadata": {},
   "source": [
    "*Trying to get a df with values as index and frequency per question (column), but can't...*"
   ]
  },
  {
   "cell_type": "code",
   "execution_count": null,
   "metadata": {},
   "outputs": [],
   "source": [
    "cgss_part_l = cgss_important[part_l]\n",
    "for column in cgss_part_l:\n",
    "    counts = cgss_part_l[column].value_counts()\n",
    "    counts.append(counts)"
   ]
  },
  {
   "cell_type": "markdown",
   "metadata": {},
   "source": [
    "Create the mean of all values from `cgss_important`:"
   ]
  },
  {
   "cell_type": "code",
   "execution_count": null,
   "metadata": {},
   "outputs": [],
   "source": [
    "cgss_imp_mean = cgss_important.groupby(by='s41').agg('mean')"
   ]
  },
  {
   "cell_type": "markdown",
   "metadata": {},
   "source": [
    "Merge with water quality and provinces:"
   ]
  },
  {
   "cell_type": "code",
   "execution_count": null,
   "metadata": {},
   "outputs": [],
   "source": [
    "merged_imp = pd.merge(merge,cgss_imp_mean,on='s41')"
   ]
  },
  {
   "cell_type": "markdown",
   "metadata": {},
   "source": [
    "*Play around with some correlations:*"
   ]
  },
  {
   "cell_type": "code",
   "execution_count": null,
   "metadata": {},
   "outputs": [],
   "source": [
    "corr = cgss_important.corr(method=\"pearson\")"
   ]
  },
  {
   "cell_type": "code",
   "execution_count": null,
   "metadata": {},
   "outputs": [],
   "source": [
    "corr_mean = merged_imp.corr(method=\"pearson\")"
   ]
  },
  {
   "cell_type": "markdown",
   "metadata": {},
   "source": [
    "Plot, first set the theme"
   ]
  },
  {
   "cell_type": "code",
   "execution_count": null,
   "metadata": {},
   "outputs": [],
   "source": [
    "sns.set_theme(\n",
    "    style=\"white\",\n",
    "    font='AR PL UMing CN',\n",
    "    font_scale=.2,\n",
    "    )"
   ]
  },
  {
   "cell_type": "code",
   "execution_count": null,
   "metadata": {},
   "outputs": [],
   "source": [
    "corr_hm = sns.heatmap(\n",
    "    corr,\n",
    "    vmin=-1,\n",
    "    vmax=1,\n",
    "    annot=True,\n",
    "    cmap='BrBG',\n",
    "    square=True,\n",
    "    cbar=True,\n",
    "    center=0\n",
    "    )"
   ]
  },
  {
   "cell_type": "code",
   "execution_count": null,
   "metadata": {},
   "outputs": [],
   "source": [
    "figure1 = corr_hm.get_figure()"
   ]
  },
  {
   "cell_type": "code",
   "execution_count": null,
   "metadata": {},
   "outputs": [],
   "source": [
    "corr_mean_hm = sns.heatmap(\n",
    "    corr_mean,\n",
    "    vmin=-1,\n",
    "    vmax=1,\n",
    "    center=0,\n",
    "    annot=True,\n",
    "    cmap='BrBG',\n",
    "    square=True,\n",
    "    cbar=True,\n",
    "    )"
   ]
  },
  {
   "cell_type": "raw",
   "metadata": {},
   "source": [
    "# figure2 = corr_mean_hm.get_figure()\n",
    "# figure2.savefig('corr_mean_hm.svg', dpi=800)"
   ]
  },
  {
   "cell_type": "markdown",
   "metadata": {},
   "source": [
    "Check quickly for a .37 correlation (haven't filtered out 8 value responses yet)"
   ]
  },
  {
   "cell_type": "code",
   "execution_count": null,
   "metadata": {},
   "outputs": [],
   "source": [
    "sns.set_theme(\n",
    "    style=\"white\",\n",
    "    font_scale=1,\n",
    "    )\n",
    "sns.scatterplot(\n",
    "    x='score',\n",
    "    y='l14d',\n",
    "    palette=\"gist_earth\",\n",
    "    data=merged_imp,\n",
    ")"
   ]
  },
  {
   "cell_type": "markdown",
   "metadata": {},
   "source": [
    "---"
   ]
  },
  {
   "cell_type": "markdown",
   "metadata": {},
   "source": [
    "## Individual Data Analysis"
   ]
  },
  {
   "cell_type": "markdown",
   "metadata": {},
   "source": [
    "This section adds mean water quality scores per province to each individual response of the `cgss` dataframe, thus analysis with more statistical significance can be done."
   ]
  },
  {
   "cell_type": "markdown",
   "metadata": {},
   "source": [
    "First, take only the s41 codes and wq mean scores from the `merge` dataframe, then add the water quality `score` to the main `cgss` dataframe:"
   ]
  },
  {
   "cell_type": "code",
   "execution_count": null,
   "metadata": {},
   "outputs": [],
   "source": [
    "wq = merge[['s41','score']]\n",
    "cgss_wq = pd.merge(cgss,wq,on='s41')"
   ]
  },
  {
   "cell_type": "markdown",
   "metadata": {},
   "source": [
    "This analysis will first be done on the `important` columns, from above:"
   ]
  },
  {
   "cell_type": "code",
   "execution_count": null,
   "metadata": {},
   "outputs": [],
   "source": [
    "cgss_wq_imp = cgss_wq[important_questions]\n",
    "cgss_wq_imp_clean = cgss_wq_imp.dropna()"
   ]
  },
  {
   "cell_type": "markdown",
   "metadata": {},
   "source": [
    "Filter out negative values and unknown ('8')"
   ]
  },
  {
   "cell_type": "code",
   "execution_count": null,
   "metadata": {},
   "outputs": [],
   "source": [
    "wq_imp_clean = cgss_wq_imp_clean[\n",
    "    (cgss_wq_imp_clean.l14d > 0) \n",
    "     & (cgss_wq_imp_clean.l14d < 6) \n",
    "     & (cgss_wq_imp_clean.l2409 > 0) \n",
    "     # (cgss_wq_imp_clean.l2409 < 3)\n",
    "    ]"
   ]
  },
  {
   "cell_type": "code",
   "execution_count": null,
   "metadata": {},
   "outputs": [],
   "source": [
    "clean_prov = wq_imp_clean.groupby('s41').agg('mean')"
   ]
  },
  {
   "cell_type": "code",
   "execution_count": null,
   "metadata": {},
   "outputs": [],
   "source": [
    "maov = MANOVA.from_formula('l14d + l2409 ~ s41 + score', data=wq_imp_clean)\n",
    "print(maov.mv_test())"
   ]
  },
  {
   "cell_type": "markdown",
   "metadata": {},
   "source": [
    "Conduct OLS regression with l14d dependent on gender, age (year) and income:"
   ]
  },
  {
   "cell_type": "code",
   "execution_count": null,
   "metadata": {},
   "outputs": [],
   "source": [
    "ols_perception = smf.ols('l14d ~ score + a2 + a3a + a7a', data = wq_imp_clean).fit()\n",
    "print(ols_perception.summary())"
   ]
  },
  {
   "cell_type": "markdown",
   "metadata": {},
   "source": [
    "*Think of a way to run the ols for knowledge without the l2409 = 8 values*"
   ]
  },
  {
   "cell_type": "code",
   "execution_count": null,
   "metadata": {},
   "outputs": [],
   "source": [
    "ols_knowledge = smf.ols('l2409 ~ s41 + score + a2 + a3a + a7a + a91', data = wq_imp_clean).fit()\n",
    "print(ols_knowledge.summary())"
   ]
  },
  {
   "cell_type": "markdown",
   "metadata": {},
   "source": [
    "### Initial Findings\n",
    "With P>|t| ~0.05 or less (0.055), this can be argued that an increased wq score (worse) leads to an decreased number for l14d (perceived to be more harmful)\n",
    "\n",
    "The higher the education (a7a increases), the l14d number goes down (the perceived severity increases)\n",
    "\n",
    "(The coef is negative for both, which indicates a negative relation/correlation)\n",
    "\n",
    "**Keep in `l2409` unsure (8) since it increases observations and therefore statistical power (.02 vs .055)**\n",
    "\n",
    "Thus: Water quality (score) is correlated with perception (l14d) & education (a7a) is correlated to perception, Also (not shown) education is coorelated with wq knowledge (l2409), but score is not correlated with wq knowledge."
   ]
  },
  {
   "cell_type": "markdown",
   "metadata": {},
   "source": [
    "#### Test for divergence\n",
    "Seeing if there's a correlation between the difference between perception and score, and another variable.\n",
    "\n",
    "Import main data, groupby and take mean..."
   ]
  },
  {
   "cell_type": "code",
   "execution_count": null,
   "metadata": {},
   "outputs": [],
   "source": [
    "tst = wq_imp_clean[['score','s41','l14d']].groupby('s41').agg('mean')\n",
    "tst.describe()"
   ]
  },
  {
   "cell_type": "markdown",
   "metadata": {},
   "source": [
    "Normalize the data (0-1) using code I found [here](https://stackoverflow.com/questions/26414913/normalize-columns-of-pandas-data-frame): "
   ]
  },
  {
   "cell_type": "code",
   "execution_count": null,
   "metadata": {},
   "outputs": [],
   "source": [
    "test = tst.apply(lambda x: x/x.max(), axis=0)"
   ]
  },
  {
   "cell_type": "markdown",
   "metadata": {},
   "source": [
    "Make new column with the difference between the score and perception. Perception number goes up as perceived severity goes down. Score goes up as water quality gets worse. \n",
    "\n",
    "Diff increases when the two are more different (positive if poor wq and severe perception, negative if good wq and good perception)"
   ]
  },
  {
   "cell_type": "code",
   "execution_count": null,
   "metadata": {},
   "outputs": [],
   "source": [
    "test['diff'] = test['score'] - test['l14d']\n",
    "test"
   ]
  },
  {
   "cell_type": "markdown",
   "metadata": {},
   "source": [
    "Plot difference vs wq score"
   ]
  },
  {
   "cell_type": "code",
   "execution_count": null,
   "metadata": {},
   "outputs": [],
   "source": [
    "sns.relplot(\n",
    "    data=test,\n",
    "    x=\"score\",\n",
    "    y=\"diff\",\n",
    "    hue='l14d'\n",
    "    )"
   ]
  },
  {
   "cell_type": "code",
   "execution_count": null,
   "metadata": {},
   "outputs": [],
   "source": [
    "sns.relplot(\n",
    "    data=clean_prov,\n",
    "    x='score',\n",
    "    y='l14d',\n",
    "    label='s41'\n",
    ")"
   ]
  },
  {
   "cell_type": "markdown",
   "metadata": {},
   "source": [
    "Interesting! ^"
   ]
  }
 ],
 "metadata": {
  "kernelspec": {
   "display_name": "Python 3.8.5 64-bit ('base': conda)",
   "language": "python",
   "name": "python38564bitbaseconda7d6f1c93fcf44d42a10d5ebc0f2d36ee"
  },
  "language_info": {
   "codemirror_mode": {
    "name": "ipython",
    "version": 3
   },
   "file_extension": ".py",
   "mimetype": "text/x-python",
   "name": "python",
   "nbconvert_exporter": "python",
   "pygments_lexer": "ipython3",
   "version": "3.8.5"
  }
 },
 "nbformat": 4,
 "nbformat_minor": 4
}
