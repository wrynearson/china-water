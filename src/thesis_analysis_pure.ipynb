{
 "cells": [
  {
   "cell_type": "markdown",
   "metadata": {},
   "source": [
    "# Water Quality, Perception and Knowledge in China: *Data Analysis (condensed)*"
   ]
  },
  {
   "cell_type": "markdown",
   "metadata": {},
   "source": [
    "This document is the data analysis of water quality, water quality perception, and water quality knowledge in China. The analysis is driven primarily by two datasets - water quality (2017, per prefecture) and a national general social survey (China General Social Survey, 2010) with an environmental module."
   ]
  },
  {
   "cell_type": "markdown",
   "metadata": {},
   "source": [
    "## Research Questions and Hypotheses"
   ]
  },
  {
   "cell_type": "markdown",
   "metadata": {},
   "source": [
    "| Question Number | Research Question                                                                                                       | H0 (Null Hypothesis)                                                       | H1 (Hypothesis)                                                                                                            |\n",
    "|:---------------:|:-----------------------------------------------------------------------------------------------------------------------:|:--------------------------------------------------------------------------:|:--------------------------------------------------------------------------------------------------------------------------:|\n",
    "| R1              | Is there a relationship between water quality and perception of water quality? (I.e. do perceptions and reality match)? | Worse local water quality is independent of water quality perception.      | Worse local (provincial) water quality relates to an increased perception of severity of water quality issues (`l14d`→ 1). |\n",
    "| R2              | Does knowledge of water quality affect perception?                                                                      | Increased knowledge is independent of perception.                          | An increase knowledge of water quality issues relates to an increased perception of severity.                              |\n",
    "| R3              | Does the level of obtained education relate to water quality knowledge?                                                 | Increased education is independent of knowledge of water quality.          | Increased education relates to more knowledge about water quality.                                                         |\n",
    "| R4              | Does the level of obtained education relate perception?                                                                 | Increased education is independent of an increased perception of severity. | Increased education relates to an increased perception of severity                                                         |\n",
    "| R5              | Are there differences between water quality perception, and water quality knowledge, in rural vs. urban households?     | There is no significant difference between urban and rural households.     | There is a significant difference in perception of severity of water quality issues between urban and rural households.    |\n",
    "| R6              | Is there a relationship between water quality and knowledge of water quality?                                           | There is no relation between water quality and water quality knowledge.    | There is a relation between water quality and water quality knowledge.                                                     |"
   ]
  },
  {
   "cell_type": "markdown",
   "metadata": {},
   "source": [
    "## Core Analyzed Data\n",
    "\n",
    "| Code  | English                                                                                                                                           | Chinese                                                          | Value Range (used)                           |\n",
    "|:-------:|---------------------------------------------------------------------------------------------------------------------------------------------------|------------------------------------------------------------------|----------------------------------------------|\n",
    "| s41   | Province                                                                                                                                          | 省                                                                | Range, *see data analysis*                   |\n",
    "| a2    | Gender                                                                                                                                            | 性别                                                               | 1 = male, 2 = female                         |\n",
    "| a3a   | Birth year                                                                                                                                        | 您的出生日期是什么                                                        | Birth year                                   |\n",
    "| a7a   | Highest level of obtained education                                                                                                               | 您目前的最高教育程度是                                                      | 1 = none, 13 = master's and above            |\n",
    "| a91   | Rural / agricultural household                                                                                                                    | 请问目前您或者您配偶是否为农业户口(或者户口所在地为农村),且在农村(包括家乡和其它地方)有承包的旱地、水田、山林、水面等土地? | 1 = yes, 2 = no                              |\n",
    "| l14d  | \"How do you think the pollution of rivers, rivers and lakes in China is harmful to the environment?\" (*Used to measure perception*)               | 您认为中国的江、河、湖泊的污染对环境的危害程度是?                                        | 1 = very important, 5 = not important at all |\n",
    "| l2409 | \"In the domestic water pollution report, the water quality of Category V (5) is better than that of Category I (1)\" (*Used to measure knowledge, response==2 is correct*) | 国内水体污染报告中,V(5)类水质要比I(1)类水质好                                      | 1 = correct, **2 = incorrect**               |\n"
   ]
  },
  {
   "cell_type": "markdown",
   "metadata": {},
   "source": [
    "More information about the thesis, motivation, and methodology is located in the main \"thesis_analysis.ipynb\" document."
   ]
  },
  {
   "cell_type": "markdown",
   "metadata": {},
   "source": [
    "## Load Data"
   ]
  },
  {
   "cell_type": "markdown",
   "metadata": {},
   "source": [
    "Load Python libraries"
   ]
  },
  {
   "cell_type": "code",
   "execution_count": 245,
   "metadata": {},
   "outputs": [],
   "source": [
    "import pandas as pd\n",
    "from pandas import DataFrame\n",
    "import numpy as np # for some regression visualizations\n",
    "import matplotlib as mpl\n",
    "import matplotlib.pyplot as plt # for some visualizations\n",
    "import seaborn as sns # for plots\n",
    "import statsmodels.api as sm # for statistical analysis\n",
    "import statsmodels.formula.api as smf # for statistical analysis\n",
    "from sklearn import preprocessing # for normalizing data\n",
    "import pingouin as pi # for statistical analysis"
   ]
  },
  {
   "cell_type": "code",
   "execution_count": 246,
   "metadata": {},
   "outputs": [],
   "source": [
    "# Returns ALL columns when displaying DataFrame, useful for finding column names\n",
    "pd.set_option('display.max_columns', None)"
   ]
  },
  {
   "cell_type": "code",
   "execution_count": 247,
   "metadata": {},
   "outputs": [],
   "source": [
    "# Set the standard theme for plots\n",
    "sns.set_theme(\n",
    "    # palette='twilight'\n",
    "    )\n",
    "sns.set_style(\"ticks\")\n",
    "sns.set_context(\"paper\") #scale of plots"
   ]
  },
  {
   "cell_type": "markdown",
   "metadata": {},
   "source": [
    "Load CGSS (social survey) data from a Stata file"
   ]
  },
  {
   "cell_type": "code",
   "execution_count": 248,
   "metadata": {},
   "outputs": [],
   "source": [
    "cgss = pd.read_stata('../data/cgss2010_12.dta', preserve_dtypes = True, convert_categoricals=False)"
   ]
  },
  {
   "cell_type": "markdown",
   "metadata": {},
   "source": [
    "List categorical data"
   ]
  },
  {
   "cell_type": "code",
   "execution_count": 249,
   "metadata": {},
   "outputs": [],
   "source": [
    "categoricals = [\"s41\",\"a2\",\"a91\",\"l1a\",\"l1b\",\"l7a\",\"l7b\",\"l2409\"]"
   ]
  },
  {
   "cell_type": "markdown",
   "metadata": {},
   "source": [
    "List important questions"
   ]
  },
  {
   "cell_type": "code",
   "execution_count": 250,
   "metadata": {},
   "outputs": [],
   "source": [
    "important = ['score','s41','a2','a3a','a7a','a8a','a91','l1a','l1b','l6a','l6b','l7a','l7b','l8a','l8b','l137','l14d','l15a','l15b','l16c','l20e','l2409','province','province_en']"
   ]
  },
  {
   "cell_type": "markdown",
   "metadata": {},
   "source": [
    "List utilized important demographic data"
   ]
  },
  {
   "cell_type": "code",
   "execution_count": 251,
   "metadata": {},
   "outputs": [],
   "source": [
    "demographic = ['s41','a2','a3a','a7a','a91']"
   ]
  },
  {
   "cell_type": "markdown",
   "metadata": {},
   "source": [
    "List utilized important environmental data"
   ]
  },
  {
   "cell_type": "code",
   "execution_count": 252,
   "metadata": {},
   "outputs": [],
   "source": [
    "environmental = ['s41','province','province_en','score','l1a','l1b','l6a','l6b','l7a','l7b','l8a','l8b','l14d','l2409']"
   ]
  },
  {
   "cell_type": "markdown",
   "metadata": {},
   "source": [
    "Convert categorical data into categorical data types"
   ]
  },
  {
   "cell_type": "code",
   "execution_count": 253,
   "metadata": {},
   "outputs": [
    {
     "data": {
      "text/html": [
       "<div>\n",
       "<style scoped>\n",
       "    .dataframe tbody tr th:only-of-type {\n",
       "        vertical-align: middle;\n",
       "    }\n",
       "\n",
       "    .dataframe tbody tr th {\n",
       "        vertical-align: top;\n",
       "    }\n",
       "\n",
       "    .dataframe thead th {\n",
       "        text-align: right;\n",
       "    }\n",
       "</style>\n",
       "<table border=\"1\" class=\"dataframe\">\n",
       "  <thead>\n",
       "    <tr style=\"text-align: right;\">\n",
       "      <th></th>\n",
       "      <th>s41</th>\n",
       "      <th>a2</th>\n",
       "      <th>a91</th>\n",
       "      <th>l1a</th>\n",
       "      <th>l1b</th>\n",
       "      <th>l7a</th>\n",
       "      <th>l7b</th>\n",
       "      <th>l2409</th>\n",
       "    </tr>\n",
       "  </thead>\n",
       "  <tbody>\n",
       "    <tr>\n",
       "      <th>0</th>\n",
       "      <td>28.0</td>\n",
       "      <td>2</td>\n",
       "      <td>1.0</td>\n",
       "      <td>NaN</td>\n",
       "      <td>NaN</td>\n",
       "      <td>NaN</td>\n",
       "      <td>NaN</td>\n",
       "      <td>NaN</td>\n",
       "    </tr>\n",
       "    <tr>\n",
       "      <th>1</th>\n",
       "      <td>28.0</td>\n",
       "      <td>2</td>\n",
       "      <td>1.0</td>\n",
       "      <td>NaN</td>\n",
       "      <td>NaN</td>\n",
       "      <td>NaN</td>\n",
       "      <td>NaN</td>\n",
       "      <td>NaN</td>\n",
       "    </tr>\n",
       "    <tr>\n",
       "      <th>2</th>\n",
       "      <td>28.0</td>\n",
       "      <td>2</td>\n",
       "      <td>2.0</td>\n",
       "      <td>NaN</td>\n",
       "      <td>NaN</td>\n",
       "      <td>NaN</td>\n",
       "      <td>NaN</td>\n",
       "      <td>NaN</td>\n",
       "    </tr>\n",
       "    <tr>\n",
       "      <th>3</th>\n",
       "      <td>28.0</td>\n",
       "      <td>2</td>\n",
       "      <td>2.0</td>\n",
       "      <td>8.0</td>\n",
       "      <td>2.0</td>\n",
       "      <td>98.0</td>\n",
       "      <td>98.0</td>\n",
       "      <td>8.0</td>\n",
       "    </tr>\n",
       "    <tr>\n",
       "      <th>4</th>\n",
       "      <td>28.0</td>\n",
       "      <td>1</td>\n",
       "      <td>2.0</td>\n",
       "      <td>NaN</td>\n",
       "      <td>NaN</td>\n",
       "      <td>NaN</td>\n",
       "      <td>NaN</td>\n",
       "      <td>NaN</td>\n",
       "    </tr>\n",
       "    <tr>\n",
       "      <th>...</th>\n",
       "      <td>...</td>\n",
       "      <td>...</td>\n",
       "      <td>...</td>\n",
       "      <td>...</td>\n",
       "      <td>...</td>\n",
       "      <td>...</td>\n",
       "      <td>...</td>\n",
       "      <td>...</td>\n",
       "    </tr>\n",
       "    <tr>\n",
       "      <th>11778</th>\n",
       "      <td>1.0</td>\n",
       "      <td>1</td>\n",
       "      <td>2.0</td>\n",
       "      <td>NaN</td>\n",
       "      <td>NaN</td>\n",
       "      <td>NaN</td>\n",
       "      <td>NaN</td>\n",
       "      <td>NaN</td>\n",
       "    </tr>\n",
       "    <tr>\n",
       "      <th>11779</th>\n",
       "      <td>1.0</td>\n",
       "      <td>1</td>\n",
       "      <td>2.0</td>\n",
       "      <td>NaN</td>\n",
       "      <td>NaN</td>\n",
       "      <td>NaN</td>\n",
       "      <td>NaN</td>\n",
       "      <td>NaN</td>\n",
       "    </tr>\n",
       "    <tr>\n",
       "      <th>11780</th>\n",
       "      <td>1.0</td>\n",
       "      <td>1</td>\n",
       "      <td>2.0</td>\n",
       "      <td>NaN</td>\n",
       "      <td>NaN</td>\n",
       "      <td>NaN</td>\n",
       "      <td>NaN</td>\n",
       "      <td>NaN</td>\n",
       "    </tr>\n",
       "    <tr>\n",
       "      <th>11781</th>\n",
       "      <td>1.0</td>\n",
       "      <td>1</td>\n",
       "      <td>2.0</td>\n",
       "      <td>2.0</td>\n",
       "      <td>4.0</td>\n",
       "      <td>10.0</td>\n",
       "      <td>98.0</td>\n",
       "      <td>8.0</td>\n",
       "    </tr>\n",
       "    <tr>\n",
       "      <th>11782</th>\n",
       "      <td>1.0</td>\n",
       "      <td>1</td>\n",
       "      <td>2.0</td>\n",
       "      <td>9.0</td>\n",
       "      <td>9.0</td>\n",
       "      <td>10.0</td>\n",
       "      <td>2.0</td>\n",
       "      <td>2.0</td>\n",
       "    </tr>\n",
       "  </tbody>\n",
       "</table>\n",
       "<p>11783 rows × 8 columns</p>\n",
       "</div>"
      ],
      "text/plain": [
       "        s41 a2  a91  l1a  l1b   l7a   l7b l2409\n",
       "0      28.0  2  1.0  NaN  NaN   NaN   NaN   NaN\n",
       "1      28.0  2  1.0  NaN  NaN   NaN   NaN   NaN\n",
       "2      28.0  2  2.0  NaN  NaN   NaN   NaN   NaN\n",
       "3      28.0  2  2.0  8.0  2.0  98.0  98.0   8.0\n",
       "4      28.0  1  2.0  NaN  NaN   NaN   NaN   NaN\n",
       "...     ... ..  ...  ...  ...   ...   ...   ...\n",
       "11778   1.0  1  2.0  NaN  NaN   NaN   NaN   NaN\n",
       "11779   1.0  1  2.0  NaN  NaN   NaN   NaN   NaN\n",
       "11780   1.0  1  2.0  NaN  NaN   NaN   NaN   NaN\n",
       "11781   1.0  1  2.0  2.0  4.0  10.0  98.0   8.0\n",
       "11782   1.0  1  2.0  9.0  9.0  10.0   2.0   2.0\n",
       "\n",
       "[11783 rows x 8 columns]"
      ]
     },
     "execution_count": 253,
     "metadata": {},
     "output_type": "execute_result"
    }
   ],
   "source": [
    "cgss[categoricals].astype('category')"
   ]
  },
  {
   "cell_type": "markdown",
   "metadata": {},
   "source": [
    "Load province data from a .csv, set province code as the index"
   ]
  },
  {
   "cell_type": "code",
   "execution_count": 254,
   "metadata": {},
   "outputs": [],
   "source": [
    "provinces = pd.read_csv('prov.csv')"
   ]
  },
  {
   "cell_type": "markdown",
   "metadata": {},
   "source": [
    "Load water quality data"
   ]
  },
  {
   "cell_type": "code",
   "execution_count": 255,
   "metadata": {},
   "outputs": [],
   "source": [
    "wqir = pd.read_csv('../data/wqir2018_zh.csv', sep=' ', encoding = \"UTF-8\")"
   ]
  },
  {
   "cell_type": "markdown",
   "metadata": {},
   "source": [
    "---"
   ]
  },
  {
   "cell_type": "markdown",
   "metadata": {},
   "source": [
    "## Merge data into one dataframe"
   ]
  },
  {
   "cell_type": "markdown",
   "metadata": {},
   "source": [
    "Group the water quality data (WQIR) by province and compute the mean"
   ]
  },
  {
   "cell_type": "code",
   "execution_count": 256,
   "metadata": {},
   "outputs": [],
   "source": [
    "wqir_mean = wqir.groupby(by='province').agg('mean')"
   ]
  },
  {
   "cell_type": "markdown",
   "metadata": {},
   "source": [
    "Merge the mean water quality per province and the province dataframe (matching names and province codes)"
   ]
  },
  {
   "cell_type": "code",
   "execution_count": 257,
   "metadata": {},
   "outputs": [],
   "source": [
    "merge = pd.merge(wqir_mean, provinces, on='province')"
   ]
  },
  {
   "cell_type": "markdown",
   "metadata": {},
   "source": [
    "Drop rank column, merge the previously merged column into the main cgss dataframe so that each entry has the mean water score from their province, plus the names of their province (Chinese short and full and English)."
   ]
  },
  {
   "cell_type": "code",
   "execution_count": 258,
   "metadata": {},
   "outputs": [],
   "source": [
    "wq = merge[['s41','score','province','province_full','province_en']]\n",
    "cgss_wq_full = pd.merge(cgss,wq,on='s41')"
   ]
  },
  {
   "cell_type": "markdown",
   "metadata": {},
   "source": [
    "Only analyze important questions and variables (drop remaining ones)"
   ]
  },
  {
   "cell_type": "code",
   "execution_count": 259,
   "metadata": {},
   "outputs": [],
   "source": [
    "cgss_wq = cgss_wq_full[important]"
   ]
  },
  {
   "cell_type": "markdown",
   "metadata": {},
   "source": [
    "---"
   ]
  },
  {
   "cell_type": "markdown",
   "metadata": {},
   "source": [
    "## Value Lables (for plots)"
   ]
  },
  {
   "cell_type": "code",
   "execution_count": 395,
   "metadata": {},
   "outputs": [],
   "source": [
    "a2_labels = {'Male':1,'Female':2}"
   ]
  },
  {
   "cell_type": "code",
   "execution_count": 399,
   "metadata": {},
   "outputs": [],
   "source": [
    "a7a_labels = {'No Education':1, 'Private School':2, 'Primary School':3, 'Junior High School':4, 'Vocational High School':5, 'Standarede High School':6, 'Technical Secondary School':7, 'Technical School':8, 'College-Adult':9, 'College-Regular':10, 'University-Adult':11, 'University-Regular':12, 'Graduate School or above':13, 'Other':14}"
   ]
  },
  {
   "cell_type": "markdown",
   "metadata": {},
   "source": [
    "---"
   ]
  },
  {
   "cell_type": "markdown",
   "metadata": {},
   "source": [
    "## Testing Hypotheses (Descriptive Analysis)"
   ]
  },
  {
   "cell_type": "markdown",
   "metadata": {},
   "source": [
    "### H1 - Worse local (provincial) water quality (`score` increases) relates to an increased perception of severity of water quality issues (`l14d` decreases)."
   ]
  },
  {
   "cell_type": "markdown",
   "metadata": {},
   "source": [
    "First, clean the data for `l14d` by dropping NaN, negative and \"cannot answer\" values:"
   ]
  },
  {
   "cell_type": "code",
   "execution_count": 260,
   "metadata": {},
   "outputs": [],
   "source": [
    "cgss_wq_l14d = cgss_wq[cgss_wq[\"l14d\"]>0]\n",
    "cgss_wq_l14d = cgss_wq_l14d[cgss_wq_l14d[\"l14d\"]<6]"
   ]
  },
  {
   "cell_type": "markdown",
   "metadata": {},
   "source": [
    "Visualize the results: Perception vs. Water Quality (more details about sns.lmplot in the Hypothesis 4 section)"
   ]
  },
  {
   "cell_type": "code",
   "execution_count": 315,
   "metadata": {},
   "outputs": [
    {
     "data": {
      "text/plain": [
       "count    3253.000000\n",
       "mean       16.662454\n",
       "std         4.512901\n",
       "min         6.901250\n",
       "25%        12.918182\n",
       "50%        16.977500\n",
       "75%        20.290000\n",
       "max        23.630000\n",
       "Name: score, dtype: float64"
      ]
     },
     "execution_count": 315,
     "metadata": {},
     "output_type": "execute_result"
    }
   ],
   "source": [
    "cgss_wq_l14d['score'].describe()"
   ]
  },
  {
   "cell_type": "code",
   "execution_count": 323,
   "metadata": {},
   "outputs": [
    {
     "data": {
      "image/png": "[encoded data removed]",
      "text/plain": [
       "<Figure size 360x360 with 1 Axes>"
      ]
     },
     "metadata": {},
     "output_type": "display_data"
    }
   ],
   "source": [
    "h1_fig1 = sns.lmplot(\n",
    "    data=cgss_wq_l14d,\n",
    "    x = 'l14d',\n",
    "    y = 'score',\n",
    "    x_estimator=np.mean,\n",
    "    )\n",
    "h1_fig1.set(xlabel='Water Quality Perception', ylabel='Water Quality Score', title='Water Quality vs. Water Quality Perception')\n",
    "h1_fig1.savefig('outputs/h1_fig1.png', dpi=600)"
   ]
  },
  {
   "cell_type": "code",
   "execution_count": 262,
   "metadata": {},
   "outputs": [
    {
     "data": {
      "text/html": [
       "<div>\n",
       "<style scoped>\n",
       "    .dataframe tbody tr th:only-of-type {\n",
       "        vertical-align: middle;\n",
       "    }\n",
       "\n",
       "    .dataframe tbody tr th {\n",
       "        vertical-align: top;\n",
       "    }\n",
       "\n",
       "    .dataframe thead th {\n",
       "        text-align: right;\n",
       "    }\n",
       "</style>\n",
       "<table border=\"1\" class=\"dataframe\">\n",
       "  <thead>\n",
       "    <tr style=\"text-align: right;\">\n",
       "      <th></th>\n",
       "      <th>n</th>\n",
       "      <th>r</th>\n",
       "      <th>CI95%</th>\n",
       "      <th>r2</th>\n",
       "      <th>adj_r2</th>\n",
       "      <th>p-val</th>\n",
       "      <th>BF10</th>\n",
       "      <th>power</th>\n",
       "    </tr>\n",
       "  </thead>\n",
       "  <tbody>\n",
       "    <tr>\n",
       "      <th>pearson</th>\n",
       "      <td>3253</td>\n",
       "      <td>-0.1023</td>\n",
       "      <td>[-0.14, -0.07]</td>\n",
       "      <td>0.010465</td>\n",
       "      <td>0.009856</td>\n",
       "      <td>4.980902e-09</td>\n",
       "      <td>5.811e+05</td>\n",
       "      <td>0.999951</td>\n",
       "    </tr>\n",
       "  </tbody>\n",
       "</table>\n",
       "</div>"
      ],
      "text/plain": [
       "            n       r           CI95%        r2    adj_r2         p-val  \\\n",
       "pearson  3253 -0.1023  [-0.14, -0.07]  0.010465  0.009856  4.980902e-09   \n",
       "\n",
       "              BF10     power  \n",
       "pearson  5.811e+05  0.999951  "
      ]
     },
     "execution_count": 262,
     "metadata": {},
     "output_type": "execute_result"
    }
   ],
   "source": [
    "pi.corr(x=cgss_wq_l14d['score'], y=cgss_wq_l14d['l14d'])"
   ]
  },
  {
   "cell_type": "markdown",
   "metadata": {},
   "source": [
    "#### Initial findings:\n",
    "- While the correlation is significant (Low $p$ value == more compelled to reject null hypothesis), there is a poor regression fit (low r²)\n",
    "- Multivariable analysis required for further investigation"
   ]
  },
  {
   "cell_type": "markdown",
   "metadata": {},
   "source": [
    "### H2 - An increase knowledge of water quality issues (`l2409`) relates to an increased perception of severity (`l14d`)."
   ]
  },
  {
   "cell_type": "markdown",
   "metadata": {},
   "source": [
    "Clean data for `l2409` using previously cleaned `l14d` dataframe:\n",
    "**NOTE**: Only keeping binary responses (dropping *Can't respond* value `8`)"
   ]
  },
  {
   "cell_type": "code",
   "execution_count": 263,
   "metadata": {},
   "outputs": [],
   "source": [
    "cgss_wq_l14d_l2409 = cgss_wq_l14d[cgss_wq_l14d[\"l2409\"]>0]\n",
    "cgss_wq_l14d_l2409 = cgss_wq_l14d_l2409[cgss_wq_l14d_l2409[\"l2409\"]<3]"
   ]
  },
  {
   "cell_type": "code",
   "execution_count": 264,
   "metadata": {},
   "outputs": [
    {
     "data": {
      "text/html": [
       "<div>\n",
       "<style scoped>\n",
       "    .dataframe tbody tr th:only-of-type {\n",
       "        vertical-align: middle;\n",
       "    }\n",
       "\n",
       "    .dataframe tbody tr th {\n",
       "        vertical-align: top;\n",
       "    }\n",
       "\n",
       "    .dataframe thead th {\n",
       "        text-align: right;\n",
       "    }\n",
       "</style>\n",
       "<table border=\"1\" class=\"dataframe\">\n",
       "  <thead>\n",
       "    <tr style=\"text-align: right;\">\n",
       "      <th></th>\n",
       "      <th>score</th>\n",
       "      <th>s41</th>\n",
       "      <th>a2</th>\n",
       "      <th>a3a</th>\n",
       "      <th>a7a</th>\n",
       "      <th>a8a</th>\n",
       "      <th>a91</th>\n",
       "      <th>l1a</th>\n",
       "      <th>l1b</th>\n",
       "      <th>l6a</th>\n",
       "      <th>l6b</th>\n",
       "      <th>l7a</th>\n",
       "      <th>l7b</th>\n",
       "      <th>l8a</th>\n",
       "      <th>l8b</th>\n",
       "      <th>l137</th>\n",
       "      <th>l14d</th>\n",
       "      <th>l15a</th>\n",
       "      <th>l15b</th>\n",
       "      <th>l16c</th>\n",
       "      <th>l20e</th>\n",
       "    </tr>\n",
       "    <tr>\n",
       "      <th>l2409</th>\n",
       "      <th></th>\n",
       "      <th></th>\n",
       "      <th></th>\n",
       "      <th></th>\n",
       "      <th></th>\n",
       "      <th></th>\n",
       "      <th></th>\n",
       "      <th></th>\n",
       "      <th></th>\n",
       "      <th></th>\n",
       "      <th></th>\n",
       "      <th></th>\n",
       "      <th></th>\n",
       "      <th></th>\n",
       "      <th></th>\n",
       "      <th></th>\n",
       "      <th></th>\n",
       "      <th></th>\n",
       "      <th></th>\n",
       "      <th></th>\n",
       "      <th></th>\n",
       "    </tr>\n",
       "  </thead>\n",
       "  <tbody>\n",
       "    <tr>\n",
       "      <th>1.0</th>\n",
       "      <td>16.223121</td>\n",
       "      <td>16.046099</td>\n",
       "      <td>1.482270</td>\n",
       "      <td>1964.570922</td>\n",
       "      <td>5.109929</td>\n",
       "      <td>1258061.250</td>\n",
       "      <td>1.576512</td>\n",
       "      <td>6.521277</td>\n",
       "      <td>6.414894</td>\n",
       "      <td>3.833333</td>\n",
       "      <td>2.414894</td>\n",
       "      <td>7.414894</td>\n",
       "      <td>6.581560</td>\n",
       "      <td>2.836879</td>\n",
       "      <td>2.521277</td>\n",
       "      <td>3.567376</td>\n",
       "      <td>2.382979</td>\n",
       "      <td>2.471631</td>\n",
       "      <td>2.297872</td>\n",
       "      <td>2.769504</td>\n",
       "      <td>2.329787</td>\n",
       "    </tr>\n",
       "    <tr>\n",
       "      <th>2.0</th>\n",
       "      <td>16.891944</td>\n",
       "      <td>15.031088</td>\n",
       "      <td>1.452504</td>\n",
       "      <td>1965.616580</td>\n",
       "      <td>6.341969</td>\n",
       "      <td>1422613.875</td>\n",
       "      <td>1.704663</td>\n",
       "      <td>5.155440</td>\n",
       "      <td>6.892919</td>\n",
       "      <td>3.827288</td>\n",
       "      <td>2.018998</td>\n",
       "      <td>7.652850</td>\n",
       "      <td>8.120898</td>\n",
       "      <td>3.138169</td>\n",
       "      <td>2.737478</td>\n",
       "      <td>3.854922</td>\n",
       "      <td>2.186528</td>\n",
       "      <td>2.485320</td>\n",
       "      <td>2.412781</td>\n",
       "      <td>2.892919</td>\n",
       "      <td>2.307427</td>\n",
       "    </tr>\n",
       "  </tbody>\n",
       "</table>\n",
       "</div>"
      ],
      "text/plain": [
       "           score        s41        a2          a3a       a7a          a8a  \\\n",
       "l2409                                                                       \n",
       "1.0    16.223121  16.046099  1.482270  1964.570922  5.109929  1258061.250   \n",
       "2.0    16.891944  15.031088  1.452504  1965.616580  6.341969  1422613.875   \n",
       "\n",
       "            a91       l1a       l1b       l6a       l6b       l7a       l7b  \\\n",
       "l2409                                                                         \n",
       "1.0    1.576512  6.521277  6.414894  3.833333  2.414894  7.414894  6.581560   \n",
       "2.0    1.704663  5.155440  6.892919  3.827288  2.018998  7.652850  8.120898   \n",
       "\n",
       "            l8a       l8b      l137      l14d      l15a      l15b      l16c  \\\n",
       "l2409                                                                         \n",
       "1.0    2.836879  2.521277  3.567376  2.382979  2.471631  2.297872  2.769504   \n",
       "2.0    3.138169  2.737478  3.854922  2.186528  2.485320  2.412781  2.892919   \n",
       "\n",
       "           l20e  \n",
       "l2409            \n",
       "1.0    2.329787  \n",
       "2.0    2.307427  "
      ]
     },
     "execution_count": 264,
     "metadata": {},
     "output_type": "execute_result"
    }
   ],
   "source": [
    "h2 = cgss_wq_l14d_l2409.groupby('l2409').agg('mean')\n",
    "h2"
   ]
  },
  {
   "cell_type": "markdown",
   "metadata": {},
   "source": [
    "Count the number of responses per `l2409`"
   ]
  },
  {
   "cell_type": "code",
   "execution_count": 265,
   "metadata": {},
   "outputs": [
    {
     "data": {
      "text/plain": [
       "2.0    579\n",
       "1.0    282\n",
       "Name: l2409, dtype: int64"
      ]
     },
     "execution_count": 265,
     "metadata": {},
     "output_type": "execute_result"
    }
   ],
   "source": [
    "cgss_wq_l14d_l2409[\"l2409\"].value_counts()"
   ]
  },
  {
   "cell_type": "markdown",
   "metadata": {},
   "source": [
    "Now, plot: (`l2409==2` is the correct answer)\n",
    "\n",
    "(note - info on setting legend lables can be found [here](https://stackoverflow.com/questions/45201514/edit-seaborn-legend)"
   ]
  },
  {
   "cell_type": "code",
   "execution_count": 346,
   "metadata": {
    "scrolled": true
   },
   "outputs": [
    {
     "data": {
      "image/png": "[encoded data removed]",
      "text/plain": [
       "<Figure size 403.93x360 with 1 Axes>"
      ]
     },
     "metadata": {},
     "output_type": "display_data"
    }
   ],
   "source": [
    "h2_fig1 = sns.catplot(\n",
    "    data=cgss_wq_l14d_l2409,\n",
    "    x = 'l2409',\n",
    "    y = 'l14d',\n",
    "    hue='a91',\n",
    "    split=True,\n",
    "    kind='violin',\n",
    "    scale='count',\n",
    "    legend_out=True\n",
    "    )\n",
    "h2_fig1.set(xlabel='Water Quality Knowledge', ylabel='Water Quality Perception', title='Water Quality Perception vs. Water Quality Knowledge')\n",
    "h2_fig1._legend.set_title('Rural Classification')\n",
    "new_labels = ['Rural', 'Non-Rural']\n",
    "for t, l in zip(h2_fig1._legend.texts, new_labels): t.set_text(l) # see source above\n",
    "h2_fig1.savefig('outputs/h2_fig1.png', dpi=600)"
   ]
  },
  {
   "cell_type": "markdown",
   "metadata": {},
   "source": [
    "Plot again - note that the line connecting the two isn't relevant or accurate"
   ]
  },
  {
   "cell_type": "code",
   "execution_count": 267,
   "metadata": {},
   "outputs": [
    {
     "data": {
      "text/plain": [
       "<seaborn.axisgrid.FacetGrid at 0x12fd288b0>"
      ]
     },
     "execution_count": 267,
     "metadata": {},
     "output_type": "execute_result"
    },
    {
     "data": {
      "image/png": "[encoded data removed]",
      "text/plain": [
       "<Figure size 360x360 with 1 Axes>"
      ]
     },
     "metadata": {},
     "output_type": "display_data"
    }
   ],
   "source": [
    "sns.catplot(\n",
    "    data=cgss_wq_l14d_l2409,\n",
    "    x = 'l2409',\n",
    "    y = 'l14d',\n",
    "    kind='point',\n",
    "    #hue='a91',\n",
    "    )"
   ]
  },
  {
   "cell_type": "code",
   "execution_count": 268,
   "metadata": {},
   "outputs": [
    {
     "data": {
      "text/html": [
       "<div>\n",
       "<style scoped>\n",
       "    .dataframe tbody tr th:only-of-type {\n",
       "        vertical-align: middle;\n",
       "    }\n",
       "\n",
       "    .dataframe tbody tr th {\n",
       "        vertical-align: top;\n",
       "    }\n",
       "\n",
       "    .dataframe thead th {\n",
       "        text-align: right;\n",
       "    }\n",
       "</style>\n",
       "<table border=\"1\" class=\"dataframe\">\n",
       "  <thead>\n",
       "    <tr style=\"text-align: right;\">\n",
       "      <th></th>\n",
       "      <th>n</th>\n",
       "      <th>r</th>\n",
       "      <th>CI95%</th>\n",
       "      <th>r2</th>\n",
       "      <th>adj_r2</th>\n",
       "      <th>p-val</th>\n",
       "      <th>power</th>\n",
       "    </tr>\n",
       "  </thead>\n",
       "  <tbody>\n",
       "    <tr>\n",
       "      <th>kendall</th>\n",
       "      <td>861</td>\n",
       "      <td>-0.10499</td>\n",
       "      <td>[-0.17, -0.04]</td>\n",
       "      <td>0.011023</td>\n",
       "      <td>0.008718</td>\n",
       "      <td>0.000906</td>\n",
       "      <td>0.870417</td>\n",
       "    </tr>\n",
       "  </tbody>\n",
       "</table>\n",
       "</div>"
      ],
      "text/plain": [
       "           n        r           CI95%        r2    adj_r2     p-val     power\n",
       "kendall  861 -0.10499  [-0.17, -0.04]  0.011023  0.008718  0.000906  0.870417"
      ]
     },
     "execution_count": 268,
     "metadata": {},
     "output_type": "execute_result"
    }
   ],
   "source": [
    "pi.corr(x=cgss_wq_l14d_l2409['l2409'], y=cgss_wq_l14d_l2409['l14d'], method='kendall')"
   ]
  },
  {
   "cell_type": "markdown",
   "metadata": {},
   "source": [
    "#### Initial findings:\n",
    "- Increased water quality knowledge `l2409==2` has an increased perception (decreased `l14d`).\n",
    "    - Statistically significant ($p<=0.05$) but weakly correlated ($0<r<.19$)\n",
    "- However, this trend is no longer visible when factoring for rural/urban `a91`, education level `a7a`, etc\n",
    "- Other large differences between rural/non-rural exist (see `h2` above)\n",
    "- More analysis is needed"
   ]
  },
  {
   "cell_type": "markdown",
   "metadata": {},
   "source": [
    "### H3 - Increased education (`a7a`) relates to more knowledge about water quality (`l2409`).\n"
   ]
  },
  {
   "cell_type": "markdown",
   "metadata": {},
   "source": [
    "Clean data for `l2409`\n",
    "\n",
    "Again, **NOTE**: Only keeping binary responses (dropping \"*Can't respond*\" value `8`)"
   ]
  },
  {
   "cell_type": "code",
   "execution_count": 269,
   "metadata": {},
   "outputs": [],
   "source": [
    "cgss_wq_l2409 = cgss_wq[cgss_wq[\"l2409\"]>0]\n",
    "cgss_wq_l2409 = cgss_wq_l2409[cgss_wq_l2409[\"l2409\"]<3]"
   ]
  },
  {
   "cell_type": "markdown",
   "metadata": {},
   "source": [
    "Now, clean for education `a7a`"
   ]
  },
  {
   "cell_type": "code",
   "execution_count": 270,
   "metadata": {},
   "outputs": [],
   "source": [
    "cgss_wq_l2409_a7a = cgss_wq_l2409[cgss_wq_l2409[\"a7a\"]>=0]\n",
    "cgss_wq_l2409_a7a = cgss_wq_l2409_a7a[cgss_wq_l2409_a7a[\"a7a\"]<14]"
   ]
  },
  {
   "cell_type": "markdown",
   "metadata": {},
   "source": [
    "Now, plot:"
   ]
  },
  {
   "cell_type": "code",
   "execution_count": 347,
   "metadata": {},
   "outputs": [
    {
     "data": {
      "image/png": "[encoded data removed]",
      "text/plain": [
       "<Figure size 360x360 with 1 Axes>"
      ]
     },
     "metadata": {},
     "output_type": "display_data"
    }
   ],
   "source": [
    "h3_fig1 = sns.lmplot(\n",
    "    data=cgss_wq_l2409_a7a,\n",
    "    x = 'a7a',\n",
    "    y = 'l2409',\n",
    "    x_estimator=np.mean,\n",
    "    )\n",
    "h3_fig1.set(xlabel='Education Level', ylabel='Water Quality Knowledge', title='Water Quality Knowledge vs. Education Level')\n",
    "h3_fig1.savefig('outputs/h3_fig1.png', dpi=600)"
   ]
  },
  {
   "cell_type": "code",
   "execution_count": 348,
   "metadata": {},
   "outputs": [
    {
     "data": {
      "image/png": "[encoded data removed]",
      "text/plain": [
       "<Figure size 403.93x360 with 1 Axes>"
      ]
     },
     "metadata": {},
     "output_type": "display_data"
    }
   ],
   "source": [
    "h3_fig2 = sns.catplot(\n",
    "    data=cgss_wq_l2409_a7a,\n",
    "    x = 'l2409',\n",
    "    y = 'a7a',\n",
    "    hue='a91',\n",
    "    split=True,\n",
    "    kind='violin',\n",
    "    scale='count',\n",
    "    )\n",
    "h3_fig2.set(xlabel='Water Quality Knowledge', ylabel='Education', title='Education vs. Water Quality Knowledge')\n",
    "h3_fig2.savefig('outputs/h3_fig2.png', dpi=600)"
   ]
  },
  {
   "cell_type": "code",
   "execution_count": 273,
   "metadata": {},
   "outputs": [
    {
     "data": {
      "text/html": [
       "<div>\n",
       "<style scoped>\n",
       "    .dataframe tbody tr th:only-of-type {\n",
       "        vertical-align: middle;\n",
       "    }\n",
       "\n",
       "    .dataframe tbody tr th {\n",
       "        vertical-align: top;\n",
       "    }\n",
       "\n",
       "    .dataframe thead th {\n",
       "        text-align: right;\n",
       "    }\n",
       "</style>\n",
       "<table border=\"1\" class=\"dataframe\">\n",
       "  <thead>\n",
       "    <tr style=\"text-align: right;\">\n",
       "      <th></th>\n",
       "      <th>n</th>\n",
       "      <th>r</th>\n",
       "      <th>CI95%</th>\n",
       "      <th>r2</th>\n",
       "      <th>adj_r2</th>\n",
       "      <th>p-val</th>\n",
       "      <th>power</th>\n",
       "    </tr>\n",
       "  </thead>\n",
       "  <tbody>\n",
       "    <tr>\n",
       "      <th>spearman</th>\n",
       "      <td>881</td>\n",
       "      <td>0.163802</td>\n",
       "      <td>[0.1, 0.23]</td>\n",
       "      <td>0.026831</td>\n",
       "      <td>0.024614</td>\n",
       "      <td>0.000001</td>\n",
       "      <td>0.998361</td>\n",
       "    </tr>\n",
       "  </tbody>\n",
       "</table>\n",
       "</div>"
      ],
      "text/plain": [
       "            n         r        CI95%        r2    adj_r2     p-val     power\n",
       "spearman  881  0.163802  [0.1, 0.23]  0.026831  0.024614  0.000001  0.998361"
      ]
     },
     "execution_count": 273,
     "metadata": {},
     "output_type": "execute_result"
    }
   ],
   "source": [
    "pi.corr(x=cgss_wq_l2409_a7a['l2409'], y=cgss_wq_l2409_a7a['a7a'], method='spearman')"
   ]
  },
  {
   "cell_type": "markdown",
   "metadata": {},
   "source": [
    "#### Initial findings\n",
    "- There seems to be a slight trend (education increase relates to knowledge increase)\n",
    "- The violin plots show differences in rural vs non-rural responses\n",
    "- More analysis is needed"
   ]
  },
  {
   "cell_type": "markdown",
   "metadata": {},
   "source": [
    "## H4 - Increased education `a7a` relates to an increased perception of severity `l14d`"
   ]
  },
  {
   "cell_type": "markdown",
   "metadata": {},
   "source": [
    "First, see the distribution of education:"
   ]
  },
  {
   "cell_type": "code",
   "execution_count": 274,
   "metadata": {},
   "outputs": [
    {
     "data": {
      "text/plain": [
       "array([[<AxesSubplot:title={'center':'a7a'}>,\n",
       "        <AxesSubplot:title={'center':'l14d'}>]], dtype=object)"
      ]
     },
     "execution_count": 274,
     "metadata": {},
     "output_type": "execute_result"
    },
    {
     "data": {
      "image/png": "[encoded data removed]",
      "text/plain": [
       "<Figure size 432x288 with 2 Axes>"
      ]
     },
     "metadata": {},
     "output_type": "display_data"
    }
   ],
   "source": [
    "cgss_wq[[\"a7a\",\"l14d\"]].hist()"
   ]
  },
  {
   "cell_type": "markdown",
   "metadata": {},
   "source": [
    "Make new cleaned dataset with cleaned `a7a` values from the previously cleaned `l14d` values"
   ]
  },
  {
   "cell_type": "code",
   "execution_count": 275,
   "metadata": {},
   "outputs": [],
   "source": [
    "cgss_wq_l14d_a7a = cgss_wq_l14d[cgss_wq_l14d['a7a']>=0]"
   ]
  },
  {
   "cell_type": "markdown",
   "metadata": {},
   "source": [
    "Group by each education level (year) and aggregate the mean"
   ]
  },
  {
   "cell_type": "code",
   "execution_count": 276,
   "metadata": {},
   "outputs": [],
   "source": [
    "h4 = cgss_wq_l14d_a7a.groupby('a7a').agg('mean')"
   ]
  },
  {
   "cell_type": "markdown",
   "metadata": {},
   "source": [
    "Plot result (perception vs. education level). \n",
    "\n",
    "**Note**: Since `a7a` is the index of h4, it needs to be reset before being plotted in regplot (info [here](https://www.reddit.com/r/learnpython/comments/3cjnpg/seaborn_xaxis_as_index/))"
   ]
  },
  {
   "cell_type": "code",
   "execution_count": 349,
   "metadata": {},
   "outputs": [
    {
     "data": {
      "image/png": "[encoded data removed]",
      "text/plain": [
       "<Figure size 360x360 with 1 Axes>"
      ]
     },
     "metadata": {},
     "output_type": "display_data"
    }
   ],
   "source": [
    "h4_fig1 = sns.lmplot(\n",
    "    data=h4.reset_index(),\n",
    "    x = 'a7a',\n",
    "    y = 'l14d'\n",
    "    )\n",
    "h4_fig1.set(xlabel='Education Level', ylabel='Water Quality Perception', title='Education vs. Water Quality Perception')\n",
    "h4_fig1.savefig('outputs/h4_fig1.png', dpi=600)"
   ]
  },
  {
   "cell_type": "markdown",
   "metadata": {},
   "source": [
    "It's better (?) to use an lmplot (similar to regplot) and calculate the mean per x bin, from [here](https://seaborn.pydata.org/tutorial/regression.html).\n",
    "> A second option is to collapse over the observations in each discrete bin to plot an estimate of central tendency along with a confidence interval:\n",
    "\n",
    "Additionally, the lmplot allows for multiple regressions to be plotted on the same plot."
   ]
  },
  {
   "cell_type": "code",
   "execution_count": 352,
   "metadata": {},
   "outputs": [
    {
     "data": {
      "image/png": "[encoded data removed]",
      "text/plain": [
       "<Figure size 403.93x360 with 1 Axes>"
      ]
     },
     "metadata": {},
     "output_type": "display_data"
    }
   ],
   "source": [
    "h4_fig2 = sns.lmplot(\n",
    "    data=cgss_wq_l14d_a7a,\n",
    "    x = 'a7a',\n",
    "    y = 'l14d',\n",
    "    x_estimator=np.mean,\n",
    "    hue='a91',\n",
    "    markers=([\"o\", \"x\"]),\n",
    "    )\n",
    "h4_fig2.set(xlabel='Education Level', ylabel='Water Quality Perception', title='Education vs. Water Quality Perception, by Rural Classification')\n",
    "h4_fig2._legend.set_title('Rural Classification')\n",
    "new_labels = ['Rural', 'Non-Rural']\n",
    "for t, l in zip(h4_fig2._legend.texts, new_labels): t.set_text(l) # see source in Hypothesis 2 section\n",
    "h4_fig2.savefig('outputs/h4_fig2.png', dpi=600)"
   ]
  },
  {
   "cell_type": "code",
   "execution_count": 279,
   "metadata": {},
   "outputs": [
    {
     "data": {
      "text/html": [
       "<div>\n",
       "<style scoped>\n",
       "    .dataframe tbody tr th:only-of-type {\n",
       "        vertical-align: middle;\n",
       "    }\n",
       "\n",
       "    .dataframe tbody tr th {\n",
       "        vertical-align: top;\n",
       "    }\n",
       "\n",
       "    .dataframe thead th {\n",
       "        text-align: right;\n",
       "    }\n",
       "</style>\n",
       "<table border=\"1\" class=\"dataframe\">\n",
       "  <thead>\n",
       "    <tr style=\"text-align: right;\">\n",
       "      <th></th>\n",
       "      <th>n</th>\n",
       "      <th>r</th>\n",
       "      <th>CI95%</th>\n",
       "      <th>r2</th>\n",
       "      <th>adj_r2</th>\n",
       "      <th>p-val</th>\n",
       "      <th>BF10</th>\n",
       "      <th>power</th>\n",
       "    </tr>\n",
       "  </thead>\n",
       "  <tbody>\n",
       "    <tr>\n",
       "      <th>pearson</th>\n",
       "      <td>3252</td>\n",
       "      <td>-0.210865</td>\n",
       "      <td>[-0.24, -0.18]</td>\n",
       "      <td>0.044464</td>\n",
       "      <td>0.043876</td>\n",
       "      <td>5.256292e-34</td>\n",
       "      <td>2.634e+30</td>\n",
       "      <td>1.0</td>\n",
       "    </tr>\n",
       "  </tbody>\n",
       "</table>\n",
       "</div>"
      ],
      "text/plain": [
       "            n         r           CI95%        r2    adj_r2         p-val  \\\n",
       "pearson  3252 -0.210865  [-0.24, -0.18]  0.044464  0.043876  5.256292e-34   \n",
       "\n",
       "              BF10  power  \n",
       "pearson  2.634e+30    1.0  "
      ]
     },
     "execution_count": 279,
     "metadata": {},
     "output_type": "execute_result"
    }
   ],
   "source": [
    "pi.corr(x=cgss_wq_l14d_a7a['a7a'], y=cgss_wq_l14d_a7a['l14d'])"
   ]
  },
  {
   "cell_type": "markdown",
   "metadata": {},
   "source": [
    "### Initial findings:\n",
    "- There is a clear trend between education and perception\n",
    "- Rural households have a higher `l14d` than non-rural at each education level\n",
    "    - This difference decreases as education increases"
   ]
  },
  {
   "cell_type": "markdown",
   "metadata": {},
   "source": [
    "### H5 - There is a significant difference in perception of severity of water quality issues (`l14d`) between urban and rural households (`a91`)."
   ]
  },
  {
   "cell_type": "markdown",
   "metadata": {},
   "source": [
    "Reuse the cleaned data from `H1` for question `l14d`, see number of responses by type by grouping by `a91`, where a91==1 is rural"
   ]
  },
  {
   "cell_type": "code",
   "execution_count": 280,
   "metadata": {},
   "outputs": [
    {
     "data": {
      "text/html": [
       "<div>\n",
       "<style scoped>\n",
       "    .dataframe tbody tr th:only-of-type {\n",
       "        vertical-align: middle;\n",
       "    }\n",
       "\n",
       "    .dataframe tbody tr th {\n",
       "        vertical-align: top;\n",
       "    }\n",
       "\n",
       "    .dataframe thead th {\n",
       "        text-align: right;\n",
       "    }\n",
       "</style>\n",
       "<table border=\"1\" class=\"dataframe\">\n",
       "  <thead>\n",
       "    <tr style=\"text-align: right;\">\n",
       "      <th></th>\n",
       "      <th>l14d</th>\n",
       "    </tr>\n",
       "    <tr>\n",
       "      <th>a91</th>\n",
       "      <th></th>\n",
       "    </tr>\n",
       "  </thead>\n",
       "  <tbody>\n",
       "    <tr>\n",
       "      <th>1.0</th>\n",
       "      <td>1257</td>\n",
       "    </tr>\n",
       "    <tr>\n",
       "      <th>2.0</th>\n",
       "      <td>1995</td>\n",
       "    </tr>\n",
       "  </tbody>\n",
       "</table>\n",
       "</div>"
      ],
      "text/plain": [
       "     l14d\n",
       "a91      \n",
       "1.0  1257\n",
       "2.0  1995"
      ]
     },
     "execution_count": 280,
     "metadata": {},
     "output_type": "execute_result"
    }
   ],
   "source": [
    "cgss_wq_l14d[['a91','l14d']].groupby('a91').agg('count')"
   ]
  },
  {
   "cell_type": "markdown",
   "metadata": {},
   "source": [
    "Calculate the mean `l14d` grouped by rural / urban"
   ]
  },
  {
   "cell_type": "code",
   "execution_count": 281,
   "metadata": {},
   "outputs": [
    {
     "data": {
      "text/html": [
       "<div>\n",
       "<style scoped>\n",
       "    .dataframe tbody tr th:only-of-type {\n",
       "        vertical-align: middle;\n",
       "    }\n",
       "\n",
       "    .dataframe tbody tr th {\n",
       "        vertical-align: top;\n",
       "    }\n",
       "\n",
       "    .dataframe thead th {\n",
       "        text-align: right;\n",
       "    }\n",
       "</style>\n",
       "<table border=\"1\" class=\"dataframe\">\n",
       "  <thead>\n",
       "    <tr style=\"text-align: right;\">\n",
       "      <th></th>\n",
       "      <th>score</th>\n",
       "      <th>s41</th>\n",
       "      <th>a2</th>\n",
       "      <th>a3a</th>\n",
       "      <th>a7a</th>\n",
       "      <th>a8a</th>\n",
       "      <th>l1a</th>\n",
       "      <th>l1b</th>\n",
       "      <th>l6a</th>\n",
       "      <th>l6b</th>\n",
       "      <th>l7a</th>\n",
       "      <th>l7b</th>\n",
       "      <th>l8a</th>\n",
       "      <th>l8b</th>\n",
       "      <th>l137</th>\n",
       "      <th>l14d</th>\n",
       "      <th>l15a</th>\n",
       "      <th>l15b</th>\n",
       "      <th>l16c</th>\n",
       "      <th>l20e</th>\n",
       "      <th>l2409</th>\n",
       "    </tr>\n",
       "  </thead>\n",
       "  <tbody>\n",
       "    <tr>\n",
       "      <th>count</th>\n",
       "      <td>2.000000</td>\n",
       "      <td>2.000000</td>\n",
       "      <td>2.000000</td>\n",
       "      <td>2.000000</td>\n",
       "      <td>2.000000</td>\n",
       "      <td>2.000000e+00</td>\n",
       "      <td>2.000000</td>\n",
       "      <td>2.000000</td>\n",
       "      <td>2.000000</td>\n",
       "      <td>2.000000</td>\n",
       "      <td>2.000000</td>\n",
       "      <td>2.000000</td>\n",
       "      <td>2.000000</td>\n",
       "      <td>2.000000</td>\n",
       "      <td>2.000000</td>\n",
       "      <td>2.000000</td>\n",
       "      <td>2.000000</td>\n",
       "      <td>2.000000</td>\n",
       "      <td>2.000000</td>\n",
       "      <td>2.000000</td>\n",
       "      <td>2.000000</td>\n",
       "    </tr>\n",
       "    <tr>\n",
       "      <th>mean</th>\n",
       "      <td>16.544259</td>\n",
       "      <td>15.638292</td>\n",
       "      <td>1.516332</td>\n",
       "      <td>1963.058528</td>\n",
       "      <td>4.859155</td>\n",
       "      <td>1.336766e+06</td>\n",
       "      <td>8.288372</td>\n",
       "      <td>9.239028</td>\n",
       "      <td>3.716190</td>\n",
       "      <td>2.433684</td>\n",
       "      <td>10.954489</td>\n",
       "      <td>10.937637</td>\n",
       "      <td>2.868745</td>\n",
       "      <td>2.527442</td>\n",
       "      <td>3.742055</td>\n",
       "      <td>2.354314</td>\n",
       "      <td>3.036047</td>\n",
       "      <td>3.006931</td>\n",
       "      <td>3.283117</td>\n",
       "      <td>2.489414</td>\n",
       "      <td>6.239900</td>\n",
       "    </tr>\n",
       "    <tr>\n",
       "      <th>std</th>\n",
       "      <td>0.729610</td>\n",
       "      <td>1.787362</td>\n",
       "      <td>0.011284</td>\n",
       "      <td>0.744155</td>\n",
       "      <td>1.950825</td>\n",
       "      <td>4.038638e+05</td>\n",
       "      <td>1.285412</td>\n",
       "      <td>1.589209</td>\n",
       "      <td>0.139791</td>\n",
       "      <td>0.399241</td>\n",
       "      <td>2.420259</td>\n",
       "      <td>1.801677</td>\n",
       "      <td>0.223903</td>\n",
       "      <td>0.177754</td>\n",
       "      <td>0.141492</td>\n",
       "      <td>0.257222</td>\n",
       "      <td>0.121157</td>\n",
       "      <td>0.160084</td>\n",
       "      <td>0.260029</td>\n",
       "      <td>0.254049</td>\n",
       "      <td>0.167012</td>\n",
       "    </tr>\n",
       "    <tr>\n",
       "      <th>min</th>\n",
       "      <td>16.028347</td>\n",
       "      <td>14.374436</td>\n",
       "      <td>1.508353</td>\n",
       "      <td>1962.532331</td>\n",
       "      <td>3.479714</td>\n",
       "      <td>1.051192e+06</td>\n",
       "      <td>7.379449</td>\n",
       "      <td>8.115288</td>\n",
       "      <td>3.617343</td>\n",
       "      <td>2.151378</td>\n",
       "      <td>9.243108</td>\n",
       "      <td>9.663659</td>\n",
       "      <td>2.710422</td>\n",
       "      <td>2.401750</td>\n",
       "      <td>3.642005</td>\n",
       "      <td>2.172431</td>\n",
       "      <td>2.950376</td>\n",
       "      <td>2.893734</td>\n",
       "      <td>3.099248</td>\n",
       "      <td>2.309774</td>\n",
       "      <td>6.121805</td>\n",
       "    </tr>\n",
       "    <tr>\n",
       "      <th>25%</th>\n",
       "      <td>16.286303</td>\n",
       "      <td>15.006364</td>\n",
       "      <td>1.512343</td>\n",
       "      <td>1962.795430</td>\n",
       "      <td>4.169434</td>\n",
       "      <td>1.193979e+06</td>\n",
       "      <td>7.833910</td>\n",
       "      <td>8.677158</td>\n",
       "      <td>3.666767</td>\n",
       "      <td>2.292531</td>\n",
       "      <td>10.098799</td>\n",
       "      <td>10.300648</td>\n",
       "      <td>2.789583</td>\n",
       "      <td>2.464596</td>\n",
       "      <td>3.692030</td>\n",
       "      <td>2.263373</td>\n",
       "      <td>2.993212</td>\n",
       "      <td>2.950333</td>\n",
       "      <td>3.191182</td>\n",
       "      <td>2.399594</td>\n",
       "      <td>6.180852</td>\n",
       "    </tr>\n",
       "    <tr>\n",
       "      <th>50%</th>\n",
       "      <td>16.544259</td>\n",
       "      <td>15.638292</td>\n",
       "      <td>1.516332</td>\n",
       "      <td>1963.058528</td>\n",
       "      <td>4.859155</td>\n",
       "      <td>1.336766e+06</td>\n",
       "      <td>8.288372</td>\n",
       "      <td>9.239028</td>\n",
       "      <td>3.716190</td>\n",
       "      <td>2.433684</td>\n",
       "      <td>10.954489</td>\n",
       "      <td>10.937637</td>\n",
       "      <td>2.868745</td>\n",
       "      <td>2.527442</td>\n",
       "      <td>3.742055</td>\n",
       "      <td>2.354314</td>\n",
       "      <td>3.036047</td>\n",
       "      <td>3.006931</td>\n",
       "      <td>3.283117</td>\n",
       "      <td>2.489414</td>\n",
       "      <td>6.239900</td>\n",
       "    </tr>\n",
       "    <tr>\n",
       "      <th>75%</th>\n",
       "      <td>16.802215</td>\n",
       "      <td>16.270220</td>\n",
       "      <td>1.520321</td>\n",
       "      <td>1963.321627</td>\n",
       "      <td>5.548876</td>\n",
       "      <td>1.479554e+06</td>\n",
       "      <td>8.742834</td>\n",
       "      <td>9.800898</td>\n",
       "      <td>3.765614</td>\n",
       "      <td>2.574837</td>\n",
       "      <td>11.810180</td>\n",
       "      <td>11.574626</td>\n",
       "      <td>2.947906</td>\n",
       "      <td>2.590287</td>\n",
       "      <td>3.792080</td>\n",
       "      <td>2.445256</td>\n",
       "      <td>3.078883</td>\n",
       "      <td>3.063529</td>\n",
       "      <td>3.375051</td>\n",
       "      <td>2.579234</td>\n",
       "      <td>6.298948</td>\n",
       "    </tr>\n",
       "    <tr>\n",
       "      <th>max</th>\n",
       "      <td>17.060171</td>\n",
       "      <td>16.902147</td>\n",
       "      <td>1.524311</td>\n",
       "      <td>1963.584726</td>\n",
       "      <td>6.238596</td>\n",
       "      <td>1.622341e+06</td>\n",
       "      <td>9.197295</td>\n",
       "      <td>10.362768</td>\n",
       "      <td>3.815038</td>\n",
       "      <td>2.715990</td>\n",
       "      <td>12.665871</td>\n",
       "      <td>12.211615</td>\n",
       "      <td>3.027068</td>\n",
       "      <td>2.653133</td>\n",
       "      <td>3.842105</td>\n",
       "      <td>2.536197</td>\n",
       "      <td>3.121718</td>\n",
       "      <td>3.120127</td>\n",
       "      <td>3.466985</td>\n",
       "      <td>2.669053</td>\n",
       "      <td>6.357995</td>\n",
       "    </tr>\n",
       "  </tbody>\n",
       "</table>\n",
       "</div>"
      ],
      "text/plain": [
       "           score        s41        a2          a3a       a7a           a8a  \\\n",
       "count   2.000000   2.000000  2.000000     2.000000  2.000000  2.000000e+00   \n",
       "mean   16.544259  15.638292  1.516332  1963.058528  4.859155  1.336766e+06   \n",
       "std     0.729610   1.787362  0.011284     0.744155  1.950825  4.038638e+05   \n",
       "min    16.028347  14.374436  1.508353  1962.532331  3.479714  1.051192e+06   \n",
       "25%    16.286303  15.006364  1.512343  1962.795430  4.169434  1.193979e+06   \n",
       "50%    16.544259  15.638292  1.516332  1963.058528  4.859155  1.336766e+06   \n",
       "75%    16.802215  16.270220  1.520321  1963.321627  5.548876  1.479554e+06   \n",
       "max    17.060171  16.902147  1.524311  1963.584726  6.238596  1.622341e+06   \n",
       "\n",
       "            l1a        l1b       l6a       l6b        l7a        l7b  \\\n",
       "count  2.000000   2.000000  2.000000  2.000000   2.000000   2.000000   \n",
       "mean   8.288372   9.239028  3.716190  2.433684  10.954489  10.937637   \n",
       "std    1.285412   1.589209  0.139791  0.399241   2.420259   1.801677   \n",
       "min    7.379449   8.115288  3.617343  2.151378   9.243108   9.663659   \n",
       "25%    7.833910   8.677158  3.666767  2.292531  10.098799  10.300648   \n",
       "50%    8.288372   9.239028  3.716190  2.433684  10.954489  10.937637   \n",
       "75%    8.742834   9.800898  3.765614  2.574837  11.810180  11.574626   \n",
       "max    9.197295  10.362768  3.815038  2.715990  12.665871  12.211615   \n",
       "\n",
       "            l8a       l8b      l137      l14d      l15a      l15b      l16c  \\\n",
       "count  2.000000  2.000000  2.000000  2.000000  2.000000  2.000000  2.000000   \n",
       "mean   2.868745  2.527442  3.742055  2.354314  3.036047  3.006931  3.283117   \n",
       "std    0.223903  0.177754  0.141492  0.257222  0.121157  0.160084  0.260029   \n",
       "min    2.710422  2.401750  3.642005  2.172431  2.950376  2.893734  3.099248   \n",
       "25%    2.789583  2.464596  3.692030  2.263373  2.993212  2.950333  3.191182   \n",
       "50%    2.868745  2.527442  3.742055  2.354314  3.036047  3.006931  3.283117   \n",
       "75%    2.947906  2.590287  3.792080  2.445256  3.078883  3.063529  3.375051   \n",
       "max    3.027068  2.653133  3.842105  2.536197  3.121718  3.120127  3.466985   \n",
       "\n",
       "           l20e     l2409  \n",
       "count  2.000000  2.000000  \n",
       "mean   2.489414  6.239900  \n",
       "std    0.254049  0.167012  \n",
       "min    2.309774  6.121805  \n",
       "25%    2.399594  6.180852  \n",
       "50%    2.489414  6.239900  \n",
       "75%    2.579234  6.298948  \n",
       "max    2.669053  6.357995  "
      ]
     },
     "execution_count": 281,
     "metadata": {},
     "output_type": "execute_result"
    }
   ],
   "source": [
    "h5 = cgss_wq_l14d.groupby('a91').agg('mean')\n",
    "h5.describe()"
   ]
  },
  {
   "cell_type": "code",
   "execution_count": 282,
   "metadata": {},
   "outputs": [
    {
     "data": {
      "text/html": [
       "<div>\n",
       "<style scoped>\n",
       "    .dataframe tbody tr th:only-of-type {\n",
       "        vertical-align: middle;\n",
       "    }\n",
       "\n",
       "    .dataframe tbody tr th {\n",
       "        vertical-align: top;\n",
       "    }\n",
       "\n",
       "    .dataframe thead th {\n",
       "        text-align: right;\n",
       "    }\n",
       "</style>\n",
       "<table border=\"1\" class=\"dataframe\">\n",
       "  <thead>\n",
       "    <tr style=\"text-align: right;\">\n",
       "      <th></th>\n",
       "      <th>n</th>\n",
       "      <th>r</th>\n",
       "      <th>CI95%</th>\n",
       "      <th>r2</th>\n",
       "      <th>adj_r2</th>\n",
       "      <th>p-val</th>\n",
       "      <th>power</th>\n",
       "    </tr>\n",
       "  </thead>\n",
       "  <tbody>\n",
       "    <tr>\n",
       "      <th>spearman</th>\n",
       "      <td>3252</td>\n",
       "      <td>-0.201821</td>\n",
       "      <td>[-0.23, -0.17]</td>\n",
       "      <td>0.040732</td>\n",
       "      <td>0.040141</td>\n",
       "      <td>3.094507e-31</td>\n",
       "      <td>1.0</td>\n",
       "    </tr>\n",
       "  </tbody>\n",
       "</table>\n",
       "</div>"
      ],
      "text/plain": [
       "             n         r           CI95%        r2    adj_r2         p-val  \\\n",
       "spearman  3252 -0.201821  [-0.23, -0.17]  0.040732  0.040141  3.094507e-31   \n",
       "\n",
       "          power  \n",
       "spearman    1.0  "
      ]
     },
     "execution_count": 282,
     "metadata": {},
     "output_type": "execute_result"
    }
   ],
   "source": [
    "pi.corr(x=cgss_wq_l14d['a91'], y=cgss_wq_l14d['l14d'], method='spearman')"
   ]
  },
  {
   "cell_type": "markdown",
   "metadata": {},
   "source": [
    "#### Initial findings: \n",
    "- There is a difference between rural and urban households (rural have less severe perception of water quality)\n",
    "- Education level (`a7a`) is significantly different between urban and rural households"
   ]
  },
  {
   "cell_type": "markdown",
   "metadata": {},
   "source": [
    "### H6 - There is a relation between water quality `score` and water quality knowledge `l2409`."
   ]
  },
  {
   "cell_type": "markdown",
   "metadata": {},
   "source": [
    "Drop negative values, keep `l2409` == 8 this time (\"*Can't answer*\")"
   ]
  },
  {
   "cell_type": "code",
   "execution_count": 283,
   "metadata": {},
   "outputs": [],
   "source": [
    "cgss_wq_score_l2409_8 = cgss_wq[cgss_wq['l2409'].isin([1,2,8])]"
   ]
  },
  {
   "cell_type": "code",
   "execution_count": 284,
   "metadata": {},
   "outputs": [
    {
     "data": {
      "text/html": [
       "<div>\n",
       "<style scoped>\n",
       "    .dataframe tbody tr th:only-of-type {\n",
       "        vertical-align: middle;\n",
       "    }\n",
       "\n",
       "    .dataframe tbody tr th {\n",
       "        vertical-align: top;\n",
       "    }\n",
       "\n",
       "    .dataframe thead th {\n",
       "        text-align: right;\n",
       "    }\n",
       "</style>\n",
       "<table border=\"1\" class=\"dataframe\">\n",
       "  <thead>\n",
       "    <tr style=\"text-align: right;\">\n",
       "      <th></th>\n",
       "      <th>score</th>\n",
       "      <th>s41</th>\n",
       "      <th>a2</th>\n",
       "      <th>a3a</th>\n",
       "      <th>a7a</th>\n",
       "      <th>a8a</th>\n",
       "      <th>a91</th>\n",
       "      <th>l1a</th>\n",
       "      <th>l1b</th>\n",
       "      <th>l6a</th>\n",
       "      <th>l6b</th>\n",
       "      <th>l7a</th>\n",
       "      <th>l7b</th>\n",
       "      <th>l8a</th>\n",
       "      <th>l8b</th>\n",
       "      <th>l137</th>\n",
       "      <th>l14d</th>\n",
       "      <th>l15a</th>\n",
       "      <th>l15b</th>\n",
       "      <th>l16c</th>\n",
       "      <th>l20e</th>\n",
       "    </tr>\n",
       "    <tr>\n",
       "      <th>l2409</th>\n",
       "      <th></th>\n",
       "      <th></th>\n",
       "      <th></th>\n",
       "      <th></th>\n",
       "      <th></th>\n",
       "      <th></th>\n",
       "      <th></th>\n",
       "      <th></th>\n",
       "      <th></th>\n",
       "      <th></th>\n",
       "      <th></th>\n",
       "      <th></th>\n",
       "      <th></th>\n",
       "      <th></th>\n",
       "      <th></th>\n",
       "      <th></th>\n",
       "      <th></th>\n",
       "      <th></th>\n",
       "      <th></th>\n",
       "      <th></th>\n",
       "      <th></th>\n",
       "    </tr>\n",
       "  </thead>\n",
       "  <tbody>\n",
       "    <tr>\n",
       "      <th>1.0</th>\n",
       "      <td>16.197448</td>\n",
       "      <td>16.101046</td>\n",
       "      <td>1.484321</td>\n",
       "      <td>1964.585366</td>\n",
       "      <td>5.083624</td>\n",
       "      <td>1271105.5</td>\n",
       "      <td>1.580420</td>\n",
       "      <td>6.787456</td>\n",
       "      <td>6.672474</td>\n",
       "      <td>3.825784</td>\n",
       "      <td>2.404181</td>\n",
       "      <td>7.668990</td>\n",
       "      <td>6.554007</td>\n",
       "      <td>2.815331</td>\n",
       "      <td>2.491289</td>\n",
       "      <td>3.547038</td>\n",
       "      <td>2.442509</td>\n",
       "      <td>2.459930</td>\n",
       "      <td>2.296167</td>\n",
       "      <td>2.766551</td>\n",
       "      <td>2.324042</td>\n",
       "    </tr>\n",
       "    <tr>\n",
       "      <th>2.0</th>\n",
       "      <td>16.846471</td>\n",
       "      <td>15.040269</td>\n",
       "      <td>1.451342</td>\n",
       "      <td>1965.412752</td>\n",
       "      <td>6.298658</td>\n",
       "      <td>1415841.5</td>\n",
       "      <td>1.699664</td>\n",
       "      <td>5.261745</td>\n",
       "      <td>6.939597</td>\n",
       "      <td>3.825503</td>\n",
       "      <td>2.036913</td>\n",
       "      <td>8.015101</td>\n",
       "      <td>8.468121</td>\n",
       "      <td>3.132550</td>\n",
       "      <td>2.729866</td>\n",
       "      <td>3.860738</td>\n",
       "      <td>2.352349</td>\n",
       "      <td>2.484899</td>\n",
       "      <td>2.406040</td>\n",
       "      <td>2.901007</td>\n",
       "      <td>2.315436</td>\n",
       "    </tr>\n",
       "    <tr>\n",
       "      <th>8.0</th>\n",
       "      <td>16.560695</td>\n",
       "      <td>15.326776</td>\n",
       "      <td>1.546448</td>\n",
       "      <td>1961.880146</td>\n",
       "      <td>4.699454</td>\n",
       "      <td>1446802.5</td>\n",
       "      <td>1.574135</td>\n",
       "      <td>10.890710</td>\n",
       "      <td>12.264117</td>\n",
       "      <td>3.697268</td>\n",
       "      <td>2.723133</td>\n",
       "      <td>16.091803</td>\n",
       "      <td>15.110747</td>\n",
       "      <td>2.887796</td>\n",
       "      <td>2.560656</td>\n",
       "      <td>3.877960</td>\n",
       "      <td>3.103825</td>\n",
       "      <td>3.472495</td>\n",
       "      <td>3.459381</td>\n",
       "      <td>3.671767</td>\n",
       "      <td>2.550091</td>\n",
       "    </tr>\n",
       "  </tbody>\n",
       "</table>\n",
       "</div>"
      ],
      "text/plain": [
       "           score        s41        a2          a3a       a7a        a8a  \\\n",
       "l2409                                                                     \n",
       "1.0    16.197448  16.101046  1.484321  1964.585366  5.083624  1271105.5   \n",
       "2.0    16.846471  15.040269  1.451342  1965.412752  6.298658  1415841.5   \n",
       "8.0    16.560695  15.326776  1.546448  1961.880146  4.699454  1446802.5   \n",
       "\n",
       "            a91        l1a        l1b       l6a       l6b        l7a  \\\n",
       "l2409                                                                  \n",
       "1.0    1.580420   6.787456   6.672474  3.825784  2.404181   7.668990   \n",
       "2.0    1.699664   5.261745   6.939597  3.825503  2.036913   8.015101   \n",
       "8.0    1.574135  10.890710  12.264117  3.697268  2.723133  16.091803   \n",
       "\n",
       "             l7b       l8a       l8b      l137      l14d      l15a      l15b  \\\n",
       "l2409                                                                          \n",
       "1.0     6.554007  2.815331  2.491289  3.547038  2.442509  2.459930  2.296167   \n",
       "2.0     8.468121  3.132550  2.729866  3.860738  2.352349  2.484899  2.406040   \n",
       "8.0    15.110747  2.887796  2.560656  3.877960  3.103825  3.472495  3.459381   \n",
       "\n",
       "           l16c      l20e  \n",
       "l2409                      \n",
       "1.0    2.766551  2.324042  \n",
       "2.0    2.901007  2.315436  \n",
       "8.0    3.671767  2.550091  "
      ]
     },
     "execution_count": 284,
     "metadata": {},
     "output_type": "execute_result"
    }
   ],
   "source": [
    "cgss_wq_score_l2409_8.groupby('l2409').agg('mean')"
   ]
  },
  {
   "cell_type": "code",
   "execution_count": 353,
   "metadata": {},
   "outputs": [
    {
     "data": {
      "image/png": "[encoded data removed]",
      "text/plain": [
       "<Figure size 360x360 with 1 Axes>"
      ]
     },
     "metadata": {},
     "output_type": "display_data"
    }
   ],
   "source": [
    "h6_fig1 = sns.catplot(\n",
    "    data=cgss_wq[~cgss_wq['l2409'].isin([-3,-2])],\n",
    "    y = 'l2409',\n",
    "    x = 'score',\n",
    "    # hue='a91',\n",
    "    #split=True,\n",
    "    kind='boxen',\n",
    "    # scale='mean',\n",
    "    orient='h',\n",
    "    )\n",
    "h6_fig1.set(xlabel='Water Quality', ylabel='Water Quality Knowledge', title='Water Quality Knowledge vs. Water Quality Score')\n",
    "h6_fig1.savefig('outputs/h6_fig1.png', dpi=600)"
   ]
  },
  {
   "cell_type": "code",
   "execution_count": 286,
   "metadata": {},
   "outputs": [
    {
     "data": {
      "text/html": [
       "<div>\n",
       "<style scoped>\n",
       "    .dataframe tbody tr th:only-of-type {\n",
       "        vertical-align: middle;\n",
       "    }\n",
       "\n",
       "    .dataframe tbody tr th {\n",
       "        vertical-align: top;\n",
       "    }\n",
       "\n",
       "    .dataframe thead th {\n",
       "        text-align: right;\n",
       "    }\n",
       "</style>\n",
       "<table border=\"1\" class=\"dataframe\">\n",
       "  <thead>\n",
       "    <tr style=\"text-align: right;\">\n",
       "      <th></th>\n",
       "      <th>n</th>\n",
       "      <th>r</th>\n",
       "      <th>CI95%</th>\n",
       "      <th>r2</th>\n",
       "      <th>adj_r2</th>\n",
       "      <th>p-val</th>\n",
       "      <th>power</th>\n",
       "    </tr>\n",
       "  </thead>\n",
       "  <tbody>\n",
       "    <tr>\n",
       "      <th>kendall</th>\n",
       "      <td>3628</td>\n",
       "      <td>-0.095982</td>\n",
       "      <td>[-0.13, -0.06]</td>\n",
       "      <td>0.009213</td>\n",
       "      <td>0.008666</td>\n",
       "      <td>2.450049e-14</td>\n",
       "      <td>0.999938</td>\n",
       "    </tr>\n",
       "  </tbody>\n",
       "</table>\n",
       "</div>"
      ],
      "text/plain": [
       "            n         r           CI95%        r2    adj_r2         p-val  \\\n",
       "kendall  3628 -0.095982  [-0.13, -0.06]  0.009213  0.008666  2.450049e-14   \n",
       "\n",
       "            power  \n",
       "kendall  0.999938  "
      ]
     },
     "execution_count": 286,
     "metadata": {},
     "output_type": "execute_result"
    }
   ],
   "source": [
    "pi.corr(x=cgss_wq_score_l2409_8['score'], y=cgss_wq_score_l2409_8['l14d'], method='kendall')"
   ]
  },
  {
   "cell_type": "markdown",
   "metadata": {},
   "source": [
    "---"
   ]
  },
  {
   "cell_type": "markdown",
   "metadata": {},
   "source": [
    "<div class=\"alert alert-block alert-info\">\n",
    "<b>Note:</b> Sections below are not final. Work in progress (March 11th, 2021).</div>"
   ]
  },
  {
   "cell_type": "markdown",
   "metadata": {},
   "source": [
    "---"
   ]
  },
  {
   "cell_type": "markdown",
   "metadata": {},
   "source": [
    "## Additional descriptive analysis"
   ]
  },
  {
   "cell_type": "markdown",
   "metadata": {},
   "source": [
    "### `l6`\n",
    "Start with `l6`, where:\n",
    "- `l6a` asks \"Generally speaking, how much do you care about environmental issues?\n",
    "- `l6b` asks \"Based on your own judgment, on the whole, do you think the environmental problems facing China are serious?\""
   ]
  },
  {
   "cell_type": "markdown",
   "metadata": {},
   "source": [
    "First, clean data: (**Note**: When I tried this in one step (two columns), I was having graph issues later, so I did each step individually)"
   ]
  },
  {
   "cell_type": "code",
   "execution_count": 287,
   "metadata": {},
   "outputs": [],
   "source": [
    "cgss_wq_l6 = cgss_wq[cgss_wq['l6a']>0]\n",
    "cgss_wq_l6 = cgss_wq_l6[cgss_wq_l6['l6a']<6]\n",
    "cgss_wq_l6 = cgss_wq_l6[cgss_wq_l6['l6b']>0]\n",
    "cgss_wq_l6 = cgss_wq_l6[cgss_wq_l6['l6b']<6]"
   ]
  },
  {
   "cell_type": "markdown",
   "metadata": {},
   "source": [
    "Plot"
   ]
  },
  {
   "cell_type": "code",
   "execution_count": 288,
   "metadata": {},
   "outputs": [
    {
     "name": "stderr",
     "output_type": "stream",
     "text": [
      "<ipython-input-288-87e41f0317c0>:2: UserWarning: To output multiple subplots, the figure containing the passed axes is being cleared\n",
      "  cgss_wq_l6.hist(['l6a','l6b'], ax=ax)\n"
     ]
    },
    {
     "data": {
      "image/png": "[encoded data removed]",
      "text/plain": [
       "<Figure size 432x288 with 2 Axes>"
      ]
     },
     "metadata": {},
     "output_type": "display_data"
    }
   ],
   "source": [
    "fig, ax = plt.subplots()\n",
    "cgss_wq_l6.hist(['l6a','l6b'], ax=ax)\n",
    "fig.savefig('outputs/l6_fig1.png', dpi=600)"
   ]
  },
  {
   "cell_type": "code",
   "execution_count": 357,
   "metadata": {},
   "outputs": [
    {
     "data": {
      "image/png": "[encoded data removed]",
      "text/plain": [
       "<Figure size 403.93x360 with 1 Axes>"
      ]
     },
     "metadata": {},
     "output_type": "display_data"
    }
   ],
   "source": [
    "l6_fig2 = sns.lmplot(\n",
    "    data=cgss_wq_l6,\n",
    "    x = 'l6a',\n",
    "    y = 'l6b',\n",
    "    x_estimator=np.mean,\n",
    "    hue='a91'\n",
    "    )\n",
    "l6_fig2.set(xlabel='Environmental Concern', ylabel='Environmental Severity in China', title='Environmental Severity vs. Concern')\n",
    "l6_fig2._legend.set_title('Rural Classification')\n",
    "new_labels = ['Rural', 'Non-Rural']\n",
    "for t, l in zip(l6_fig2._legend.texts, new_labels): t.set_text(l) # see source in Hypothesis 2 section\n",
    "l6_fig2.savefig('outputs/l6_fig2.png', dpi=600)"
   ]
  },
  {
   "cell_type": "code",
   "execution_count": 290,
   "metadata": {},
   "outputs": [
    {
     "data": {
      "text/html": [
       "<div>\n",
       "<style scoped>\n",
       "    .dataframe tbody tr th:only-of-type {\n",
       "        vertical-align: middle;\n",
       "    }\n",
       "\n",
       "    .dataframe tbody tr th {\n",
       "        vertical-align: top;\n",
       "    }\n",
       "\n",
       "    .dataframe thead th {\n",
       "        text-align: right;\n",
       "    }\n",
       "</style>\n",
       "<table border=\"1\" class=\"dataframe\">\n",
       "  <thead>\n",
       "    <tr style=\"text-align: right;\">\n",
       "      <th></th>\n",
       "      <th>n</th>\n",
       "      <th>r</th>\n",
       "      <th>CI95%</th>\n",
       "      <th>r2</th>\n",
       "      <th>adj_r2</th>\n",
       "      <th>p-val</th>\n",
       "      <th>BF10</th>\n",
       "      <th>power</th>\n",
       "    </tr>\n",
       "  </thead>\n",
       "  <tbody>\n",
       "    <tr>\n",
       "      <th>pearson</th>\n",
       "      <td>3362</td>\n",
       "      <td>-0.272594</td>\n",
       "      <td>[-0.3, -0.24]</td>\n",
       "      <td>0.074307</td>\n",
       "      <td>0.073756</td>\n",
       "      <td>2.322155e-58</td>\n",
       "      <td>4.335e+54</td>\n",
       "      <td>1.0</td>\n",
       "    </tr>\n",
       "  </tbody>\n",
       "</table>\n",
       "</div>"
      ],
      "text/plain": [
       "            n         r          CI95%        r2    adj_r2         p-val  \\\n",
       "pearson  3362 -0.272594  [-0.3, -0.24]  0.074307  0.073756  2.322155e-58   \n",
       "\n",
       "              BF10  power  \n",
       "pearson  4.335e+54    1.0  "
      ]
     },
     "execution_count": 290,
     "metadata": {},
     "output_type": "execute_result"
    }
   ],
   "source": [
    "pi.corr(x=cgss_wq_l6['l6a'], y=cgss_wq_l6['l6b'])"
   ]
  },
  {
   "cell_type": "markdown",
   "metadata": {},
   "source": [
    "### `l7`"
   ]
  },
  {
   "cell_type": "markdown",
   "metadata": {},
   "source": [
    "Compare with `l7` (\"Which issue do you think is the most important environmental issue in China?\")\n",
    "- `l7a`: most important to China\n",
    "- `l7b`: most impactful to family\n",
    "\n",
    "Values:\n",
    "- Air Pollution - 1\n",
    "- Fertilizer and pesticide pollution - 2\n",
    "- Water scarcity - 3\n",
    "- Water pollution - 4\n",
    "- Nuclear waste - 5\n",
    "- Disposal of domestic waste - 6\n",
    "- Climate Change - 7\n",
    "- Genetically modified food - 8\n",
    "- Depletion of natural resources - 9\n",
    "- None of the above - 10\n",
    "- Cannot select - 98"
   ]
  },
  {
   "cell_type": "markdown",
   "metadata": {},
   "source": [
    "Make label dictionary"
   ]
  },
  {
   "cell_type": "code",
   "execution_count": 376,
   "metadata": {},
   "outputs": [],
   "source": [
    "l7_labels = {'Air Pollution':1, 'Fertilizer and pesticide pollution':2, 'Water scarcity':3, 'Water pollution':4, 'Nuclear waste':5, 'Disposal of domestic waste':6, 'Climate Change':7, 'Genetically modified food':8, 'Depletion of natural resources':9, 'None of the above': 10}"
   ]
  },
  {
   "cell_type": "markdown",
   "metadata": {},
   "source": [
    "Convert to dataframe"
   ]
  },
  {
   "cell_type": "code",
   "execution_count": 292,
   "metadata": {},
   "outputs": [],
   "source": [
    "l7_df = pd.DataFrame.from_dict(l7_labels, orient='index', columns=['l7a'])"
   ]
  },
  {
   "cell_type": "markdown",
   "metadata": {},
   "source": [
    "**Attempting to put labels on histogram below, but can't**"
   ]
  },
  {
   "cell_type": "markdown",
   "metadata": {},
   "source": [
    "Clean data, drop 10 & 98 (use the '~' to negate the .isin() function)\n",
    "Cleaning both at the same time results in the same as doing it individually"
   ]
  },
  {
   "cell_type": "code",
   "execution_count": 293,
   "metadata": {},
   "outputs": [],
   "source": [
    "cgss_wq_l7=cgss_wq[~cgss_wq[['l7a','l7b']].isin([-3,-1,98])]"
   ]
  },
  {
   "cell_type": "code",
   "execution_count": 294,
   "metadata": {},
   "outputs": [
    {
     "data": {
      "text/html": [
       "<div>\n",
       "<style scoped>\n",
       "    .dataframe tbody tr th:only-of-type {\n",
       "        vertical-align: middle;\n",
       "    }\n",
       "\n",
       "    .dataframe tbody tr th {\n",
       "        vertical-align: top;\n",
       "    }\n",
       "\n",
       "    .dataframe thead th {\n",
       "        text-align: right;\n",
       "    }\n",
       "</style>\n",
       "<table border=\"1\" class=\"dataframe\">\n",
       "  <thead>\n",
       "    <tr style=\"text-align: right;\">\n",
       "      <th></th>\n",
       "      <th>l7a</th>\n",
       "      <th>l7b</th>\n",
       "    </tr>\n",
       "  </thead>\n",
       "  <tbody>\n",
       "    <tr>\n",
       "      <th>count</th>\n",
       "      <td>3253.000000</td>\n",
       "      <td>3298.000000</td>\n",
       "    </tr>\n",
       "    <tr>\n",
       "      <th>mean</th>\n",
       "      <td>3.554565</td>\n",
       "      <td>3.990297</td>\n",
       "    </tr>\n",
       "    <tr>\n",
       "      <th>std</th>\n",
       "      <td>2.478664</td>\n",
       "      <td>2.725078</td>\n",
       "    </tr>\n",
       "    <tr>\n",
       "      <th>min</th>\n",
       "      <td>1.000000</td>\n",
       "      <td>1.000000</td>\n",
       "    </tr>\n",
       "    <tr>\n",
       "      <th>25%</th>\n",
       "      <td>1.000000</td>\n",
       "      <td>1.000000</td>\n",
       "    </tr>\n",
       "    <tr>\n",
       "      <th>50%</th>\n",
       "      <td>4.000000</td>\n",
       "      <td>4.000000</td>\n",
       "    </tr>\n",
       "    <tr>\n",
       "      <th>75%</th>\n",
       "      <td>6.000000</td>\n",
       "      <td>6.000000</td>\n",
       "    </tr>\n",
       "    <tr>\n",
       "      <th>max</th>\n",
       "      <td>10.000000</td>\n",
       "      <td>10.000000</td>\n",
       "    </tr>\n",
       "  </tbody>\n",
       "</table>\n",
       "</div>"
      ],
      "text/plain": [
       "               l7a          l7b\n",
       "count  3253.000000  3298.000000\n",
       "mean      3.554565     3.990297\n",
       "std       2.478664     2.725078\n",
       "min       1.000000     1.000000\n",
       "25%       1.000000     1.000000\n",
       "50%       4.000000     4.000000\n",
       "75%       6.000000     6.000000\n",
       "max      10.000000    10.000000"
      ]
     },
     "execution_count": 294,
     "metadata": {},
     "output_type": "execute_result"
    }
   ],
   "source": [
    "cgss_wq_l7[['l7a','l7b']].describe()"
   ]
  },
  {
   "cell_type": "code",
   "execution_count": 295,
   "metadata": {},
   "outputs": [
    {
     "name": "stderr",
     "output_type": "stream",
     "text": [
      "<ipython-input-295-ebaf093d0f89>:2: UserWarning: To output multiple subplots, the figure containing the passed axes is being cleared\n",
      "  cgss_wq_l7.hist(['l7a','l7b'], ax=ax)\n"
     ]
    },
    {
     "data": {
      "image/png": "[encoded data removed]",
      "text/plain": [
       "<Figure size 432x288 with 2 Axes>"
      ]
     },
     "metadata": {},
     "output_type": "display_data"
    }
   ],
   "source": [
    "fig, ax = plt.subplots()\n",
    "cgss_wq_l7.hist(['l7a','l7b'], ax=ax)\n",
    "fig.savefig('outputs/l7_fig1.png', dpi=600)"
   ]
  },
  {
   "cell_type": "code",
   "execution_count": 388,
   "metadata": {},
   "outputs": [
    {
     "data": {
      "image/png": "[encoded data removed]",
      "text/plain": [
       "<Figure size 360x360 with 1 Axes>"
      ]
     },
     "metadata": {},
     "output_type": "display_data"
    }
   ],
   "source": [
    "l7_fig2 = sns.displot(\n",
    "    data=cgss_wq_l7, \n",
    "    y='l7a', \n",
    "    # hue='l7b', \n",
    "    discrete = True,\n",
    "    bins=11,\n",
    "    # multiple='stack',\n",
    "    kind = 'hist'\n",
    "    )\n",
    "l7_fig2.set(ylabel='Most Important Environmental Issue', xlabel='Response Count', title='Distribution of the Most Important Environmental Concerns in China')\n",
    "l7_fig2.ax.set_yticks([1,2,3,4,5,6,7,8,9,10])\n",
    "l7_fig2.set_yticklabels(l7_labels)\n",
    "l7_fig2.savefig('outputs/l7_fig2.png', dpi=600)"
   ]
  },
  {
   "cell_type": "code",
   "execution_count": 394,
   "metadata": {},
   "outputs": [
    {
     "data": {
      "image/png": "[encoded data removed]",
      "text/plain": [
       "<Figure size 360x360 with 1 Axes>"
      ]
     },
     "metadata": {},
     "output_type": "display_data"
    }
   ],
   "source": [
    "l7_fig3 = sns.displot(\n",
    "    data=cgss_wq_l7, \n",
    "    y='l7b',\n",
    "    discrete = True, \n",
    "    bins = 11,\n",
    "    kind = 'hist'\n",
    "    )\n",
    "l7_fig3.set(ylabel='Most Important Environmental Issue', xlabel='Response Count', title=\"Distribution of the Most Impactful Environmental issue to Respondents' Family\")\n",
    "l7_fig3.ax.set_yticks([1,2,3,4,5,6,7,8,9,10])\n",
    "l7_fig3.set_yticklabels(l7_labels)\n",
    "l7_fig3.savefig('outputs/l7_fig3.png', dpi=600)"
   ]
  },
  {
   "cell_type": "markdown",
   "metadata": {},
   "source": [
    "### Score vs knowledge `l2409`"
   ]
  },
  {
   "cell_type": "markdown",
   "metadata": {},
   "source": [
    "---"
   ]
  },
  {
   "cell_type": "markdown",
   "metadata": {},
   "source": [
    "## Normalize Data"
   ]
  },
  {
   "cell_type": "markdown",
   "metadata": {},
   "source": [
    "---"
   ]
  },
  {
   "cell_type": "markdown",
   "metadata": {},
   "source": [
    "## Multivariable statistical analysis"
   ]
  },
  {
   "cell_type": "code",
   "execution_count": 298,
   "metadata": {},
   "outputs": [
    {
     "data": {
      "text/html": [
       "<table class=\"simpletable\">\n",
       "<caption>OLS Regression Results</caption>\n",
       "<tr>\n",
       "  <th>Dep. Variable:</th>          <td>l14d</td>       <th>  R-squared:         </th> <td>   0.066</td> \n",
       "</tr>\n",
       "<tr>\n",
       "  <th>Model:</th>                   <td>OLS</td>       <th>  Adj. R-squared:    </th> <td>   0.064</td> \n",
       "</tr>\n",
       "<tr>\n",
       "  <th>Method:</th>             <td>Least Squares</td>  <th>  F-statistic:       </th> <td>   51.50</td> \n",
       "</tr>\n",
       "<tr>\n",
       "  <th>Date:</th>             <td>Thu, 25 Mar 2021</td> <th>  Prob (F-statistic):</th> <td>9.21e-52</td> \n",
       "</tr>\n",
       "<tr>\n",
       "  <th>Time:</th>                 <td>10:33:01</td>     <th>  Log-Likelihood:    </th> <td> -7618.3</td> \n",
       "</tr>\n",
       "<tr>\n",
       "  <th>No. Observations:</th>      <td>  3671</td>      <th>  AIC:               </th> <td>1.525e+04</td>\n",
       "</tr>\n",
       "<tr>\n",
       "  <th>Df Residuals:</th>          <td>  3665</td>      <th>  BIC:               </th> <td>1.529e+04</td>\n",
       "</tr>\n",
       "<tr>\n",
       "  <th>Df Model:</th>              <td>     5</td>      <th>                     </th>     <td> </td>    \n",
       "</tr>\n",
       "<tr>\n",
       "  <th>Covariance Type:</th>      <td>nonrobust</td>    <th>                     </th>     <td> </td>    \n",
       "</tr>\n",
       "</table>\n",
       "<table class=\"simpletable\">\n",
       "<tr>\n",
       "        <td></td>           <th>coef</th>     <th>std err</th>      <th>t</th>      <th>P>|t|</th>  <th>[0.025</th>    <th>0.975]</th>  \n",
       "</tr>\n",
       "<tr>\n",
       "  <th>Intercept</th>     <td>    4.4156</td> <td>    1.174</td> <td>    3.761</td> <td> 0.000</td> <td>    2.114</td> <td>    6.717</td>\n",
       "</tr>\n",
       "<tr>\n",
       "  <th>C(a2)[T.2]</th>    <td>    0.0559</td> <td>    0.065</td> <td>    0.865</td> <td> 0.387</td> <td>   -0.071</td> <td>    0.183</td>\n",
       "</tr>\n",
       "<tr>\n",
       "  <th>C(a91)[T.1.0]</th> <td>    2.3748</td> <td>    0.591</td> <td>    4.018</td> <td> 0.000</td> <td>    1.216</td> <td>    3.533</td>\n",
       "</tr>\n",
       "<tr>\n",
       "  <th>C(a91)[T.2.0]</th> <td>    2.0408</td> <td>    0.585</td> <td>    3.487</td> <td> 0.000</td> <td>    0.893</td> <td>    3.188</td>\n",
       "</tr>\n",
       "<tr>\n",
       "  <th>score</th>         <td>   -0.0248</td> <td>    0.007</td> <td>   -3.446</td> <td> 0.001</td> <td>   -0.039</td> <td>   -0.011</td>\n",
       "</tr>\n",
       "<tr>\n",
       "  <th>a3a</th>           <td>   -0.0014</td> <td>    0.001</td> <td>   -1.518</td> <td> 0.129</td> <td>   -0.003</td> <td>    0.000</td>\n",
       "</tr>\n",
       "<tr>\n",
       "  <th>a7a</th>           <td>   -0.1223</td> <td>    0.012</td> <td>  -10.140</td> <td> 0.000</td> <td>   -0.146</td> <td>   -0.099</td>\n",
       "</tr>\n",
       "</table>\n",
       "<table class=\"simpletable\">\n",
       "<tr>\n",
       "  <th>Omnibus:</th>       <td>912.726</td> <th>  Durbin-Watson:     </th> <td>   1.849</td>\n",
       "</tr>\n",
       "<tr>\n",
       "  <th>Prob(Omnibus):</th> <td> 0.000</td>  <th>  Jarque-Bera (JB):  </th> <td>1900.260</td>\n",
       "</tr>\n",
       "<tr>\n",
       "  <th>Skew:</th>          <td> 1.460</td>  <th>  Prob(JB):          </th> <td>    0.00</td>\n",
       "</tr>\n",
       "<tr>\n",
       "  <th>Kurtosis:</th>      <td> 4.974</td>  <th>  Cond. No.          </th> <td>2.36e+17</td>\n",
       "</tr>\n",
       "</table><br/><br/>Notes:<br/>[1] Standard Errors assume that the covariance matrix of the errors is correctly specified.<br/>[2] The smallest eigenvalue is 2.55e-25. This might indicate that there are<br/>strong multicollinearity problems or that the design matrix is singular."
      ],
      "text/plain": [
       "<class 'statsmodels.iolib.summary.Summary'>\n",
       "\"\"\"\n",
       "                            OLS Regression Results                            \n",
       "==============================================================================\n",
       "Dep. Variable:                   l14d   R-squared:                       0.066\n",
       "Model:                            OLS   Adj. R-squared:                  0.064\n",
       "Method:                 Least Squares   F-statistic:                     51.50\n",
       "Date:                Thu, 25 Mar 2021   Prob (F-statistic):           9.21e-52\n",
       "Time:                        10:33:01   Log-Likelihood:                -7618.3\n",
       "No. Observations:                3671   AIC:                         1.525e+04\n",
       "Df Residuals:                    3665   BIC:                         1.529e+04\n",
       "Df Model:                           5                                         \n",
       "Covariance Type:            nonrobust                                         \n",
       "=================================================================================\n",
       "                    coef    std err          t      P>|t|      [0.025      0.975]\n",
       "---------------------------------------------------------------------------------\n",
       "Intercept         4.4156      1.174      3.761      0.000       2.114       6.717\n",
       "C(a2)[T.2]        0.0559      0.065      0.865      0.387      -0.071       0.183\n",
       "C(a91)[T.1.0]     2.3748      0.591      4.018      0.000       1.216       3.533\n",
       "C(a91)[T.2.0]     2.0408      0.585      3.487      0.000       0.893       3.188\n",
       "score            -0.0248      0.007     -3.446      0.001      -0.039      -0.011\n",
       "a3a              -0.0014      0.001     -1.518      0.129      -0.003       0.000\n",
       "a7a              -0.1223      0.012    -10.140      0.000      -0.146      -0.099\n",
       "==============================================================================\n",
       "Omnibus:                      912.726   Durbin-Watson:                   1.849\n",
       "Prob(Omnibus):                  0.000   Jarque-Bera (JB):             1900.260\n",
       "Skew:                           1.460   Prob(JB):                         0.00\n",
       "Kurtosis:                       4.974   Cond. No.                     2.36e+17\n",
       "==============================================================================\n",
       "\n",
       "Notes:\n",
       "[1] Standard Errors assume that the covariance matrix of the errors is correctly specified.\n",
       "[2] The smallest eigenvalue is 2.55e-25. This might indicate that there are\n",
       "strong multicollinearity problems or that the design matrix is singular.\n",
       "\"\"\""
      ]
     },
     "execution_count": 298,
     "metadata": {},
     "output_type": "execute_result"
    }
   ],
   "source": [
    "ols_perception = smf.ols('l14d ~ score + C(a2) + a3a + a7a + C(a91)', data = cgss_wq).fit()\n",
    "ols_perception.summary()"
   ]
  },
  {
   "cell_type": "code",
   "execution_count": 299,
   "metadata": {},
   "outputs": [
    {
     "data": {
      "text/html": [
       "<table class=\"simpletable\">\n",
       "<caption>OLS Regression Results</caption>\n",
       "<tr>\n",
       "  <th>Dep. Variable:</th>          <td>l2409</td>      <th>  R-squared:         </th> <td>   0.008</td> \n",
       "</tr>\n",
       "<tr>\n",
       "  <th>Model:</th>                   <td>OLS</td>       <th>  Adj. R-squared:    </th> <td>   0.008</td> \n",
       "</tr>\n",
       "<tr>\n",
       "  <th>Method:</th>             <td>Least Squares</td>  <th>  F-statistic:       </th> <td>   10.30</td> \n",
       "</tr>\n",
       "<tr>\n",
       "  <th>Date:</th>             <td>Thu, 25 Mar 2021</td> <th>  Prob (F-statistic):</th> <td>9.48e-07</td> \n",
       "</tr>\n",
       "<tr>\n",
       "  <th>Time:</th>                 <td>10:33:01</td>     <th>  Log-Likelihood:    </th> <td> -9076.6</td> \n",
       "</tr>\n",
       "<tr>\n",
       "  <th>No. Observations:</th>      <td>  3671</td>      <th>  AIC:               </th> <td>1.816e+04</td>\n",
       "</tr>\n",
       "<tr>\n",
       "  <th>Df Residuals:</th>          <td>  3667</td>      <th>  BIC:               </th> <td>1.819e+04</td>\n",
       "</tr>\n",
       "<tr>\n",
       "  <th>Df Model:</th>              <td>     3</td>      <th>                     </th>     <td> </td>    \n",
       "</tr>\n",
       "<tr>\n",
       "  <th>Covariance Type:</th>      <td>nonrobust</td>    <th>                     </th>     <td> </td>    \n",
       "</tr>\n",
       "</table>\n",
       "<table class=\"simpletable\">\n",
       "<tr>\n",
       "        <td></td>           <th>coef</th>     <th>std err</th>      <th>t</th>      <th>P>|t|</th>  <th>[0.025</th>    <th>0.975]</th>  \n",
       "</tr>\n",
       "<tr>\n",
       "  <th>Intercept</th>     <td>    3.9345</td> <td>    0.124</td> <td>   31.740</td> <td> 0.000</td> <td>    3.691</td> <td>    4.178</td>\n",
       "</tr>\n",
       "<tr>\n",
       "  <th>C(a2)[T.2]</th>    <td>    0.3458</td> <td>    0.095</td> <td>    3.643</td> <td> 0.000</td> <td>    0.160</td> <td>    0.532</td>\n",
       "</tr>\n",
       "<tr>\n",
       "  <th>C(a91)[T.1.0]</th> <td>    2.1612</td> <td>    0.076</td> <td>   28.491</td> <td> 0.000</td> <td>    2.013</td> <td>    2.310</td>\n",
       "</tr>\n",
       "<tr>\n",
       "  <th>C(a91)[T.2.0]</th> <td>    1.7733</td> <td>    0.082</td> <td>   21.725</td> <td> 0.000</td> <td>    1.613</td> <td>    1.933</td>\n",
       "</tr>\n",
       "<tr>\n",
       "  <th>score</th>         <td>    0.0185</td> <td>    0.011</td> <td>    1.747</td> <td> 0.081</td> <td>   -0.002</td> <td>    0.039</td>\n",
       "</tr>\n",
       "</table>\n",
       "<table class=\"simpletable\">\n",
       "<tr>\n",
       "  <th>Omnibus:</th>       <td>617.759</td> <th>  Durbin-Watson:     </th> <td>   1.683</td> \n",
       "</tr>\n",
       "<tr>\n",
       "  <th>Prob(Omnibus):</th> <td> 0.000</td>  <th>  Jarque-Bera (JB):  </th> <td> 991.087</td> \n",
       "</tr>\n",
       "<tr>\n",
       "  <th>Skew:</th>          <td>-1.273</td>  <th>  Prob(JB):          </th> <td>6.14e-216</td>\n",
       "</tr>\n",
       "<tr>\n",
       "  <th>Kurtosis:</th>      <td> 3.017</td>  <th>  Cond. No.          </th> <td>2.06e+15</td> \n",
       "</tr>\n",
       "</table><br/><br/>Notes:<br/>[1] Standard Errors assume that the covariance matrix of the errors is correctly specified.<br/>[2] The smallest eigenvalue is 2.56e-25. This might indicate that there are<br/>strong multicollinearity problems or that the design matrix is singular."
      ],
      "text/plain": [
       "<class 'statsmodels.iolib.summary.Summary'>\n",
       "\"\"\"\n",
       "                            OLS Regression Results                            \n",
       "==============================================================================\n",
       "Dep. Variable:                  l2409   R-squared:                       0.008\n",
       "Model:                            OLS   Adj. R-squared:                  0.008\n",
       "Method:                 Least Squares   F-statistic:                     10.30\n",
       "Date:                Thu, 25 Mar 2021   Prob (F-statistic):           9.48e-07\n",
       "Time:                        10:33:01   Log-Likelihood:                -9076.6\n",
       "No. Observations:                3671   AIC:                         1.816e+04\n",
       "Df Residuals:                    3667   BIC:                         1.819e+04\n",
       "Df Model:                           3                                         \n",
       "Covariance Type:            nonrobust                                         \n",
       "=================================================================================\n",
       "                    coef    std err          t      P>|t|      [0.025      0.975]\n",
       "---------------------------------------------------------------------------------\n",
       "Intercept         3.9345      0.124     31.740      0.000       3.691       4.178\n",
       "C(a2)[T.2]        0.3458      0.095      3.643      0.000       0.160       0.532\n",
       "C(a91)[T.1.0]     2.1612      0.076     28.491      0.000       2.013       2.310\n",
       "C(a91)[T.2.0]     1.7733      0.082     21.725      0.000       1.613       1.933\n",
       "score             0.0185      0.011      1.747      0.081      -0.002       0.039\n",
       "==============================================================================\n",
       "Omnibus:                      617.759   Durbin-Watson:                   1.683\n",
       "Prob(Omnibus):                  0.000   Jarque-Bera (JB):              991.087\n",
       "Skew:                          -1.273   Prob(JB):                    6.14e-216\n",
       "Kurtosis:                       3.017   Cond. No.                     2.06e+15\n",
       "==============================================================================\n",
       "\n",
       "Notes:\n",
       "[1] Standard Errors assume that the covariance matrix of the errors is correctly specified.\n",
       "[2] The smallest eigenvalue is 2.56e-25. This might indicate that there are\n",
       "strong multicollinearity problems or that the design matrix is singular.\n",
       "\"\"\""
      ]
     },
     "execution_count": 299,
     "metadata": {},
     "output_type": "execute_result"
    }
   ],
   "source": [
    "ols_knowledge = smf.ols('l2409 ~ score + C(a2) + C(a91)', data = cgss_wq).fit()\n",
    "ols_knowledge.summary()"
   ]
  },
  {
   "cell_type": "markdown",
   "metadata": {},
   "source": [
    "## NOTES\n",
    "- Normalize variables (variance is different)\n",
    "- Cannot use OLS, use LOGIT (logistic regression)\n",
    "\n",
    "Things to change in the code\n",
    "1. not use OLS for categorical output but use LOGIT (logitstic regression) to model categorical output\n",
    "2. normalise continous variables as in the example notebook\n",
    "3. Use the C(...) for categoricals \n",
    "4. To use to logit, you need a binary output:\n",
    "4.a remove '8' answers to construct a first model and validate it\n",
    "4.b. since most answers are '8' and you don't want to discard them, create a new logistic regression model with ternary output (this is possible)\n",
    "\n",
    "R² shows model explains variation in dependent variable, while R is correlation between one variable and another\n",
    "- With my correlation analysis, use R\n",
    "- If I use OLS, use R²"
   ]
  },
  {
   "cell_type": "code",
   "execution_count": 300,
   "metadata": {},
   "outputs": [
    {
     "data": {
      "text/plain": [
       "count    11783.000000\n",
       "mean        16.488182\n",
       "std          4.554007\n",
       "min          6.901250\n",
       "25%         12.234444\n",
       "50%         16.965556\n",
       "75%         20.290000\n",
       "max         23.630000\n",
       "Name: score, dtype: float64"
      ]
     },
     "execution_count": 300,
     "metadata": {},
     "output_type": "execute_result"
    }
   ],
   "source": [
    "cgss_wq['score'].describe()"
   ]
  },
  {
   "cell_type": "markdown",
   "metadata": {},
   "source": [
    "## Data overview"
   ]
  },
  {
   "cell_type": "markdown",
   "metadata": {},
   "source": [
    "### Responses per province by type"
   ]
  },
  {
   "cell_type": "code",
   "execution_count": 301,
   "metadata": {},
   "outputs": [],
   "source": [
    "dem_dist = cgss_wq[demographic].dropna().groupby('s41').agg('count')"
   ]
  },
  {
   "cell_type": "code",
   "execution_count": 302,
   "metadata": {},
   "outputs": [
    {
     "data": {
      "text/html": [
       "<div>\n",
       "<style scoped>\n",
       "    .dataframe tbody tr th:only-of-type {\n",
       "        vertical-align: middle;\n",
       "    }\n",
       "\n",
       "    .dataframe tbody tr th {\n",
       "        vertical-align: top;\n",
       "    }\n",
       "\n",
       "    .dataframe thead th {\n",
       "        text-align: right;\n",
       "    }\n",
       "</style>\n",
       "<table border=\"1\" class=\"dataframe\">\n",
       "  <thead>\n",
       "    <tr style=\"text-align: right;\">\n",
       "      <th></th>\n",
       "      <th>province</th>\n",
       "      <th>province_en</th>\n",
       "      <th>score</th>\n",
       "      <th>l1a</th>\n",
       "      <th>l1b</th>\n",
       "      <th>l6a</th>\n",
       "      <th>l6b</th>\n",
       "      <th>l7a</th>\n",
       "      <th>l7b</th>\n",
       "      <th>l8a</th>\n",
       "      <th>l8b</th>\n",
       "      <th>l14d</th>\n",
       "      <th>l2409</th>\n",
       "    </tr>\n",
       "    <tr>\n",
       "      <th>s41</th>\n",
       "      <th></th>\n",
       "      <th></th>\n",
       "      <th></th>\n",
       "      <th></th>\n",
       "      <th></th>\n",
       "      <th></th>\n",
       "      <th></th>\n",
       "      <th></th>\n",
       "      <th></th>\n",
       "      <th></th>\n",
       "      <th></th>\n",
       "      <th></th>\n",
       "      <th></th>\n",
       "    </tr>\n",
       "  </thead>\n",
       "  <tbody>\n",
       "    <tr>\n",
       "      <th>1.0</th>\n",
       "      <td>183</td>\n",
       "      <td>183</td>\n",
       "      <td>183</td>\n",
       "      <td>183</td>\n",
       "      <td>183</td>\n",
       "      <td>183</td>\n",
       "      <td>183</td>\n",
       "      <td>183</td>\n",
       "      <td>183</td>\n",
       "      <td>183</td>\n",
       "      <td>183</td>\n",
       "      <td>183</td>\n",
       "      <td>183</td>\n",
       "    </tr>\n",
       "    <tr>\n",
       "      <th>2.0</th>\n",
       "      <td>103</td>\n",
       "      <td>103</td>\n",
       "      <td>103</td>\n",
       "      <td>103</td>\n",
       "      <td>103</td>\n",
       "      <td>103</td>\n",
       "      <td>103</td>\n",
       "      <td>103</td>\n",
       "      <td>103</td>\n",
       "      <td>103</td>\n",
       "      <td>103</td>\n",
       "      <td>103</td>\n",
       "      <td>103</td>\n",
       "    </tr>\n",
       "    <tr>\n",
       "      <th>3.0</th>\n",
       "      <td>28</td>\n",
       "      <td>28</td>\n",
       "      <td>28</td>\n",
       "      <td>28</td>\n",
       "      <td>28</td>\n",
       "      <td>28</td>\n",
       "      <td>28</td>\n",
       "      <td>28</td>\n",
       "      <td>28</td>\n",
       "      <td>28</td>\n",
       "      <td>28</td>\n",
       "      <td>28</td>\n",
       "      <td>28</td>\n",
       "    </tr>\n",
       "    <tr>\n",
       "      <th>4.0</th>\n",
       "      <td>173</td>\n",
       "      <td>173</td>\n",
       "      <td>173</td>\n",
       "      <td>173</td>\n",
       "      <td>173</td>\n",
       "      <td>173</td>\n",
       "      <td>173</td>\n",
       "      <td>173</td>\n",
       "      <td>173</td>\n",
       "      <td>173</td>\n",
       "      <td>173</td>\n",
       "      <td>173</td>\n",
       "      <td>173</td>\n",
       "    </tr>\n",
       "    <tr>\n",
       "      <th>5.0</th>\n",
       "      <td>164</td>\n",
       "      <td>164</td>\n",
       "      <td>164</td>\n",
       "      <td>164</td>\n",
       "      <td>164</td>\n",
       "      <td>164</td>\n",
       "      <td>164</td>\n",
       "      <td>164</td>\n",
       "      <td>164</td>\n",
       "      <td>164</td>\n",
       "      <td>164</td>\n",
       "      <td>164</td>\n",
       "      <td>164</td>\n",
       "    </tr>\n",
       "    <tr>\n",
       "      <th>6.0</th>\n",
       "      <td>179</td>\n",
       "      <td>179</td>\n",
       "      <td>179</td>\n",
       "      <td>179</td>\n",
       "      <td>179</td>\n",
       "      <td>179</td>\n",
       "      <td>179</td>\n",
       "      <td>179</td>\n",
       "      <td>179</td>\n",
       "      <td>179</td>\n",
       "      <td>179</td>\n",
       "      <td>179</td>\n",
       "      <td>179</td>\n",
       "    </tr>\n",
       "    <tr>\n",
       "      <th>7.0</th>\n",
       "      <td>120</td>\n",
       "      <td>120</td>\n",
       "      <td>120</td>\n",
       "      <td>120</td>\n",
       "      <td>120</td>\n",
       "      <td>120</td>\n",
       "      <td>120</td>\n",
       "      <td>120</td>\n",
       "      <td>120</td>\n",
       "      <td>120</td>\n",
       "      <td>120</td>\n",
       "      <td>120</td>\n",
       "      <td>120</td>\n",
       "    </tr>\n",
       "    <tr>\n",
       "      <th>8.0</th>\n",
       "      <td>27</td>\n",
       "      <td>27</td>\n",
       "      <td>27</td>\n",
       "      <td>27</td>\n",
       "      <td>27</td>\n",
       "      <td>27</td>\n",
       "      <td>27</td>\n",
       "      <td>27</td>\n",
       "      <td>27</td>\n",
       "      <td>27</td>\n",
       "      <td>27</td>\n",
       "      <td>27</td>\n",
       "      <td>27</td>\n",
       "    </tr>\n",
       "    <tr>\n",
       "      <th>9.0</th>\n",
       "      <td>126</td>\n",
       "      <td>126</td>\n",
       "      <td>126</td>\n",
       "      <td>126</td>\n",
       "      <td>126</td>\n",
       "      <td>126</td>\n",
       "      <td>126</td>\n",
       "      <td>126</td>\n",
       "      <td>126</td>\n",
       "      <td>126</td>\n",
       "      <td>126</td>\n",
       "      <td>126</td>\n",
       "      <td>126</td>\n",
       "    </tr>\n",
       "    <tr>\n",
       "      <th>10.0</th>\n",
       "      <td>153</td>\n",
       "      <td>153</td>\n",
       "      <td>153</td>\n",
       "      <td>153</td>\n",
       "      <td>153</td>\n",
       "      <td>153</td>\n",
       "      <td>153</td>\n",
       "      <td>153</td>\n",
       "      <td>153</td>\n",
       "      <td>153</td>\n",
       "      <td>153</td>\n",
       "      <td>153</td>\n",
       "      <td>153</td>\n",
       "    </tr>\n",
       "    <tr>\n",
       "      <th>11.0</th>\n",
       "      <td>96</td>\n",
       "      <td>96</td>\n",
       "      <td>96</td>\n",
       "      <td>96</td>\n",
       "      <td>96</td>\n",
       "      <td>96</td>\n",
       "      <td>96</td>\n",
       "      <td>96</td>\n",
       "      <td>96</td>\n",
       "      <td>96</td>\n",
       "      <td>96</td>\n",
       "      <td>96</td>\n",
       "      <td>96</td>\n",
       "    </tr>\n",
       "    <tr>\n",
       "      <th>12.0</th>\n",
       "      <td>190</td>\n",
       "      <td>190</td>\n",
       "      <td>190</td>\n",
       "      <td>190</td>\n",
       "      <td>190</td>\n",
       "      <td>190</td>\n",
       "      <td>190</td>\n",
       "      <td>190</td>\n",
       "      <td>190</td>\n",
       "      <td>190</td>\n",
       "      <td>190</td>\n",
       "      <td>190</td>\n",
       "      <td>190</td>\n",
       "    </tr>\n",
       "    <tr>\n",
       "      <th>13.0</th>\n",
       "      <td>122</td>\n",
       "      <td>122</td>\n",
       "      <td>122</td>\n",
       "      <td>122</td>\n",
       "      <td>122</td>\n",
       "      <td>122</td>\n",
       "      <td>122</td>\n",
       "      <td>122</td>\n",
       "      <td>122</td>\n",
       "      <td>122</td>\n",
       "      <td>122</td>\n",
       "      <td>122</td>\n",
       "      <td>122</td>\n",
       "    </tr>\n",
       "    <tr>\n",
       "      <th>14.0</th>\n",
       "      <td>18</td>\n",
       "      <td>18</td>\n",
       "      <td>18</td>\n",
       "      <td>18</td>\n",
       "      <td>18</td>\n",
       "      <td>18</td>\n",
       "      <td>18</td>\n",
       "      <td>18</td>\n",
       "      <td>18</td>\n",
       "      <td>18</td>\n",
       "      <td>18</td>\n",
       "      <td>18</td>\n",
       "      <td>18</td>\n",
       "    </tr>\n",
       "    <tr>\n",
       "      <th>15.0</th>\n",
       "      <td>158</td>\n",
       "      <td>158</td>\n",
       "      <td>158</td>\n",
       "      <td>158</td>\n",
       "      <td>158</td>\n",
       "      <td>158</td>\n",
       "      <td>158</td>\n",
       "      <td>158</td>\n",
       "      <td>158</td>\n",
       "      <td>158</td>\n",
       "      <td>158</td>\n",
       "      <td>158</td>\n",
       "      <td>158</td>\n",
       "    </tr>\n",
       "    <tr>\n",
       "      <th>16.0</th>\n",
       "      <td>165</td>\n",
       "      <td>165</td>\n",
       "      <td>165</td>\n",
       "      <td>165</td>\n",
       "      <td>165</td>\n",
       "      <td>165</td>\n",
       "      <td>165</td>\n",
       "      <td>165</td>\n",
       "      <td>165</td>\n",
       "      <td>165</td>\n",
       "      <td>165</td>\n",
       "      <td>165</td>\n",
       "      <td>165</td>\n",
       "    </tr>\n",
       "    <tr>\n",
       "      <th>17.0</th>\n",
       "      <td>91</td>\n",
       "      <td>91</td>\n",
       "      <td>91</td>\n",
       "      <td>91</td>\n",
       "      <td>91</td>\n",
       "      <td>91</td>\n",
       "      <td>91</td>\n",
       "      <td>91</td>\n",
       "      <td>91</td>\n",
       "      <td>91</td>\n",
       "      <td>91</td>\n",
       "      <td>91</td>\n",
       "      <td>91</td>\n",
       "    </tr>\n",
       "    <tr>\n",
       "      <th>18.0</th>\n",
       "      <td>157</td>\n",
       "      <td>157</td>\n",
       "      <td>157</td>\n",
       "      <td>157</td>\n",
       "      <td>157</td>\n",
       "      <td>157</td>\n",
       "      <td>157</td>\n",
       "      <td>157</td>\n",
       "      <td>157</td>\n",
       "      <td>157</td>\n",
       "      <td>157</td>\n",
       "      <td>157</td>\n",
       "      <td>157</td>\n",
       "    </tr>\n",
       "    <tr>\n",
       "      <th>19.0</th>\n",
       "      <td>196</td>\n",
       "      <td>196</td>\n",
       "      <td>196</td>\n",
       "      <td>196</td>\n",
       "      <td>196</td>\n",
       "      <td>196</td>\n",
       "      <td>196</td>\n",
       "      <td>196</td>\n",
       "      <td>196</td>\n",
       "      <td>196</td>\n",
       "      <td>196</td>\n",
       "      <td>196</td>\n",
       "      <td>196</td>\n",
       "    </tr>\n",
       "    <tr>\n",
       "      <th>20.0</th>\n",
       "      <td>29</td>\n",
       "      <td>29</td>\n",
       "      <td>29</td>\n",
       "      <td>29</td>\n",
       "      <td>29</td>\n",
       "      <td>29</td>\n",
       "      <td>29</td>\n",
       "      <td>29</td>\n",
       "      <td>29</td>\n",
       "      <td>29</td>\n",
       "      <td>29</td>\n",
       "      <td>29</td>\n",
       "      <td>29</td>\n",
       "    </tr>\n",
       "    <tr>\n",
       "      <th>21.0</th>\n",
       "      <td>209</td>\n",
       "      <td>209</td>\n",
       "      <td>209</td>\n",
       "      <td>209</td>\n",
       "      <td>209</td>\n",
       "      <td>209</td>\n",
       "      <td>209</td>\n",
       "      <td>209</td>\n",
       "      <td>209</td>\n",
       "      <td>209</td>\n",
       "      <td>209</td>\n",
       "      <td>209</td>\n",
       "      <td>209</td>\n",
       "    </tr>\n",
       "    <tr>\n",
       "      <th>22.0</th>\n",
       "      <td>155</td>\n",
       "      <td>155</td>\n",
       "      <td>155</td>\n",
       "      <td>155</td>\n",
       "      <td>155</td>\n",
       "      <td>155</td>\n",
       "      <td>155</td>\n",
       "      <td>155</td>\n",
       "      <td>155</td>\n",
       "      <td>155</td>\n",
       "      <td>155</td>\n",
       "      <td>155</td>\n",
       "      <td>155</td>\n",
       "    </tr>\n",
       "    <tr>\n",
       "      <th>23.0</th>\n",
       "      <td>52</td>\n",
       "      <td>52</td>\n",
       "      <td>52</td>\n",
       "      <td>52</td>\n",
       "      <td>52</td>\n",
       "      <td>52</td>\n",
       "      <td>52</td>\n",
       "      <td>52</td>\n",
       "      <td>52</td>\n",
       "      <td>52</td>\n",
       "      <td>52</td>\n",
       "      <td>52</td>\n",
       "      <td>52</td>\n",
       "    </tr>\n",
       "    <tr>\n",
       "      <th>24.0</th>\n",
       "      <td>101</td>\n",
       "      <td>101</td>\n",
       "      <td>101</td>\n",
       "      <td>101</td>\n",
       "      <td>101</td>\n",
       "      <td>101</td>\n",
       "      <td>101</td>\n",
       "      <td>101</td>\n",
       "      <td>101</td>\n",
       "      <td>101</td>\n",
       "      <td>101</td>\n",
       "      <td>101</td>\n",
       "      <td>101</td>\n",
       "    </tr>\n",
       "    <tr>\n",
       "      <th>25.0</th>\n",
       "      <td>19</td>\n",
       "      <td>19</td>\n",
       "      <td>19</td>\n",
       "      <td>19</td>\n",
       "      <td>19</td>\n",
       "      <td>19</td>\n",
       "      <td>19</td>\n",
       "      <td>19</td>\n",
       "      <td>19</td>\n",
       "      <td>19</td>\n",
       "      <td>19</td>\n",
       "      <td>19</td>\n",
       "      <td>19</td>\n",
       "    </tr>\n",
       "    <tr>\n",
       "      <th>26.0</th>\n",
       "      <td>89</td>\n",
       "      <td>89</td>\n",
       "      <td>89</td>\n",
       "      <td>89</td>\n",
       "      <td>89</td>\n",
       "      <td>89</td>\n",
       "      <td>89</td>\n",
       "      <td>89</td>\n",
       "      <td>89</td>\n",
       "      <td>89</td>\n",
       "      <td>89</td>\n",
       "      <td>89</td>\n",
       "      <td>89</td>\n",
       "    </tr>\n",
       "    <tr>\n",
       "      <th>27.0</th>\n",
       "      <td>119</td>\n",
       "      <td>119</td>\n",
       "      <td>119</td>\n",
       "      <td>119</td>\n",
       "      <td>119</td>\n",
       "      <td>119</td>\n",
       "      <td>119</td>\n",
       "      <td>119</td>\n",
       "      <td>119</td>\n",
       "      <td>119</td>\n",
       "      <td>119</td>\n",
       "      <td>119</td>\n",
       "      <td>119</td>\n",
       "    </tr>\n",
       "    <tr>\n",
       "      <th>28.0</th>\n",
       "      <td>89</td>\n",
       "      <td>89</td>\n",
       "      <td>89</td>\n",
       "      <td>89</td>\n",
       "      <td>89</td>\n",
       "      <td>89</td>\n",
       "      <td>89</td>\n",
       "      <td>89</td>\n",
       "      <td>89</td>\n",
       "      <td>89</td>\n",
       "      <td>89</td>\n",
       "      <td>89</td>\n",
       "      <td>89</td>\n",
       "    </tr>\n",
       "    <tr>\n",
       "      <th>29.0</th>\n",
       "      <td>120</td>\n",
       "      <td>120</td>\n",
       "      <td>120</td>\n",
       "      <td>120</td>\n",
       "      <td>120</td>\n",
       "      <td>120</td>\n",
       "      <td>120</td>\n",
       "      <td>120</td>\n",
       "      <td>120</td>\n",
       "      <td>120</td>\n",
       "      <td>120</td>\n",
       "      <td>120</td>\n",
       "      <td>120</td>\n",
       "    </tr>\n",
       "    <tr>\n",
       "      <th>30.0</th>\n",
       "      <td>26</td>\n",
       "      <td>26</td>\n",
       "      <td>26</td>\n",
       "      <td>26</td>\n",
       "      <td>26</td>\n",
       "      <td>26</td>\n",
       "      <td>26</td>\n",
       "      <td>26</td>\n",
       "      <td>26</td>\n",
       "      <td>26</td>\n",
       "      <td>26</td>\n",
       "      <td>26</td>\n",
       "      <td>26</td>\n",
       "    </tr>\n",
       "    <tr>\n",
       "      <th>31.0</th>\n",
       "      <td>215</td>\n",
       "      <td>215</td>\n",
       "      <td>215</td>\n",
       "      <td>215</td>\n",
       "      <td>215</td>\n",
       "      <td>215</td>\n",
       "      <td>215</td>\n",
       "      <td>215</td>\n",
       "      <td>215</td>\n",
       "      <td>215</td>\n",
       "      <td>215</td>\n",
       "      <td>215</td>\n",
       "      <td>215</td>\n",
       "    </tr>\n",
       "  </tbody>\n",
       "</table>\n",
       "</div>"
      ],
      "text/plain": [
       "      province  province_en  score  l1a  l1b  l6a  l6b  l7a  l7b  l8a  l8b  \\\n",
       "s41                                                                          \n",
       "1.0        183          183    183  183  183  183  183  183  183  183  183   \n",
       "2.0        103          103    103  103  103  103  103  103  103  103  103   \n",
       "3.0         28           28     28   28   28   28   28   28   28   28   28   \n",
       "4.0        173          173    173  173  173  173  173  173  173  173  173   \n",
       "5.0        164          164    164  164  164  164  164  164  164  164  164   \n",
       "6.0        179          179    179  179  179  179  179  179  179  179  179   \n",
       "7.0        120          120    120  120  120  120  120  120  120  120  120   \n",
       "8.0         27           27     27   27   27   27   27   27   27   27   27   \n",
       "9.0        126          126    126  126  126  126  126  126  126  126  126   \n",
       "10.0       153          153    153  153  153  153  153  153  153  153  153   \n",
       "11.0        96           96     96   96   96   96   96   96   96   96   96   \n",
       "12.0       190          190    190  190  190  190  190  190  190  190  190   \n",
       "13.0       122          122    122  122  122  122  122  122  122  122  122   \n",
       "14.0        18           18     18   18   18   18   18   18   18   18   18   \n",
       "15.0       158          158    158  158  158  158  158  158  158  158  158   \n",
       "16.0       165          165    165  165  165  165  165  165  165  165  165   \n",
       "17.0        91           91     91   91   91   91   91   91   91   91   91   \n",
       "18.0       157          157    157  157  157  157  157  157  157  157  157   \n",
       "19.0       196          196    196  196  196  196  196  196  196  196  196   \n",
       "20.0        29           29     29   29   29   29   29   29   29   29   29   \n",
       "21.0       209          209    209  209  209  209  209  209  209  209  209   \n",
       "22.0       155          155    155  155  155  155  155  155  155  155  155   \n",
       "23.0        52           52     52   52   52   52   52   52   52   52   52   \n",
       "24.0       101          101    101  101  101  101  101  101  101  101  101   \n",
       "25.0        19           19     19   19   19   19   19   19   19   19   19   \n",
       "26.0        89           89     89   89   89   89   89   89   89   89   89   \n",
       "27.0       119          119    119  119  119  119  119  119  119  119  119   \n",
       "28.0        89           89     89   89   89   89   89   89   89   89   89   \n",
       "29.0       120          120    120  120  120  120  120  120  120  120  120   \n",
       "30.0        26           26     26   26   26   26   26   26   26   26   26   \n",
       "31.0       215          215    215  215  215  215  215  215  215  215  215   \n",
       "\n",
       "      l14d  l2409  \n",
       "s41                \n",
       "1.0    183    183  \n",
       "2.0    103    103  \n",
       "3.0     28     28  \n",
       "4.0    173    173  \n",
       "5.0    164    164  \n",
       "6.0    179    179  \n",
       "7.0    120    120  \n",
       "8.0     27     27  \n",
       "9.0    126    126  \n",
       "10.0   153    153  \n",
       "11.0    96     96  \n",
       "12.0   190    190  \n",
       "13.0   122    122  \n",
       "14.0    18     18  \n",
       "15.0   158    158  \n",
       "16.0   165    165  \n",
       "17.0    91     91  \n",
       "18.0   157    157  \n",
       "19.0   196    196  \n",
       "20.0    29     29  \n",
       "21.0   209    209  \n",
       "22.0   155    155  \n",
       "23.0    52     52  \n",
       "24.0   101    101  \n",
       "25.0    19     19  \n",
       "26.0    89     89  \n",
       "27.0   119    119  \n",
       "28.0    89     89  \n",
       "29.0   120    120  \n",
       "30.0    26     26  \n",
       "31.0   215    215  "
      ]
     },
     "execution_count": 302,
     "metadata": {},
     "output_type": "execute_result"
    }
   ],
   "source": [
    "env_dist = cgss_wq[environmental].dropna().groupby('s41').agg('count')\n",
    "env_dist"
   ]
  },
  {
   "cell_type": "markdown",
   "metadata": {},
   "source": [
    "---\n",
    "### Education and Score"
   ]
  },
  {
   "cell_type": "code",
   "execution_count": 303,
   "metadata": {},
   "outputs": [
    {
     "data": {
      "text/html": [
       "<div>\n",
       "<style scoped>\n",
       "    .dataframe tbody tr th:only-of-type {\n",
       "        vertical-align: middle;\n",
       "    }\n",
       "\n",
       "    .dataframe tbody tr th {\n",
       "        vertical-align: top;\n",
       "    }\n",
       "\n",
       "    .dataframe thead th {\n",
       "        text-align: right;\n",
       "    }\n",
       "</style>\n",
       "<table border=\"1\" class=\"dataframe\">\n",
       "  <thead>\n",
       "    <tr style=\"text-align: right;\">\n",
       "      <th></th>\n",
       "      <th>score</th>\n",
       "      <th>s41</th>\n",
       "      <th>a2</th>\n",
       "      <th>a3a</th>\n",
       "      <th>a7a</th>\n",
       "      <th>a8a</th>\n",
       "      <th>a91</th>\n",
       "      <th>l1a</th>\n",
       "      <th>l1b</th>\n",
       "      <th>l6a</th>\n",
       "      <th>l6b</th>\n",
       "      <th>l7a</th>\n",
       "      <th>l7b</th>\n",
       "      <th>l8a</th>\n",
       "      <th>l8b</th>\n",
       "      <th>l137</th>\n",
       "      <th>l14d</th>\n",
       "      <th>l15a</th>\n",
       "      <th>l15b</th>\n",
       "      <th>l16c</th>\n",
       "      <th>l20e</th>\n",
       "      <th>l2409</th>\n",
       "      <th>province</th>\n",
       "      <th>province_en</th>\n",
       "    </tr>\n",
       "  </thead>\n",
       "  <tbody>\n",
       "    <tr>\n",
       "      <th>3</th>\n",
       "      <td>13.84</td>\n",
       "      <td>28.0</td>\n",
       "      <td>2</td>\n",
       "      <td>1948</td>\n",
       "      <td>1</td>\n",
       "      <td>0.0</td>\n",
       "      <td>2.0</td>\n",
       "      <td>8.0</td>\n",
       "      <td>2.0</td>\n",
       "      <td>4.0</td>\n",
       "      <td>8.0</td>\n",
       "      <td>98.0</td>\n",
       "      <td>98.0</td>\n",
       "      <td>8.0</td>\n",
       "      <td>8.0</td>\n",
       "      <td>2.0</td>\n",
       "      <td>8.0</td>\n",
       "      <td>8.0</td>\n",
       "      <td>8.0</td>\n",
       "      <td>8.0</td>\n",
       "      <td>4.0</td>\n",
       "      <td>8.0</td>\n",
       "      <td>重庆</td>\n",
       "      <td>Chongqing</td>\n",
       "    </tr>\n",
       "    <tr>\n",
       "      <th>5</th>\n",
       "      <td>13.84</td>\n",
       "      <td>28.0</td>\n",
       "      <td>1</td>\n",
       "      <td>1963</td>\n",
       "      <td>4</td>\n",
       "      <td>20000.0</td>\n",
       "      <td>2.0</td>\n",
       "      <td>2.0</td>\n",
       "      <td>6.0</td>\n",
       "      <td>4.0</td>\n",
       "      <td>2.0</td>\n",
       "      <td>3.0</td>\n",
       "      <td>6.0</td>\n",
       "      <td>4.0</td>\n",
       "      <td>4.0</td>\n",
       "      <td>4.0</td>\n",
       "      <td>2.0</td>\n",
       "      <td>8.0</td>\n",
       "      <td>2.0</td>\n",
       "      <td>2.0</td>\n",
       "      <td>2.0</td>\n",
       "      <td>8.0</td>\n",
       "      <td>重庆</td>\n",
       "      <td>Chongqing</td>\n",
       "    </tr>\n",
       "    <tr>\n",
       "      <th>6</th>\n",
       "      <td>13.84</td>\n",
       "      <td>28.0</td>\n",
       "      <td>1</td>\n",
       "      <td>1952</td>\n",
       "      <td>3</td>\n",
       "      <td>9999998.0</td>\n",
       "      <td>1.0</td>\n",
       "      <td>1.0</td>\n",
       "      <td>2.0</td>\n",
       "      <td>4.0</td>\n",
       "      <td>4.0</td>\n",
       "      <td>3.0</td>\n",
       "      <td>3.0</td>\n",
       "      <td>3.0</td>\n",
       "      <td>4.0</td>\n",
       "      <td>4.0</td>\n",
       "      <td>3.0</td>\n",
       "      <td>8.0</td>\n",
       "      <td>8.0</td>\n",
       "      <td>2.0</td>\n",
       "      <td>4.0</td>\n",
       "      <td>8.0</td>\n",
       "      <td>重庆</td>\n",
       "      <td>Chongqing</td>\n",
       "    </tr>\n",
       "    <tr>\n",
       "      <th>8</th>\n",
       "      <td>13.84</td>\n",
       "      <td>28.0</td>\n",
       "      <td>2</td>\n",
       "      <td>1973</td>\n",
       "      <td>3</td>\n",
       "      <td>4200.0</td>\n",
       "      <td>2.0</td>\n",
       "      <td>98.0</td>\n",
       "      <td>98.0</td>\n",
       "      <td>4.0</td>\n",
       "      <td>2.0</td>\n",
       "      <td>1.0</td>\n",
       "      <td>4.0</td>\n",
       "      <td>3.0</td>\n",
       "      <td>2.0</td>\n",
       "      <td>4.0</td>\n",
       "      <td>1.0</td>\n",
       "      <td>1.0</td>\n",
       "      <td>1.0</td>\n",
       "      <td>4.0</td>\n",
       "      <td>4.0</td>\n",
       "      <td>8.0</td>\n",
       "      <td>重庆</td>\n",
       "      <td>Chongqing</td>\n",
       "    </tr>\n",
       "    <tr>\n",
       "      <th>11</th>\n",
       "      <td>13.84</td>\n",
       "      <td>28.0</td>\n",
       "      <td>1</td>\n",
       "      <td>1964</td>\n",
       "      <td>4</td>\n",
       "      <td>5000.0</td>\n",
       "      <td>2.0</td>\n",
       "      <td>3.0</td>\n",
       "      <td>6.0</td>\n",
       "      <td>4.0</td>\n",
       "      <td>2.0</td>\n",
       "      <td>7.0</td>\n",
       "      <td>98.0</td>\n",
       "      <td>8.0</td>\n",
       "      <td>8.0</td>\n",
       "      <td>4.0</td>\n",
       "      <td>4.0</td>\n",
       "      <td>8.0</td>\n",
       "      <td>8.0</td>\n",
       "      <td>4.0</td>\n",
       "      <td>1.0</td>\n",
       "      <td>8.0</td>\n",
       "      <td>重庆</td>\n",
       "      <td>Chongqing</td>\n",
       "    </tr>\n",
       "    <tr>\n",
       "      <th>...</th>\n",
       "      <td>...</td>\n",
       "      <td>...</td>\n",
       "      <td>...</td>\n",
       "      <td>...</td>\n",
       "      <td>...</td>\n",
       "      <td>...</td>\n",
       "      <td>...</td>\n",
       "      <td>...</td>\n",
       "      <td>...</td>\n",
       "      <td>...</td>\n",
       "      <td>...</td>\n",
       "      <td>...</td>\n",
       "      <td>...</td>\n",
       "      <td>...</td>\n",
       "      <td>...</td>\n",
       "      <td>...</td>\n",
       "      <td>...</td>\n",
       "      <td>...</td>\n",
       "      <td>...</td>\n",
       "      <td>...</td>\n",
       "      <td>...</td>\n",
       "      <td>...</td>\n",
       "      <td>...</td>\n",
       "      <td>...</td>\n",
       "    </tr>\n",
       "    <tr>\n",
       "      <th>11770</th>\n",
       "      <td>17.93</td>\n",
       "      <td>8.0</td>\n",
       "      <td>2</td>\n",
       "      <td>1961</td>\n",
       "      <td>1</td>\n",
       "      <td>7500.0</td>\n",
       "      <td>1.0</td>\n",
       "      <td>8.0</td>\n",
       "      <td>6.0</td>\n",
       "      <td>5.0</td>\n",
       "      <td>1.0</td>\n",
       "      <td>4.0</td>\n",
       "      <td>4.0</td>\n",
       "      <td>2.0</td>\n",
       "      <td>2.0</td>\n",
       "      <td>5.0</td>\n",
       "      <td>1.0</td>\n",
       "      <td>1.0</td>\n",
       "      <td>2.0</td>\n",
       "      <td>2.0</td>\n",
       "      <td>2.0</td>\n",
       "      <td>8.0</td>\n",
       "      <td>宁夏</td>\n",
       "      <td>Ningxia</td>\n",
       "    </tr>\n",
       "    <tr>\n",
       "      <th>11773</th>\n",
       "      <td>17.93</td>\n",
       "      <td>8.0</td>\n",
       "      <td>2</td>\n",
       "      <td>1963</td>\n",
       "      <td>3</td>\n",
       "      <td>2600.0</td>\n",
       "      <td>1.0</td>\n",
       "      <td>2.0</td>\n",
       "      <td>6.0</td>\n",
       "      <td>5.0</td>\n",
       "      <td>4.0</td>\n",
       "      <td>6.0</td>\n",
       "      <td>6.0</td>\n",
       "      <td>2.0</td>\n",
       "      <td>2.0</td>\n",
       "      <td>2.0</td>\n",
       "      <td>3.0</td>\n",
       "      <td>1.0</td>\n",
       "      <td>2.0</td>\n",
       "      <td>4.0</td>\n",
       "      <td>2.0</td>\n",
       "      <td>8.0</td>\n",
       "      <td>宁夏</td>\n",
       "      <td>Ningxia</td>\n",
       "    </tr>\n",
       "    <tr>\n",
       "      <th>11774</th>\n",
       "      <td>17.93</td>\n",
       "      <td>8.0</td>\n",
       "      <td>1</td>\n",
       "      <td>1956</td>\n",
       "      <td>1</td>\n",
       "      <td>4500.0</td>\n",
       "      <td>1.0</td>\n",
       "      <td>1.0</td>\n",
       "      <td>2.0</td>\n",
       "      <td>5.0</td>\n",
       "      <td>4.0</td>\n",
       "      <td>6.0</td>\n",
       "      <td>6.0</td>\n",
       "      <td>1.0</td>\n",
       "      <td>2.0</td>\n",
       "      <td>2.0</td>\n",
       "      <td>4.0</td>\n",
       "      <td>2.0</td>\n",
       "      <td>2.0</td>\n",
       "      <td>5.0</td>\n",
       "      <td>4.0</td>\n",
       "      <td>1.0</td>\n",
       "      <td>宁夏</td>\n",
       "      <td>Ningxia</td>\n",
       "    </tr>\n",
       "    <tr>\n",
       "      <th>11775</th>\n",
       "      <td>17.93</td>\n",
       "      <td>8.0</td>\n",
       "      <td>2</td>\n",
       "      <td>1982</td>\n",
       "      <td>3</td>\n",
       "      <td>5000.0</td>\n",
       "      <td>2.0</td>\n",
       "      <td>8.0</td>\n",
       "      <td>2.0</td>\n",
       "      <td>2.0</td>\n",
       "      <td>2.0</td>\n",
       "      <td>8.0</td>\n",
       "      <td>3.0</td>\n",
       "      <td>1.0</td>\n",
       "      <td>1.0</td>\n",
       "      <td>1.0</td>\n",
       "      <td>3.0</td>\n",
       "      <td>2.0</td>\n",
       "      <td>2.0</td>\n",
       "      <td>1.0</td>\n",
       "      <td>4.0</td>\n",
       "      <td>1.0</td>\n",
       "      <td>宁夏</td>\n",
       "      <td>Ningxia</td>\n",
       "    </tr>\n",
       "    <tr>\n",
       "      <th>11780</th>\n",
       "      <td>17.93</td>\n",
       "      <td>8.0</td>\n",
       "      <td>2</td>\n",
       "      <td>1980</td>\n",
       "      <td>4</td>\n",
       "      <td>30000.0</td>\n",
       "      <td>1.0</td>\n",
       "      <td>2.0</td>\n",
       "      <td>8.0</td>\n",
       "      <td>5.0</td>\n",
       "      <td>2.0</td>\n",
       "      <td>2.0</td>\n",
       "      <td>3.0</td>\n",
       "      <td>4.0</td>\n",
       "      <td>4.0</td>\n",
       "      <td>2.0</td>\n",
       "      <td>2.0</td>\n",
       "      <td>2.0</td>\n",
       "      <td>2.0</td>\n",
       "      <td>3.0</td>\n",
       "      <td>2.0</td>\n",
       "      <td>2.0</td>\n",
       "      <td>宁夏</td>\n",
       "      <td>Ningxia</td>\n",
       "    </tr>\n",
       "  </tbody>\n",
       "</table>\n",
       "<p>3664 rows × 24 columns</p>\n",
       "</div>"
      ],
      "text/plain": [
       "       score   s41  a2   a3a  a7a        a8a  a91   l1a   l1b  l6a  l6b   l7a  \\\n",
       "3      13.84  28.0   2  1948    1        0.0  2.0   8.0   2.0  4.0  8.0  98.0   \n",
       "5      13.84  28.0   1  1963    4    20000.0  2.0   2.0   6.0  4.0  2.0   3.0   \n",
       "6      13.84  28.0   1  1952    3  9999998.0  1.0   1.0   2.0  4.0  4.0   3.0   \n",
       "8      13.84  28.0   2  1973    3     4200.0  2.0  98.0  98.0  4.0  2.0   1.0   \n",
       "11     13.84  28.0   1  1964    4     5000.0  2.0   3.0   6.0  4.0  2.0   7.0   \n",
       "...      ...   ...  ..   ...  ...        ...  ...   ...   ...  ...  ...   ...   \n",
       "11770  17.93   8.0   2  1961    1     7500.0  1.0   8.0   6.0  5.0  1.0   4.0   \n",
       "11773  17.93   8.0   2  1963    3     2600.0  1.0   2.0   6.0  5.0  4.0   6.0   \n",
       "11774  17.93   8.0   1  1956    1     4500.0  1.0   1.0   2.0  5.0  4.0   6.0   \n",
       "11775  17.93   8.0   2  1982    3     5000.0  2.0   8.0   2.0  2.0  2.0   8.0   \n",
       "11780  17.93   8.0   2  1980    4    30000.0  1.0   2.0   8.0  5.0  2.0   2.0   \n",
       "\n",
       "        l7b  l8a  l8b  l137  l14d  l15a  l15b  l16c  l20e  l2409 province  \\\n",
       "3      98.0  8.0  8.0   2.0   8.0   8.0   8.0   8.0   4.0    8.0       重庆   \n",
       "5       6.0  4.0  4.0   4.0   2.0   8.0   2.0   2.0   2.0    8.0       重庆   \n",
       "6       3.0  3.0  4.0   4.0   3.0   8.0   8.0   2.0   4.0    8.0       重庆   \n",
       "8       4.0  3.0  2.0   4.0   1.0   1.0   1.0   4.0   4.0    8.0       重庆   \n",
       "11     98.0  8.0  8.0   4.0   4.0   8.0   8.0   4.0   1.0    8.0       重庆   \n",
       "...     ...  ...  ...   ...   ...   ...   ...   ...   ...    ...      ...   \n",
       "11770   4.0  2.0  2.0   5.0   1.0   1.0   2.0   2.0   2.0    8.0       宁夏   \n",
       "11773   6.0  2.0  2.0   2.0   3.0   1.0   2.0   4.0   2.0    8.0       宁夏   \n",
       "11774   6.0  1.0  2.0   2.0   4.0   2.0   2.0   5.0   4.0    1.0       宁夏   \n",
       "11775   3.0  1.0  1.0   1.0   3.0   2.0   2.0   1.0   4.0    1.0       宁夏   \n",
       "11780   3.0  4.0  4.0   2.0   2.0   2.0   2.0   3.0   2.0    2.0       宁夏   \n",
       "\n",
       "      province_en  \n",
       "3       Chongqing  \n",
       "5       Chongqing  \n",
       "6       Chongqing  \n",
       "8       Chongqing  \n",
       "11      Chongqing  \n",
       "...           ...  \n",
       "11770     Ningxia  \n",
       "11773     Ningxia  \n",
       "11774     Ningxia  \n",
       "11775     Ningxia  \n",
       "11780     Ningxia  \n",
       "\n",
       "[3664 rows x 24 columns]"
      ]
     },
     "execution_count": 303,
     "metadata": {},
     "output_type": "execute_result"
    }
   ],
   "source": [
    "cgss_wq_a7a = cgss_wq[~cgss_wq['a7a'].isin([-3,14])].dropna()\n",
    "cgss_wq_a7a"
   ]
  },
  {
   "cell_type": "code",
   "execution_count": 304,
   "metadata": {},
   "outputs": [
    {
     "data": {
      "text/plain": [
       "<seaborn.axisgrid.FacetGrid at 0x138548610>"
      ]
     },
     "execution_count": 304,
     "metadata": {},
     "output_type": "execute_result"
    },
    {
     "data": {
      "image/png": "[encoded data removed]",
      "text/plain": [
       "<Figure size 403.93x360 with 1 Axes>"
      ]
     },
     "metadata": {},
     "output_type": "display_data"
    }
   ],
   "source": [
    "sns.lmplot(\n",
    "    data=cgss_wq_a7a,\n",
    "    x = 'a7a',\n",
    "    y = 'score',\n",
    "    x_estimator=np.mean,\n",
    "    hue='a91'\n",
    "    )"
   ]
  },
  {
   "cell_type": "code",
   "execution_count": null,
   "metadata": {},
   "outputs": [],
   "source": []
  }
 ],
 "metadata": {
  "kernelspec": {
   "display_name": "Python 3",
   "language": "python",
   "name": "python3"
  },
  "language_info": {
   "codemirror_mode": {
    "name": "ipython",
    "version": 3
   },
   "file_extension": ".py",
   "mimetype": "text/x-python",
   "name": "python",
   "nbconvert_exporter": "python",
   "pygments_lexer": "ipython3",
   "version": "3.9.2"
  }
 },
 "nbformat": 4,
 "nbformat_minor": 4
}
